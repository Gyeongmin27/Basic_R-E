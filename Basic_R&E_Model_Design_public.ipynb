{
  "cells": [
    {
      "cell_type": "markdown",
      "metadata": {
        "id": "l6LU6d9ZqoM7"
      },
      "source": [
        "R&E Model 설계용 ipynb"
      ]
    },
    {
      "cell_type": "markdown",
      "metadata": {
        "id": "m_4-t2e6qujg"
      },
      "source": [
        "Summary<br>\n",
        "semi-supervised learning 기법을 이용하여 SNS Text Sentiment Analysis의 정확도를 높이는 방법을 연구하였다. 다양한 주제의 유튜브 영상 댓글, 대댓글과 Korean Hate Speech data set을 학습에 이용했다. Teacher model인 KcELECTRA(user generated, noisy text에서 높은 성능을 보임)를 통해 SNS Text의 특성을 고려한 column, domain정보에 관한 column, sentiment analysis 결과(긍정, 중립, 부정)를 나타내는 column으로 pseudo-labeling을 진행해 pseudo-label이 붙은 data를 만들었다. 이를 이용해 GPT-3, Clova sentiment, KcELECTRA, 3개의 Student model을 self-training 형식으로 학습했다. in-domain data(domain data)를 고려한 모델과 그렇지 않은 모델로 나누었고, 실험 시 전체 또는 일부의 column(in-domain data 제외)을 선택하여 모델을 훈련했다. SNS Text feature를 고려했을 때, SNS Text feature, domain data를 같이 고려했을 때 훈련시킨 모델과 KcELECTRA의 학습속도, acc 등을 비교했다. 가장 좋은 결과가 나온 Student model의 column을 바탕으로 SNS Text Sentiment Analysis 모델을 설계 및 개선하였다."
      ]
    },
    {
      "cell_type": "markdown",
      "metadata": {
        "id": "dtkipqWFFRD9"
      },
      "source": [
        "Check_list for running\n",
        "1. labeled xlsx file \n",
        "2. Gdrive file & folder path\n",
        "3. API key"
      ]
    },
    {
      "cell_type": "markdown",
      "metadata": {
        "id": "jmblDV8Xo3wx"
      },
      "source": [
        "colab의 For_net_file_label에서 코드 확인<br>1. test set 나누기 및 train set과 분리<br>2. null 확인<br>3. 개수 확인<br>4. preprocessing data 확인"
      ]
    },
    {
      "cell_type": "markdown",
      "metadata": {
        "id": "9LHGIdEVF5F1"
      },
      "source": [
        "Mounting"
      ]
    },
    {
      "cell_type": "code",
      "execution_count": null,
      "metadata": {
        "colab": {
          "base_uri": "https://localhost:8080/"
        },
        "id": "koSCQHrYF4DW",
        "outputId": "ff3f5a2a-5991-4a52-ca35-dd43f5e26f94"
      },
      "outputs": [
        {
          "name": "stdout",
          "output_type": "stream",
          "text": [
            "Mounted at /content/drive\n"
          ]
        }
      ],
      "source": [
        "from google.colab import drive\n",
        "drive.mount('/content/drive')"
      ]
    },
    {
      "cell_type": "markdown",
      "metadata": {
        "id": "pKftiFIlM8LF"
      },
      "source": [
        "Cloning"
      ]
    },
    {
      "cell_type": "code",
      "execution_count": null,
      "metadata": {
        "colab": {
          "base_uri": "https://localhost:8080/"
        },
        "id": "U_uav5m2M7rt",
        "outputId": "beb589e4-8cda-4193-bef4-4b58056663f8"
      },
      "outputs": [
        {
          "name": "stdout",
          "output_type": "stream",
          "text": [
            "Cloning into 'gpt3-sandbox'...\n",
            "remote: Enumerating objects: 2471, done.\u001b[K\n",
            "remote: Counting objects: 100% (67/67), done.\u001b[K\n",
            "remote: Compressing objects: 100% (66/66), done.\u001b[K\n",
            "remote: Total 2471 (delta 31), reused 7 (delta 1), pack-reused 2404\u001b[K\n",
            "Receiving objects: 100% (2471/2471), 5.47 MiB | 17.68 MiB/s, done.\n",
            "Resolving deltas: 100% (698/698), done.\n"
          ]
        }
      ],
      "source": [
        "!git clone https://github.com/shreyashankar/gpt3-sandbox.git\n",
        "!cd gpt3-sandbox"
      ]
    },
    {
      "cell_type": "markdown",
      "metadata": {
        "id": "Az8-k8lKSlWm"
      },
      "source": [
        "install library"
      ]
    },
    {
      "cell_type": "code",
      "execution_count": null,
      "metadata": {
        "colab": {
          "base_uri": "https://localhost:8080/"
        },
        "id": "MlXk2YbRSk9V",
        "outputId": "c86c7ff6-f257-42e8-9f0c-283c41ff98d2"
      },
      "outputs": [
        {
          "name": "stdout",
          "output_type": "stream",
          "text": [
            "Looking in indexes: https://pypi.org/simple, https://us-python.pkg.dev/colab-wheels/public/simple/\n",
            "Requirement already satisfied: google-api-python-client in /usr/local/lib/python3.7/dist-packages (1.12.11)\n",
            "Requirement already satisfied: google-auth-httplib2>=0.0.3 in /usr/local/lib/python3.7/dist-packages (from google-api-python-client) (0.0.4)\n",
            "Requirement already satisfied: google-auth<3dev,>=1.16.0 in /usr/local/lib/python3.7/dist-packages (from google-api-python-client) (1.35.0)\n",
            "Requirement already satisfied: uritemplate<4dev,>=3.0.0 in /usr/local/lib/python3.7/dist-packages (from google-api-python-client) (3.0.1)\n",
            "Requirement already satisfied: six<2dev,>=1.13.0 in /usr/local/lib/python3.7/dist-packages (from google-api-python-client) (1.15.0)\n",
            "Requirement already satisfied: httplib2<1dev,>=0.15.0 in /usr/local/lib/python3.7/dist-packages (from google-api-python-client) (0.17.4)\n",
            "Requirement already satisfied: google-api-core<3dev,>=1.21.0 in /usr/local/lib/python3.7/dist-packages (from google-api-python-client) (1.31.6)\n",
            "Requirement already satisfied: packaging>=14.3 in /usr/local/lib/python3.7/dist-packages (from google-api-core<3dev,>=1.21.0->google-api-python-client) (21.3)\n",
            "Requirement already satisfied: setuptools>=40.3.0 in /usr/local/lib/python3.7/dist-packages (from google-api-core<3dev,>=1.21.0->google-api-python-client) (57.4.0)\n",
            "Requirement already satisfied: protobuf<4.0.0dev,>=3.12.0 in /usr/local/lib/python3.7/dist-packages (from google-api-core<3dev,>=1.21.0->google-api-python-client) (3.17.3)\n",
            "Requirement already satisfied: requests<3.0.0dev,>=2.18.0 in /usr/local/lib/python3.7/dist-packages (from google-api-core<3dev,>=1.21.0->google-api-python-client) (2.23.0)\n",
            "Requirement already satisfied: googleapis-common-protos<2.0dev,>=1.6.0 in /usr/local/lib/python3.7/dist-packages (from google-api-core<3dev,>=1.21.0->google-api-python-client) (1.56.4)\n",
            "Requirement already satisfied: pytz in /usr/local/lib/python3.7/dist-packages (from google-api-core<3dev,>=1.21.0->google-api-python-client) (2022.2.1)\n",
            "Requirement already satisfied: cachetools<5.0,>=2.0.0 in /usr/local/lib/python3.7/dist-packages (from google-auth<3dev,>=1.16.0->google-api-python-client) (4.2.4)\n",
            "Requirement already satisfied: pyasn1-modules>=0.2.1 in /usr/local/lib/python3.7/dist-packages (from google-auth<3dev,>=1.16.0->google-api-python-client) (0.2.8)\n",
            "Requirement already satisfied: rsa<5,>=3.1.4 in /usr/local/lib/python3.7/dist-packages (from google-auth<3dev,>=1.16.0->google-api-python-client) (4.9)\n",
            "Requirement already satisfied: pyparsing!=3.0.5,>=2.0.2 in /usr/local/lib/python3.7/dist-packages (from packaging>=14.3->google-api-core<3dev,>=1.21.0->google-api-python-client) (3.0.9)\n",
            "Requirement already satisfied: pyasn1<0.5.0,>=0.4.6 in /usr/local/lib/python3.7/dist-packages (from pyasn1-modules>=0.2.1->google-auth<3dev,>=1.16.0->google-api-python-client) (0.4.8)\n",
            "Requirement already satisfied: urllib3!=1.25.0,!=1.25.1,<1.26,>=1.21.1 in /usr/local/lib/python3.7/dist-packages (from requests<3.0.0dev,>=2.18.0->google-api-core<3dev,>=1.21.0->google-api-python-client) (1.24.3)\n",
            "Requirement already satisfied: certifi>=2017.4.17 in /usr/local/lib/python3.7/dist-packages (from requests<3.0.0dev,>=2.18.0->google-api-core<3dev,>=1.21.0->google-api-python-client) (2022.6.15)\n",
            "Requirement already satisfied: idna<3,>=2.5 in /usr/local/lib/python3.7/dist-packages (from requests<3.0.0dev,>=2.18.0->google-api-core<3dev,>=1.21.0->google-api-python-client) (2.10)\n",
            "Requirement already satisfied: chardet<4,>=3.0.2 in /usr/local/lib/python3.7/dist-packages (from requests<3.0.0dev,>=2.18.0->google-api-core<3dev,>=1.21.0->google-api-python-client) (3.0.4)\n",
            "Looking in indexes: https://pypi.org/simple, https://us-python.pkg.dev/colab-wheels/public/simple/\n",
            "Requirement already satisfied: seaborn in /usr/local/lib/python3.7/dist-packages (0.11.2)\n",
            "Requirement already satisfied: pandas>=0.23 in /usr/local/lib/python3.7/dist-packages (from seaborn) (1.3.5)\n",
            "Requirement already satisfied: numpy>=1.15 in /usr/local/lib/python3.7/dist-packages (from seaborn) (1.21.6)\n",
            "Requirement already satisfied: scipy>=1.0 in /usr/local/lib/python3.7/dist-packages (from seaborn) (1.7.3)\n",
            "Requirement already satisfied: matplotlib>=2.2 in /usr/local/lib/python3.7/dist-packages (from seaborn) (3.2.2)\n",
            "Requirement already satisfied: python-dateutil>=2.1 in /usr/local/lib/python3.7/dist-packages (from matplotlib>=2.2->seaborn) (2.8.2)\n",
            "Requirement already satisfied: pyparsing!=2.0.4,!=2.1.2,!=2.1.6,>=2.0.1 in /usr/local/lib/python3.7/dist-packages (from matplotlib>=2.2->seaborn) (3.0.9)\n",
            "Requirement already satisfied: cycler>=0.10 in /usr/local/lib/python3.7/dist-packages (from matplotlib>=2.2->seaborn) (0.11.0)\n",
            "Requirement already satisfied: kiwisolver>=1.0.1 in /usr/local/lib/python3.7/dist-packages (from matplotlib>=2.2->seaborn) (1.4.4)\n",
            "Requirement already satisfied: typing-extensions in /usr/local/lib/python3.7/dist-packages (from kiwisolver>=1.0.1->matplotlib>=2.2->seaborn) (4.1.1)\n",
            "Requirement already satisfied: pytz>=2017.3 in /usr/local/lib/python3.7/dist-packages (from pandas>=0.23->seaborn) (2022.2.1)\n",
            "Requirement already satisfied: six>=1.5 in /usr/local/lib/python3.7/dist-packages (from python-dateutil>=2.1->matplotlib>=2.2->seaborn) (1.15.0)\n",
            "Looking in indexes: https://pypi.org/simple, https://us-python.pkg.dev/colab-wheels/public/simple/\n",
            "Collecting soynlp\n",
            "  Downloading soynlp-0.0.493-py3-none-any.whl (416 kB)\n",
            "\u001b[K     |████████████████████████████████| 416 kB 4.8 MB/s \n",
            "\u001b[?25hRequirement already satisfied: scipy>=1.1.0 in /usr/local/lib/python3.7/dist-packages (from soynlp) (1.7.3)\n",
            "Requirement already satisfied: numpy>=1.12.1 in /usr/local/lib/python3.7/dist-packages (from soynlp) (1.21.6)\n",
            "Requirement already satisfied: psutil>=5.0.1 in /usr/local/lib/python3.7/dist-packages (from soynlp) (5.4.8)\n",
            "Requirement already satisfied: scikit-learn>=0.20.0 in /usr/local/lib/python3.7/dist-packages (from soynlp) (1.0.2)\n",
            "Requirement already satisfied: threadpoolctl>=2.0.0 in /usr/local/lib/python3.7/dist-packages (from scikit-learn>=0.20.0->soynlp) (3.1.0)\n",
            "Requirement already satisfied: joblib>=0.11 in /usr/local/lib/python3.7/dist-packages (from scikit-learn>=0.20.0->soynlp) (1.1.0)\n",
            "Installing collected packages: soynlp\n",
            "Successfully installed soynlp-0.0.493\n",
            "Looking in indexes: https://pypi.org/simple, https://us-python.pkg.dev/colab-wheels/public/simple/\n",
            "Collecting openai\n",
            "  Downloading openai-0.23.0.tar.gz (43 kB)\n",
            "\u001b[K     |████████████████████████████████| 43 kB 1.5 MB/s \n",
            "\u001b[?25h  Installing build dependencies ... \u001b[?25l\u001b[?25hdone\n",
            "  Getting requirements to build wheel ... \u001b[?25l\u001b[?25hdone\n",
            "    Preparing wheel metadata ... \u001b[?25l\u001b[?25hdone\n",
            "Requirement already satisfied: numpy in /usr/local/lib/python3.7/dist-packages (from openai) (1.21.6)\n",
            "Requirement already satisfied: pandas>=1.2.3 in /usr/local/lib/python3.7/dist-packages (from openai) (1.3.5)\n",
            "Requirement already satisfied: openpyxl>=3.0.7 in /usr/local/lib/python3.7/dist-packages (from openai) (3.0.10)\n",
            "Requirement already satisfied: typing-extensions in /usr/local/lib/python3.7/dist-packages (from openai) (4.1.1)\n",
            "Requirement already satisfied: requests>=2.20 in /usr/local/lib/python3.7/dist-packages (from openai) (2.23.0)\n",
            "Requirement already satisfied: tqdm in /usr/local/lib/python3.7/dist-packages (from openai) (4.64.1)\n",
            "Collecting pandas-stubs>=1.1.0.11\n",
            "  Downloading pandas_stubs-1.2.0.62-py3-none-any.whl (163 kB)\n",
            "\u001b[K     |████████████████████████████████| 163 kB 8.6 MB/s \n",
            "\u001b[?25hRequirement already satisfied: et-xmlfile in /usr/local/lib/python3.7/dist-packages (from openpyxl>=3.0.7->openai) (1.1.0)\n",
            "Requirement already satisfied: pytz>=2017.3 in /usr/local/lib/python3.7/dist-packages (from pandas>=1.2.3->openai) (2022.2.1)\n",
            "Requirement already satisfied: python-dateutil>=2.7.3 in /usr/local/lib/python3.7/dist-packages (from pandas>=1.2.3->openai) (2.8.2)\n",
            "Requirement already satisfied: six>=1.5 in /usr/local/lib/python3.7/dist-packages (from python-dateutil>=2.7.3->pandas>=1.2.3->openai) (1.15.0)\n",
            "Requirement already satisfied: urllib3!=1.25.0,!=1.25.1,<1.26,>=1.21.1 in /usr/local/lib/python3.7/dist-packages (from requests>=2.20->openai) (1.24.3)\n",
            "Requirement already satisfied: certifi>=2017.4.17 in /usr/local/lib/python3.7/dist-packages (from requests>=2.20->openai) (2022.6.15)\n",
            "Requirement already satisfied: chardet<4,>=3.0.2 in /usr/local/lib/python3.7/dist-packages (from requests>=2.20->openai) (3.0.4)\n",
            "Requirement already satisfied: idna<3,>=2.5 in /usr/local/lib/python3.7/dist-packages (from requests>=2.20->openai) (2.10)\n",
            "Building wheels for collected packages: openai\n",
            "  Building wheel for openai (PEP 517) ... \u001b[?25l\u001b[?25hdone\n",
            "  Created wheel for openai: filename=openai-0.23.0-py3-none-any.whl size=54478 sha256=8c1b09af7174c63dbfe7429a6f28f06da8bfc61efa9f5c1d76800ab2b881d7ad\n",
            "  Stored in directory: /root/.cache/pip/wheels/70/d5/31/f9f67660319d89e4f54501d27b1e90f88a3309c42ea4fd734c\n",
            "Successfully built openai\n",
            "Installing collected packages: pandas-stubs, openai\n",
            "Successfully installed openai-0.23.0 pandas-stubs-1.2.0.62\n",
            "Looking in indexes: https://pypi.org/simple, https://us-python.pkg.dev/colab-wheels/public/simple/\n",
            "Collecting api\n",
            "  Downloading api-0.0.7.tar.gz (2.2 kB)\n",
            "Requirement already satisfied: requests in /usr/local/lib/python3.7/dist-packages (from api) (2.23.0)\n",
            "Collecting nose\n",
            "  Downloading nose-1.3.7-py3-none-any.whl (154 kB)\n",
            "\u001b[K     |████████████████████████████████| 154 kB 5.1 MB/s \n",
            "\u001b[?25hRequirement already satisfied: certifi>=2017.4.17 in /usr/local/lib/python3.7/dist-packages (from requests->api) (2022.6.15)\n",
            "Requirement already satisfied: chardet<4,>=3.0.2 in /usr/local/lib/python3.7/dist-packages (from requests->api) (3.0.4)\n",
            "Requirement already satisfied: idna<3,>=2.5 in /usr/local/lib/python3.7/dist-packages (from requests->api) (2.10)\n",
            "Requirement already satisfied: urllib3!=1.25.0,!=1.25.1,<1.26,>=1.21.1 in /usr/local/lib/python3.7/dist-packages (from requests->api) (1.24.3)\n",
            "Building wheels for collected packages: api\n",
            "  Building wheel for api (setup.py) ... \u001b[?25l\u001b[?25hdone\n",
            "  Created wheel for api: filename=api-0.0.7-py3-none-any.whl size=2325 sha256=92f5149a4da306812495903b61d7be76aec1fb5dc489b4c965f9f114c4d87645\n",
            "  Stored in directory: /root/.cache/pip/wheels/f4/38/af/83aa61fa8d7188f23479b75bbab8c2881f9887553e5d9fbb57\n",
            "Successfully built api\n",
            "Installing collected packages: nose, api\n",
            "Successfully installed api-0.0.7 nose-1.3.7\n",
            "Looking in indexes: https://pypi.org/simple, https://us-python.pkg.dev/colab-wheels/public/simple/\n",
            "Collecting Transformers\n",
            "  Downloading transformers-4.22.1-py3-none-any.whl (4.9 MB)\n",
            "\u001b[K     |████████████████████████████████| 4.9 MB 5.1 MB/s \n",
            "\u001b[?25hRequirement already satisfied: tqdm>=4.27 in /usr/local/lib/python3.7/dist-packages (from Transformers) (4.64.1)\n",
            "Requirement already satisfied: packaging>=20.0 in /usr/local/lib/python3.7/dist-packages (from Transformers) (21.3)\n",
            "Requirement already satisfied: regex!=2019.12.17 in /usr/local/lib/python3.7/dist-packages (from Transformers) (2022.6.2)\n",
            "Requirement already satisfied: numpy>=1.17 in /usr/local/lib/python3.7/dist-packages (from Transformers) (1.21.6)\n",
            "Requirement already satisfied: importlib-metadata in /usr/local/lib/python3.7/dist-packages (from Transformers) (4.12.0)\n",
            "Requirement already satisfied: pyyaml>=5.1 in /usr/local/lib/python3.7/dist-packages (from Transformers) (6.0)\n",
            "Collecting huggingface-hub<1.0,>=0.9.0\n",
            "  Downloading huggingface_hub-0.9.1-py3-none-any.whl (120 kB)\n",
            "\u001b[K     |████████████████████████████████| 120 kB 62.9 MB/s \n",
            "\u001b[?25hCollecting tokenizers!=0.11.3,<0.13,>=0.11.1\n",
            "  Downloading tokenizers-0.12.1-cp37-cp37m-manylinux_2_12_x86_64.manylinux2010_x86_64.whl (6.6 MB)\n",
            "\u001b[K     |████████████████████████████████| 6.6 MB 54.5 MB/s \n",
            "\u001b[?25hRequirement already satisfied: requests in /usr/local/lib/python3.7/dist-packages (from Transformers) (2.23.0)\n",
            "Requirement already satisfied: filelock in /usr/local/lib/python3.7/dist-packages (from Transformers) (3.8.0)\n",
            "Requirement already satisfied: typing-extensions>=3.7.4.3 in /usr/local/lib/python3.7/dist-packages (from huggingface-hub<1.0,>=0.9.0->Transformers) (4.1.1)\n",
            "Requirement already satisfied: pyparsing!=3.0.5,>=2.0.2 in /usr/local/lib/python3.7/dist-packages (from packaging>=20.0->Transformers) (3.0.9)\n",
            "Requirement already satisfied: zipp>=0.5 in /usr/local/lib/python3.7/dist-packages (from importlib-metadata->Transformers) (3.8.1)\n",
            "Requirement already satisfied: chardet<4,>=3.0.2 in /usr/local/lib/python3.7/dist-packages (from requests->Transformers) (3.0.4)\n",
            "Requirement already satisfied: idna<3,>=2.5 in /usr/local/lib/python3.7/dist-packages (from requests->Transformers) (2.10)\n",
            "Requirement already satisfied: certifi>=2017.4.17 in /usr/local/lib/python3.7/dist-packages (from requests->Transformers) (2022.6.15)\n",
            "Requirement already satisfied: urllib3!=1.25.0,!=1.25.1,<1.26,>=1.21.1 in /usr/local/lib/python3.7/dist-packages (from requests->Transformers) (1.24.3)\n",
            "Installing collected packages: tokenizers, huggingface-hub, Transformers\n",
            "Successfully installed Transformers-4.22.1 huggingface-hub-0.9.1 tokenizers-0.12.1\n",
            "Looking in indexes: https://pypi.org/simple, https://us-python.pkg.dev/colab-wheels/public/simple/\n",
            "Collecting emoji\n",
            "  Downloading emoji-2.1.0.tar.gz (216 kB)\n",
            "\u001b[K     |████████████████████████████████| 216 kB 5.1 MB/s \n",
            "\u001b[?25hBuilding wheels for collected packages: emoji\n",
            "  Building wheel for emoji (setup.py) ... \u001b[?25l\u001b[?25hdone\n",
            "  Created wheel for emoji: filename=emoji-2.1.0-py3-none-any.whl size=212392 sha256=1d02c24fe244c19384dda92d22637172a879a38815d14805a0ddd65e2aa8ca1d\n",
            "  Stored in directory: /root/.cache/pip/wheels/77/75/99/51c2a119f4cfd3af7b49cc57e4f737bed7e40b348a85d82804\n",
            "Successfully built emoji\n",
            "Installing collected packages: emoji\n",
            "Successfully installed emoji-2.1.0\n",
            "Looking in indexes: https://pypi.org/simple, https://us-python.pkg.dev/colab-wheels/public/simple/\n",
            "Collecting pytorch_lightning\n",
            "  Downloading pytorch_lightning-1.7.7-py3-none-any.whl (708 kB)\n",
            "\u001b[K     |████████████████████████████████| 708 kB 5.1 MB/s \n",
            "\u001b[?25hRequirement already satisfied: tqdm>=4.57.0 in /usr/local/lib/python3.7/dist-packages (from pytorch_lightning) (4.64.1)\n",
            "Requirement already satisfied: typing-extensions>=4.0.0 in /usr/local/lib/python3.7/dist-packages (from pytorch_lightning) (4.1.1)\n",
            "Collecting pyDeprecate>=0.3.1\n",
            "  Downloading pyDeprecate-0.3.2-py3-none-any.whl (10 kB)\n",
            "Requirement already satisfied: packaging>=17.0 in /usr/local/lib/python3.7/dist-packages (from pytorch_lightning) (21.3)\n",
            "Collecting torchmetrics>=0.7.0\n",
            "  Downloading torchmetrics-0.9.3-py3-none-any.whl (419 kB)\n",
            "\u001b[K     |████████████████████████████████| 419 kB 55.5 MB/s \n",
            "\u001b[?25hRequirement already satisfied: PyYAML>=5.4 in /usr/local/lib/python3.7/dist-packages (from pytorch_lightning) (6.0)\n",
            "Requirement already satisfied: torch>=1.9.* in /usr/local/lib/python3.7/dist-packages (from pytorch_lightning) (1.12.1+cu113)\n",
            "Requirement already satisfied: numpy>=1.17.2 in /usr/local/lib/python3.7/dist-packages (from pytorch_lightning) (1.21.6)\n",
            "Collecting tensorboard>=2.9.1\n",
            "  Downloading tensorboard-2.10.1-py3-none-any.whl (5.9 MB)\n",
            "\u001b[K     |████████████████████████████████| 5.9 MB 56.9 MB/s \n",
            "\u001b[?25hRequirement already satisfied: fsspec[http]!=2021.06.0,>=2021.05.0 in /usr/local/lib/python3.7/dist-packages (from pytorch_lightning) (2022.8.2)\n",
            "Requirement already satisfied: requests in /usr/local/lib/python3.7/dist-packages (from fsspec[http]!=2021.06.0,>=2021.05.0->pytorch_lightning) (2.23.0)\n",
            "Requirement already satisfied: aiohttp!=4.0.0a0,!=4.0.0a1 in /usr/local/lib/python3.7/dist-packages (from fsspec[http]!=2021.06.0,>=2021.05.0->pytorch_lightning) (3.8.1)\n",
            "Requirement already satisfied: aiosignal>=1.1.2 in /usr/local/lib/python3.7/dist-packages (from aiohttp!=4.0.0a0,!=4.0.0a1->fsspec[http]!=2021.06.0,>=2021.05.0->pytorch_lightning) (1.2.0)\n",
            "Requirement already satisfied: attrs>=17.3.0 in /usr/local/lib/python3.7/dist-packages (from aiohttp!=4.0.0a0,!=4.0.0a1->fsspec[http]!=2021.06.0,>=2021.05.0->pytorch_lightning) (22.1.0)\n",
            "Requirement already satisfied: frozenlist>=1.1.1 in /usr/local/lib/python3.7/dist-packages (from aiohttp!=4.0.0a0,!=4.0.0a1->fsspec[http]!=2021.06.0,>=2021.05.0->pytorch_lightning) (1.3.1)\n",
            "Requirement already satisfied: multidict<7.0,>=4.5 in /usr/local/lib/python3.7/dist-packages (from aiohttp!=4.0.0a0,!=4.0.0a1->fsspec[http]!=2021.06.0,>=2021.05.0->pytorch_lightning) (6.0.2)\n",
            "Requirement already satisfied: async-timeout<5.0,>=4.0.0a3 in /usr/local/lib/python3.7/dist-packages (from aiohttp!=4.0.0a0,!=4.0.0a1->fsspec[http]!=2021.06.0,>=2021.05.0->pytorch_lightning) (4.0.2)\n",
            "Requirement already satisfied: charset-normalizer<3.0,>=2.0 in /usr/local/lib/python3.7/dist-packages (from aiohttp!=4.0.0a0,!=4.0.0a1->fsspec[http]!=2021.06.0,>=2021.05.0->pytorch_lightning) (2.1.1)\n",
            "Requirement already satisfied: asynctest==0.13.0 in /usr/local/lib/python3.7/dist-packages (from aiohttp!=4.0.0a0,!=4.0.0a1->fsspec[http]!=2021.06.0,>=2021.05.0->pytorch_lightning) (0.13.0)\n",
            "Requirement already satisfied: yarl<2.0,>=1.0 in /usr/local/lib/python3.7/dist-packages (from aiohttp!=4.0.0a0,!=4.0.0a1->fsspec[http]!=2021.06.0,>=2021.05.0->pytorch_lightning) (1.8.1)\n",
            "Requirement already satisfied: pyparsing!=3.0.5,>=2.0.2 in /usr/local/lib/python3.7/dist-packages (from packaging>=17.0->pytorch_lightning) (3.0.9)\n",
            "Requirement already satisfied: wheel>=0.26 in /usr/local/lib/python3.7/dist-packages (from tensorboard>=2.9.1->pytorch_lightning) (0.37.1)\n",
            "Requirement already satisfied: google-auth-oauthlib<0.5,>=0.4.1 in /usr/local/lib/python3.7/dist-packages (from tensorboard>=2.9.1->pytorch_lightning) (0.4.6)\n",
            "Requirement already satisfied: werkzeug>=1.0.1 in /usr/local/lib/python3.7/dist-packages (from tensorboard>=2.9.1->pytorch_lightning) (1.0.1)\n",
            "Requirement already satisfied: setuptools>=41.0.0 in /usr/local/lib/python3.7/dist-packages (from tensorboard>=2.9.1->pytorch_lightning) (57.4.0)\n",
            "Requirement already satisfied: google-auth<3,>=1.6.3 in /usr/local/lib/python3.7/dist-packages (from tensorboard>=2.9.1->pytorch_lightning) (1.35.0)\n",
            "Requirement already satisfied: grpcio>=1.24.3 in /usr/local/lib/python3.7/dist-packages (from tensorboard>=2.9.1->pytorch_lightning) (1.48.1)\n",
            "Requirement already satisfied: tensorboard-data-server<0.7.0,>=0.6.0 in /usr/local/lib/python3.7/dist-packages (from tensorboard>=2.9.1->pytorch_lightning) (0.6.1)\n",
            "Requirement already satisfied: protobuf<3.20,>=3.9.2 in /usr/local/lib/python3.7/dist-packages (from tensorboard>=2.9.1->pytorch_lightning) (3.17.3)\n",
            "Requirement already satisfied: markdown>=2.6.8 in /usr/local/lib/python3.7/dist-packages (from tensorboard>=2.9.1->pytorch_lightning) (3.4.1)\n",
            "Requirement already satisfied: tensorboard-plugin-wit>=1.6.0 in /usr/local/lib/python3.7/dist-packages (from tensorboard>=2.9.1->pytorch_lightning) (1.8.1)\n",
            "Requirement already satisfied: absl-py>=0.4 in /usr/local/lib/python3.7/dist-packages (from tensorboard>=2.9.1->pytorch_lightning) (1.2.0)\n",
            "Requirement already satisfied: pyasn1-modules>=0.2.1 in /usr/local/lib/python3.7/dist-packages (from google-auth<3,>=1.6.3->tensorboard>=2.9.1->pytorch_lightning) (0.2.8)\n",
            "Requirement already satisfied: cachetools<5.0,>=2.0.0 in /usr/local/lib/python3.7/dist-packages (from google-auth<3,>=1.6.3->tensorboard>=2.9.1->pytorch_lightning) (4.2.4)\n",
            "Requirement already satisfied: six>=1.9.0 in /usr/local/lib/python3.7/dist-packages (from google-auth<3,>=1.6.3->tensorboard>=2.9.1->pytorch_lightning) (1.15.0)\n",
            "Requirement already satisfied: rsa<5,>=3.1.4 in /usr/local/lib/python3.7/dist-packages (from google-auth<3,>=1.6.3->tensorboard>=2.9.1->pytorch_lightning) (4.9)\n",
            "Requirement already satisfied: requests-oauthlib>=0.7.0 in /usr/local/lib/python3.7/dist-packages (from google-auth-oauthlib<0.5,>=0.4.1->tensorboard>=2.9.1->pytorch_lightning) (1.3.1)\n",
            "Requirement already satisfied: importlib-metadata>=4.4 in /usr/local/lib/python3.7/dist-packages (from markdown>=2.6.8->tensorboard>=2.9.1->pytorch_lightning) (4.12.0)\n",
            "Requirement already satisfied: zipp>=0.5 in /usr/local/lib/python3.7/dist-packages (from importlib-metadata>=4.4->markdown>=2.6.8->tensorboard>=2.9.1->pytorch_lightning) (3.8.1)\n",
            "Requirement already satisfied: pyasn1<0.5.0,>=0.4.6 in /usr/local/lib/python3.7/dist-packages (from pyasn1-modules>=0.2.1->google-auth<3,>=1.6.3->tensorboard>=2.9.1->pytorch_lightning) (0.4.8)\n",
            "Requirement already satisfied: idna<3,>=2.5 in /usr/local/lib/python3.7/dist-packages (from requests->fsspec[http]!=2021.06.0,>=2021.05.0->pytorch_lightning) (2.10)\n",
            "Requirement already satisfied: urllib3!=1.25.0,!=1.25.1,<1.26,>=1.21.1 in /usr/local/lib/python3.7/dist-packages (from requests->fsspec[http]!=2021.06.0,>=2021.05.0->pytorch_lightning) (1.24.3)\n",
            "Requirement already satisfied: certifi>=2017.4.17 in /usr/local/lib/python3.7/dist-packages (from requests->fsspec[http]!=2021.06.0,>=2021.05.0->pytorch_lightning) (2022.6.15)\n",
            "Requirement already satisfied: chardet<4,>=3.0.2 in /usr/local/lib/python3.7/dist-packages (from requests->fsspec[http]!=2021.06.0,>=2021.05.0->pytorch_lightning) (3.0.4)\n",
            "Requirement already satisfied: oauthlib>=3.0.0 in /usr/local/lib/python3.7/dist-packages (from requests-oauthlib>=0.7.0->google-auth-oauthlib<0.5,>=0.4.1->tensorboard>=2.9.1->pytorch_lightning) (3.2.0)\n",
            "Installing collected packages: torchmetrics, tensorboard, pyDeprecate, pytorch-lightning\n",
            "  Attempting uninstall: tensorboard\n",
            "    Found existing installation: tensorboard 2.8.0\n",
            "    Uninstalling tensorboard-2.8.0:\n",
            "      Successfully uninstalled tensorboard-2.8.0\n",
            "\u001b[31mERROR: pip's dependency resolver does not currently take into account all the packages that are installed. This behaviour is the source of the following dependency conflicts.\n",
            "tensorflow 2.8.2+zzzcolab20220719082949 requires tensorboard<2.9,>=2.8, but you have tensorboard 2.10.1 which is incompatible.\u001b[0m\n",
            "Successfully installed pyDeprecate-0.3.2 pytorch-lightning-1.7.7 tensorboard-2.10.1 torchmetrics-0.9.3\n",
            "Looking in indexes: https://pypi.org/simple, https://us-python.pkg.dev/colab-wheels/public/simple/\n",
            "Requirement already satisfied: tensorflow in /usr/local/lib/python3.7/dist-packages (2.8.2+zzzcolab20220719082949)\n",
            "Collecting tensorflow\n",
            "  Downloading tensorflow-2.10.0-cp37-cp37m-manylinux_2_17_x86_64.manylinux2014_x86_64.whl (578.0 MB)\n",
            "\u001b[K     |████████████████████████████████| 578.0 MB 14 kB/s \n",
            "\u001b[?25hRequirement already satisfied: setuptools in /usr/local/lib/python3.7/dist-packages (from tensorflow) (57.4.0)\n",
            "Requirement already satisfied: flatbuffers>=2.0 in /usr/local/lib/python3.7/dist-packages (from tensorflow) (2.0.7)\n",
            "Requirement already satisfied: packaging in /usr/local/lib/python3.7/dist-packages (from tensorflow) (21.3)\n",
            "Requirement already satisfied: tensorboard<2.11,>=2.10 in /usr/local/lib/python3.7/dist-packages (from tensorflow) (2.10.1)\n",
            "Requirement already satisfied: termcolor>=1.1.0 in /usr/local/lib/python3.7/dist-packages (from tensorflow) (1.1.0)\n",
            "Collecting tensorflow-estimator<2.11,>=2.10.0\n",
            "  Downloading tensorflow_estimator-2.10.0-py2.py3-none-any.whl (438 kB)\n",
            "\u001b[K     |████████████████████████████████| 438 kB 57.6 MB/s \n",
            "\u001b[?25hRequirement already satisfied: absl-py>=1.0.0 in /usr/local/lib/python3.7/dist-packages (from tensorflow) (1.2.0)\n",
            "Requirement already satisfied: grpcio<2.0,>=1.24.3 in /usr/local/lib/python3.7/dist-packages (from tensorflow) (1.48.1)\n",
            "Requirement already satisfied: opt-einsum>=2.3.2 in /usr/local/lib/python3.7/dist-packages (from tensorflow) (3.3.0)\n",
            "Requirement already satisfied: astunparse>=1.6.0 in /usr/local/lib/python3.7/dist-packages (from tensorflow) (1.6.3)\n",
            "Requirement already satisfied: numpy>=1.20 in /usr/local/lib/python3.7/dist-packages (from tensorflow) (1.21.6)\n",
            "Collecting keras<2.11,>=2.10.0\n",
            "  Downloading keras-2.10.0-py2.py3-none-any.whl (1.7 MB)\n",
            "\u001b[K     |████████████████████████████████| 1.7 MB 56.3 MB/s \n",
            "\u001b[?25hCollecting gast<=0.4.0,>=0.2.1\n",
            "  Downloading gast-0.4.0-py3-none-any.whl (9.8 kB)\n",
            "Requirement already satisfied: libclang>=13.0.0 in /usr/local/lib/python3.7/dist-packages (from tensorflow) (14.0.6)\n",
            "Requirement already satisfied: google-pasta>=0.1.1 in /usr/local/lib/python3.7/dist-packages (from tensorflow) (0.2.0)\n",
            "Requirement already satisfied: tensorflow-io-gcs-filesystem>=0.23.1 in /usr/local/lib/python3.7/dist-packages (from tensorflow) (0.26.0)\n",
            "Requirement already satisfied: keras-preprocessing>=1.1.1 in /usr/local/lib/python3.7/dist-packages (from tensorflow) (1.1.2)\n",
            "Requirement already satisfied: six>=1.12.0 in /usr/local/lib/python3.7/dist-packages (from tensorflow) (1.15.0)\n",
            "Requirement already satisfied: typing-extensions>=3.6.6 in /usr/local/lib/python3.7/dist-packages (from tensorflow) (4.1.1)\n",
            "Requirement already satisfied: wrapt>=1.11.0 in /usr/local/lib/python3.7/dist-packages (from tensorflow) (1.14.1)\n",
            "Requirement already satisfied: h5py>=2.9.0 in /usr/local/lib/python3.7/dist-packages (from tensorflow) (3.1.0)\n",
            "Requirement already satisfied: protobuf<3.20,>=3.9.2 in /usr/local/lib/python3.7/dist-packages (from tensorflow) (3.17.3)\n",
            "Requirement already satisfied: wheel<1.0,>=0.23.0 in /usr/local/lib/python3.7/dist-packages (from astunparse>=1.6.0->tensorflow) (0.37.1)\n",
            "Requirement already satisfied: cached-property in /usr/local/lib/python3.7/dist-packages (from h5py>=2.9.0->tensorflow) (1.5.2)\n",
            "Requirement already satisfied: tensorboard-data-server<0.7.0,>=0.6.0 in /usr/local/lib/python3.7/dist-packages (from tensorboard<2.11,>=2.10->tensorflow) (0.6.1)\n",
            "Requirement already satisfied: requests<3,>=2.21.0 in /usr/local/lib/python3.7/dist-packages (from tensorboard<2.11,>=2.10->tensorflow) (2.23.0)\n",
            "Requirement already satisfied: tensorboard-plugin-wit>=1.6.0 in /usr/local/lib/python3.7/dist-packages (from tensorboard<2.11,>=2.10->tensorflow) (1.8.1)\n",
            "Requirement already satisfied: google-auth-oauthlib<0.5,>=0.4.1 in /usr/local/lib/python3.7/dist-packages (from tensorboard<2.11,>=2.10->tensorflow) (0.4.6)\n",
            "Requirement already satisfied: werkzeug>=1.0.1 in /usr/local/lib/python3.7/dist-packages (from tensorboard<2.11,>=2.10->tensorflow) (1.0.1)\n",
            "Requirement already satisfied: google-auth<3,>=1.6.3 in /usr/local/lib/python3.7/dist-packages (from tensorboard<2.11,>=2.10->tensorflow) (1.35.0)\n",
            "Requirement already satisfied: markdown>=2.6.8 in /usr/local/lib/python3.7/dist-packages (from tensorboard<2.11,>=2.10->tensorflow) (3.4.1)\n",
            "Requirement already satisfied: pyasn1-modules>=0.2.1 in /usr/local/lib/python3.7/dist-packages (from google-auth<3,>=1.6.3->tensorboard<2.11,>=2.10->tensorflow) (0.2.8)\n",
            "Requirement already satisfied: cachetools<5.0,>=2.0.0 in /usr/local/lib/python3.7/dist-packages (from google-auth<3,>=1.6.3->tensorboard<2.11,>=2.10->tensorflow) (4.2.4)\n",
            "Requirement already satisfied: rsa<5,>=3.1.4 in /usr/local/lib/python3.7/dist-packages (from google-auth<3,>=1.6.3->tensorboard<2.11,>=2.10->tensorflow) (4.9)\n",
            "Requirement already satisfied: requests-oauthlib>=0.7.0 in /usr/local/lib/python3.7/dist-packages (from google-auth-oauthlib<0.5,>=0.4.1->tensorboard<2.11,>=2.10->tensorflow) (1.3.1)\n",
            "Requirement already satisfied: importlib-metadata>=4.4 in /usr/local/lib/python3.7/dist-packages (from markdown>=2.6.8->tensorboard<2.11,>=2.10->tensorflow) (4.12.0)\n",
            "Requirement already satisfied: zipp>=0.5 in /usr/local/lib/python3.7/dist-packages (from importlib-metadata>=4.4->markdown>=2.6.8->tensorboard<2.11,>=2.10->tensorflow) (3.8.1)\n",
            "Requirement already satisfied: pyasn1<0.5.0,>=0.4.6 in /usr/local/lib/python3.7/dist-packages (from pyasn1-modules>=0.2.1->google-auth<3,>=1.6.3->tensorboard<2.11,>=2.10->tensorflow) (0.4.8)\n",
            "Requirement already satisfied: certifi>=2017.4.17 in /usr/local/lib/python3.7/dist-packages (from requests<3,>=2.21.0->tensorboard<2.11,>=2.10->tensorflow) (2022.6.15)\n",
            "Requirement already satisfied: urllib3!=1.25.0,!=1.25.1,<1.26,>=1.21.1 in /usr/local/lib/python3.7/dist-packages (from requests<3,>=2.21.0->tensorboard<2.11,>=2.10->tensorflow) (1.24.3)\n",
            "Requirement already satisfied: idna<3,>=2.5 in /usr/local/lib/python3.7/dist-packages (from requests<3,>=2.21.0->tensorboard<2.11,>=2.10->tensorflow) (2.10)\n",
            "Requirement already satisfied: chardet<4,>=3.0.2 in /usr/local/lib/python3.7/dist-packages (from requests<3,>=2.21.0->tensorboard<2.11,>=2.10->tensorflow) (3.0.4)\n",
            "Requirement already satisfied: oauthlib>=3.0.0 in /usr/local/lib/python3.7/dist-packages (from requests-oauthlib>=0.7.0->google-auth-oauthlib<0.5,>=0.4.1->tensorboard<2.11,>=2.10->tensorflow) (3.2.0)\n",
            "Requirement already satisfied: pyparsing!=3.0.5,>=2.0.2 in /usr/local/lib/python3.7/dist-packages (from packaging->tensorflow) (3.0.9)\n",
            "Installing collected packages: tensorflow-estimator, keras, gast, tensorflow\n",
            "  Attempting uninstall: tensorflow-estimator\n",
            "    Found existing installation: tensorflow-estimator 2.8.0\n",
            "    Uninstalling tensorflow-estimator-2.8.0:\n",
            "      Successfully uninstalled tensorflow-estimator-2.8.0\n",
            "  Attempting uninstall: keras\n",
            "    Found existing installation: keras 2.8.0\n",
            "    Uninstalling keras-2.8.0:\n",
            "      Successfully uninstalled keras-2.8.0\n",
            "  Attempting uninstall: gast\n",
            "    Found existing installation: gast 0.5.3\n",
            "    Uninstalling gast-0.5.3:\n",
            "      Successfully uninstalled gast-0.5.3\n",
            "  Attempting uninstall: tensorflow\n",
            "    Found existing installation: tensorflow 2.8.2+zzzcolab20220719082949\n",
            "    Uninstalling tensorflow-2.8.2+zzzcolab20220719082949:\n",
            "      Successfully uninstalled tensorflow-2.8.2+zzzcolab20220719082949\n",
            "Successfully installed gast-0.4.0 keras-2.10.0 tensorflow-2.10.0 tensorflow-estimator-2.10.0\n",
            "Looking in indexes: https://pypi.org/simple, https://us-python.pkg.dev/colab-wheels/public/simple/\n",
            "Collecting delayed\n",
            "  Downloading delayed-0.11.0b1-py2.py3-none-any.whl (19 kB)\n",
            "Collecting hiredis\n",
            "  Downloading hiredis-2.0.0-cp37-cp37m-manylinux2010_x86_64.whl (85 kB)\n",
            "\u001b[K     |████████████████████████████████| 85 kB 2.7 MB/s \n",
            "\u001b[?25hCollecting redis\n",
            "  Downloading redis-4.3.4-py3-none-any.whl (246 kB)\n",
            "\u001b[K     |████████████████████████████████| 246 kB 30.7 MB/s \n",
            "\u001b[?25hRequirement already satisfied: packaging>=20.4 in /usr/local/lib/python3.7/dist-packages (from redis->delayed) (21.3)\n",
            "Requirement already satisfied: async-timeout>=4.0.2 in /usr/local/lib/python3.7/dist-packages (from redis->delayed) (4.0.2)\n",
            "Requirement already satisfied: typing-extensions in /usr/local/lib/python3.7/dist-packages (from redis->delayed) (4.1.1)\n",
            "Requirement already satisfied: importlib-metadata>=1.0 in /usr/local/lib/python3.7/dist-packages (from redis->delayed) (4.12.0)\n",
            "Collecting deprecated>=1.2.3\n",
            "  Downloading Deprecated-1.2.13-py2.py3-none-any.whl (9.6 kB)\n",
            "Requirement already satisfied: wrapt<2,>=1.10 in /usr/local/lib/python3.7/dist-packages (from deprecated>=1.2.3->redis->delayed) (1.14.1)\n",
            "Requirement already satisfied: zipp>=0.5 in /usr/local/lib/python3.7/dist-packages (from importlib-metadata>=1.0->redis->delayed) (3.8.1)\n",
            "Requirement already satisfied: pyparsing!=3.0.5,>=2.0.2 in /usr/local/lib/python3.7/dist-packages (from packaging>=20.4->redis->delayed) (3.0.9)\n",
            "Installing collected packages: deprecated, redis, hiredis, delayed\n",
            "Successfully installed delayed-0.11.0b1 deprecated-1.2.13 hiredis-2.0.0 redis-4.3.4\n",
            "Looking in indexes: https://pypi.org/simple, https://us-python.pkg.dev/colab-wheels/public/simple/\n",
            "Requirement already satisfied: scikit-learn in /usr/local/lib/python3.7/dist-packages (1.0.2)\n",
            "Requirement already satisfied: scipy>=1.1.0 in /usr/local/lib/python3.7/dist-packages (from scikit-learn) (1.7.3)\n",
            "Requirement already satisfied: joblib>=0.11 in /usr/local/lib/python3.7/dist-packages (from scikit-learn) (1.1.0)\n",
            "Requirement already satisfied: threadpoolctl>=2.0.0 in /usr/local/lib/python3.7/dist-packages (from scikit-learn) (3.1.0)\n",
            "Requirement already satisfied: numpy>=1.14.6 in /usr/local/lib/python3.7/dist-packages (from scikit-learn) (1.21.6)\n"
          ]
        }
      ],
      "source": [
        "!pip install google-api-python-client\n",
        "!pip install seaborn\n",
        "!pip install soynlp\n",
        "!pip install openai\n",
        "!pip install api\n",
        "!pip install Transformers\n",
        "!pip install emoji\n",
        "!pip install pytorch_lightning\n",
        "!pip install --upgrade tensorflow\n",
        "!pip install delayed\n",
        "!pip install --upgrade scikit-learn"
      ]
    },
    {
      "cell_type": "code",
      "execution_count": null,
      "metadata": {
        "colab": {
          "background_save": true,
          "base_uri": "https://localhost:8080/"
        },
        "id": "jv7jWd14Biue",
        "outputId": "d09ff93b-22cf-43cc-a995-ecc9a634c932"
      },
      "outputs": [
        {
          "name": "stdout",
          "output_type": "stream",
          "text": [
            "Found existing installation: pandas 1.3.5\n",
            "Uninstalling pandas-1.3.5:\n",
            "  Would remove:\n",
            "    /usr/local/lib/python3.7/dist-packages/pandas-1.3.5.dist-info/*\n",
            "    /usr/local/lib/python3.7/dist-packages/pandas/*\n",
            "  Would not remove (might be manually added):\n",
            "    /usr/local/lib/python3.7/dist-packages/pandas/__init__.pyi\n",
            "    /usr/local/lib/python3.7/dist-packages/pandas/_config/__init__.pyi\n",
            "    /usr/local/lib/python3.7/dist-packages/pandas/_config/config.pyi\n",
            "    /usr/local/lib/python3.7/dist-packages/pandas/_config/dates.pyi\n",
            "    /usr/local/lib/python3.7/dist-packages/pandas/_config/display.pyi\n",
            "    /usr/local/lib/python3.7/dist-packages/pandas/_config/localization.pyi\n",
            "    /usr/local/lib/python3.7/dist-packages/pandas/_libs/__init__.pyi\n",
            "    /usr/local/lib/python3.7/dist-packages/pandas/_libs/indexing.pyi\n",
            "    /usr/local/lib/python3.7/dist-packages/pandas/_libs/interval.pyi\n",
            "    /usr/local/lib/python3.7/dist-packages/pandas/_libs/missing.pyi\n",
            "    /usr/local/lib/python3.7/dist-packages/pandas/_libs/properties.pyi\n",
            "    /usr/local/lib/python3.7/dist-packages/pandas/_libs/sparse.pyi\n",
            "    /usr/local/lib/python3.7/dist-packages/pandas/_libs/tslibs/__init__.pyi\n",
            "    /usr/local/lib/python3.7/dist-packages/pandas/_libs/tslibs/normalize_date.pyi\n",
            "    /usr/local/lib/python3.7/dist-packages/pandas/_libs/tslibs/np_datetime.pyi\n",
            "    /usr/local/lib/python3.7/dist-packages/pandas/_libs/tslibs/offsets.pyi\n",
            "    /usr/local/lib/python3.7/dist-packages/pandas/_libs/tslibs/resolution.pyi\n",
            "    /usr/local/lib/python3.7/dist-packages/pandas/_libs/window/__init__.pyi\n",
            "    /usr/local/lib/python3.7/dist-packages/pandas/_testing/__init__.pyi\n",
            "    /usr/local/lib/python3.7/dist-packages/pandas/_typing.pyi\n",
            "    /usr/local/lib/python3.7/dist-packages/pandas/_version.pyi\n",
            "    /usr/local/lib/python3.7/dist-packages/pandas/api/__init__.pyi\n",
            "    /usr/local/lib/python3.7/dist-packages/pandas/api/extensions/__init__.pyi\n",
            "    /usr/local/lib/python3.7/dist-packages/pandas/api/indexers/__init__.pyi\n",
            "    /usr/local/lib/python3.7/dist-packages/pandas/api/types/__init__.pyi\n",
            "    /usr/local/lib/python3.7/dist-packages/pandas/arrays/__init__.pyi\n",
            "    /usr/local/lib/python3.7/dist-packages/pandas/conftest.pyi\n",
            "    /usr/local/lib/python3.7/dist-packages/pandas/core/__init__.pyi\n",
            "    /usr/local/lib/python3.7/dist-packages/pandas/core/accessor.pyi\n",
            "    /usr/local/lib/python3.7/dist-packages/pandas/core/algorithms.pyi\n",
            "    /usr/local/lib/python3.7/dist-packages/pandas/core/api.pyi\n",
            "    /usr/local/lib/python3.7/dist-packages/pandas/core/apply.pyi\n",
            "    /usr/local/lib/python3.7/dist-packages/pandas/core/arrays/__init__.pyi\n",
            "    /usr/local/lib/python3.7/dist-packages/pandas/core/arrays/_arrow_utils.pyi\n",
            "    /usr/local/lib/python3.7/dist-packages/pandas/core/arrays/_ranges.pyi\n",
            "    /usr/local/lib/python3.7/dist-packages/pandas/core/arrays/base.pyi\n",
            "    /usr/local/lib/python3.7/dist-packages/pandas/core/arrays/boolean.pyi\n",
            "    /usr/local/lib/python3.7/dist-packages/pandas/core/arrays/categorical.pyi\n",
            "    /usr/local/lib/python3.7/dist-packages/pandas/core/arrays/datetimelike.pyi\n",
            "    /usr/local/lib/python3.7/dist-packages/pandas/core/arrays/datetimes.pyi\n",
            "    /usr/local/lib/python3.7/dist-packages/pandas/core/arrays/integer.pyi\n",
            "    /usr/local/lib/python3.7/dist-packages/pandas/core/arrays/interval.pyi\n",
            "    /usr/local/lib/python3.7/dist-packages/pandas/core/arrays/masked.pyi\n",
            "    /usr/local/lib/python3.7/dist-packages/pandas/core/arrays/numpy_.pyi\n",
            "    /usr/local/lib/python3.7/dist-packages/pandas/core/arrays/period.pyi\n",
            "    /usr/local/lib/python3.7/dist-packages/pandas/core/arrays/sparse/__init__.pyi\n",
            "    /usr/local/lib/python3.7/dist-packages/pandas/core/arrays/sparse/accessor.pyi\n",
            "    /usr/local/lib/python3.7/dist-packages/pandas/core/arrays/sparse/array.pyi\n",
            "    /usr/local/lib/python3.7/dist-packages/pandas/core/arrays/sparse/dtype.pyi\n",
            "    /usr/local/lib/python3.7/dist-packages/pandas/core/arrays/sparse/scipy_sparse.pyi\n",
            "    /usr/local/lib/python3.7/dist-packages/pandas/core/arrays/string_.pyi\n",
            "    /usr/local/lib/python3.7/dist-packages/pandas/core/arrays/timedeltas.pyi\n",
            "    /usr/local/lib/python3.7/dist-packages/pandas/core/base.pyi\n",
            "    /usr/local/lib/python3.7/dist-packages/pandas/core/common.pyi\n",
            "    /usr/local/lib/python3.7/dist-packages/pandas/core/computation/__init__.pyi\n",
            "    /usr/local/lib/python3.7/dist-packages/pandas/core/computation/align.pyi\n",
            "    /usr/local/lib/python3.7/dist-packages/pandas/core/computation/api.pyi\n",
            "    /usr/local/lib/python3.7/dist-packages/pandas/core/computation/check.pyi\n",
            "    /usr/local/lib/python3.7/dist-packages/pandas/core/computation/common.pyi\n",
            "    /usr/local/lib/python3.7/dist-packages/pandas/core/computation/engines.pyi\n",
            "    /usr/local/lib/python3.7/dist-packages/pandas/core/computation/eval.pyi\n",
            "    /usr/local/lib/python3.7/dist-packages/pandas/core/computation/expr.pyi\n",
            "    /usr/local/lib/python3.7/dist-packages/pandas/core/computation/expressions.pyi\n",
            "    /usr/local/lib/python3.7/dist-packages/pandas/core/computation/ops.pyi\n",
            "    /usr/local/lib/python3.7/dist-packages/pandas/core/computation/parsing.pyi\n",
            "    /usr/local/lib/python3.7/dist-packages/pandas/core/computation/pytables.pyi\n",
            "    /usr/local/lib/python3.7/dist-packages/pandas/core/computation/scope.pyi\n",
            "    /usr/local/lib/python3.7/dist-packages/pandas/core/config_init.pyi\n",
            "    /usr/local/lib/python3.7/dist-packages/pandas/core/construction.pyi\n",
            "    /usr/local/lib/python3.7/dist-packages/pandas/core/dtypes/__init__.pyi\n",
            "    /usr/local/lib/python3.7/dist-packages/pandas/core/dtypes/api.pyi\n",
            "    /usr/local/lib/python3.7/dist-packages/pandas/core/dtypes/base.pyi\n",
            "    /usr/local/lib/python3.7/dist-packages/pandas/core/dtypes/cast.pyi\n",
            "    /usr/local/lib/python3.7/dist-packages/pandas/core/dtypes/common.pyi\n",
            "    /usr/local/lib/python3.7/dist-packages/pandas/core/dtypes/concat.pyi\n",
            "    /usr/local/lib/python3.7/dist-packages/pandas/core/dtypes/dtypes.pyi\n",
            "    /usr/local/lib/python3.7/dist-packages/pandas/core/dtypes/generic.pyi\n",
            "    /usr/local/lib/python3.7/dist-packages/pandas/core/dtypes/inference.pyi\n",
            "    /usr/local/lib/python3.7/dist-packages/pandas/core/dtypes/missing.pyi\n",
            "    /usr/local/lib/python3.7/dist-packages/pandas/core/frame.pyi\n",
            "    /usr/local/lib/python3.7/dist-packages/pandas/core/generic.pyi\n",
            "    /usr/local/lib/python3.7/dist-packages/pandas/core/groupby/__init__.pyi\n",
            "    /usr/local/lib/python3.7/dist-packages/pandas/core/groupby/base.pyi\n",
            "    /usr/local/lib/python3.7/dist-packages/pandas/core/groupby/categorical.pyi\n",
            "    /usr/local/lib/python3.7/dist-packages/pandas/core/groupby/generic.pyi\n",
            "    /usr/local/lib/python3.7/dist-packages/pandas/core/groupby/groupby.pyi\n",
            "    /usr/local/lib/python3.7/dist-packages/pandas/core/groupby/grouper.pyi\n",
            "    /usr/local/lib/python3.7/dist-packages/pandas/core/groupby/ops.pyi\n",
            "    /usr/local/lib/python3.7/dist-packages/pandas/core/index.pyi\n",
            "    /usr/local/lib/python3.7/dist-packages/pandas/core/indexers.pyi\n",
            "    /usr/local/lib/python3.7/dist-packages/pandas/core/indexes/__init__.pyi\n",
            "    /usr/local/lib/python3.7/dist-packages/pandas/core/indexes/accessors.pyi\n",
            "    /usr/local/lib/python3.7/dist-packages/pandas/core/indexes/api.pyi\n",
            "    /usr/local/lib/python3.7/dist-packages/pandas/core/indexes/base.pyi\n",
            "    /usr/local/lib/python3.7/dist-packages/pandas/core/indexes/category.pyi\n",
            "    /usr/local/lib/python3.7/dist-packages/pandas/core/indexes/datetimelike.pyi\n",
            "    /usr/local/lib/python3.7/dist-packages/pandas/core/indexes/datetimes.pyi\n",
            "    /usr/local/lib/python3.7/dist-packages/pandas/core/indexes/extension.pyi\n",
            "    /usr/local/lib/python3.7/dist-packages/pandas/core/indexes/frozen.pyi\n",
            "    /usr/local/lib/python3.7/dist-packages/pandas/core/indexes/interval.pyi\n",
            "    /usr/local/lib/python3.7/dist-packages/pandas/core/indexes/multi.pyi\n",
            "    /usr/local/lib/python3.7/dist-packages/pandas/core/indexes/numeric.pyi\n",
            "    /usr/local/lib/python3.7/dist-packages/pandas/core/indexes/period.pyi\n",
            "    /usr/local/lib/python3.7/dist-packages/pandas/core/indexes/range.pyi\n",
            "    /usr/local/lib/python3.7/dist-packages/pandas/core/indexes/timedeltas.pyi\n",
            "    /usr/local/lib/python3.7/dist-packages/pandas/core/indexing.pyi\n",
            "    /usr/local/lib/python3.7/dist-packages/pandas/core/internals/__init__.pyi\n",
            "    /usr/local/lib/python3.7/dist-packages/pandas/core/internals/blocks.pyi\n",
            "    /usr/local/lib/python3.7/dist-packages/pandas/core/internals/concat.pyi\n",
            "    /usr/local/lib/python3.7/dist-packages/pandas/core/internals/construction.pyi\n",
            "    /usr/local/lib/python3.7/dist-packages/pandas/core/internals/managers.pyi\n",
            "    /usr/local/lib/python3.7/dist-packages/pandas/core/missing.pyi\n",
            "    /usr/local/lib/python3.7/dist-packages/pandas/core/nanops.pyi\n",
            "    /usr/local/lib/python3.7/dist-packages/pandas/core/ops/__init__.pyi\n",
            "    /usr/local/lib/python3.7/dist-packages/pandas/core/ops/array_ops.pyi\n",
            "    /usr/local/lib/python3.7/dist-packages/pandas/core/ops/common.pyi\n",
            "    /usr/local/lib/python3.7/dist-packages/pandas/core/ops/dispatch.pyi\n",
            "    /usr/local/lib/python3.7/dist-packages/pandas/core/ops/docstrings.pyi\n",
            "    /usr/local/lib/python3.7/dist-packages/pandas/core/ops/invalid.pyi\n",
            "    /usr/local/lib/python3.7/dist-packages/pandas/core/ops/mask_ops.pyi\n",
            "    /usr/local/lib/python3.7/dist-packages/pandas/core/ops/methods.pyi\n",
            "    /usr/local/lib/python3.7/dist-packages/pandas/core/ops/missing.pyi\n",
            "    /usr/local/lib/python3.7/dist-packages/pandas/core/ops/roperator.pyi\n",
            "    /usr/local/lib/python3.7/dist-packages/pandas/core/resample.pyi\n",
            "    /usr/local/lib/python3.7/dist-packages/pandas/core/reshape/__init__.pyi\n",
            "    /usr/local/lib/python3.7/dist-packages/pandas/core/reshape/api.pyi\n",
            "    /usr/local/lib/python3.7/dist-packages/pandas/core/reshape/concat.pyi\n",
            "    /usr/local/lib/python3.7/dist-packages/pandas/core/reshape/melt.pyi\n",
            "    /usr/local/lib/python3.7/dist-packages/pandas/core/reshape/merge.pyi\n",
            "    /usr/local/lib/python3.7/dist-packages/pandas/core/reshape/pivot.pyi\n",
            "    /usr/local/lib/python3.7/dist-packages/pandas/core/reshape/reshape.pyi\n",
            "    /usr/local/lib/python3.7/dist-packages/pandas/core/reshape/tile.pyi\n",
            "    /usr/local/lib/python3.7/dist-packages/pandas/core/reshape/util.pyi\n",
            "    /usr/local/lib/python3.7/dist-packages/pandas/core/series.pyi\n",
            "    /usr/local/lib/python3.7/dist-packages/pandas/core/sorting.pyi\n",
            "    /usr/local/lib/python3.7/dist-packages/pandas/core/sparse/__init__.pyi\n",
            "    /usr/local/lib/python3.7/dist-packages/pandas/core/sparse/api.pyi\n",
            "    /usr/local/lib/python3.7/dist-packages/pandas/core/strings.pyi\n",
            "    /usr/local/lib/python3.7/dist-packages/pandas/core/tools/__init__.pyi\n",
            "    /usr/local/lib/python3.7/dist-packages/pandas/core/tools/datetimes.pyi\n",
            "    /usr/local/lib/python3.7/dist-packages/pandas/core/tools/numeric.pyi\n",
            "    /usr/local/lib/python3.7/dist-packages/pandas/core/tools/timedeltas.pyi\n",
            "    /usr/local/lib/python3.7/dist-packages/pandas/core/util/__init__.pyi\n",
            "    /usr/local/lib/python3.7/dist-packages/pandas/core/util/hashing.pyi\n",
            "    /usr/local/lib/python3.7/dist-packages/pandas/core/window/__init__.pyi\n",
            "    /usr/local/lib/python3.7/dist-packages/pandas/core/window/common.pyi\n",
            "    /usr/local/lib/python3.7/dist-packages/pandas/core/window/ewm.pyi\n",
            "    /usr/local/lib/python3.7/dist-packages/pandas/core/window/expanding.pyi\n",
            "    /usr/local/lib/python3.7/dist-packages/pandas/core/window/indexers.pyi\n",
            "    /usr/local/lib/python3.7/dist-packages/pandas/core/window/numba_.pyi\n",
            "    /usr/local/lib/python3.7/dist-packages/pandas/core/window/rolling.pyi\n",
            "    /usr/local/lib/python3.7/dist-packages/pandas/errors/__init__.pyi\n",
            "    /usr/local/lib/python3.7/dist-packages/pandas/io/__init__.pyi\n",
            "    /usr/local/lib/python3.7/dist-packages/pandas/io/api.pyi\n",
            "    /usr/local/lib/python3.7/dist-packages/pandas/io/clipboard/__init__.pyi\n",
            "    /usr/local/lib/python3.7/dist-packages/pandas/io/clipboards.pyi\n",
            "    /usr/local/lib/python3.7/dist-packages/pandas/io/common.pyi\n",
            "    /usr/local/lib/python3.7/dist-packages/pandas/io/date_converters.pyi\n",
            "    /usr/local/lib/python3.7/dist-packages/pandas/io/excel/__init__.pyi\n",
            "    /usr/local/lib/python3.7/dist-packages/pandas/io/excel/_base.pyi\n",
            "    /usr/local/lib/python3.7/dist-packages/pandas/io/excel/_odfreader.pyi\n",
            "    /usr/local/lib/python3.7/dist-packages/pandas/io/excel/_openpyxl.pyi\n",
            "    /usr/local/lib/python3.7/dist-packages/pandas/io/excel/_pyxlsb.pyi\n",
            "    /usr/local/lib/python3.7/dist-packages/pandas/io/excel/_util.pyi\n",
            "    /usr/local/lib/python3.7/dist-packages/pandas/io/excel/_xlrd.pyi\n",
            "    /usr/local/lib/python3.7/dist-packages/pandas/io/excel/_xlsxwriter.pyi\n",
            "    /usr/local/lib/python3.7/dist-packages/pandas/io/excel/_xlwt.pyi\n",
            "    /usr/local/lib/python3.7/dist-packages/pandas/io/feather_format.pyi\n",
            "    /usr/local/lib/python3.7/dist-packages/pandas/io/formats/__init__.pyi\n",
            "    /usr/local/lib/python3.7/dist-packages/pandas/io/formats/console.pyi\n",
            "    /usr/local/lib/python3.7/dist-packages/pandas/io/formats/css.pyi\n",
            "    /usr/local/lib/python3.7/dist-packages/pandas/io/formats/csvs.pyi\n",
            "    /usr/local/lib/python3.7/dist-packages/pandas/io/formats/excel.pyi\n",
            "    /usr/local/lib/python3.7/dist-packages/pandas/io/formats/format.pyi\n",
            "    /usr/local/lib/python3.7/dist-packages/pandas/io/formats/html.pyi\n",
            "    /usr/local/lib/python3.7/dist-packages/pandas/io/formats/latex.pyi\n",
            "    /usr/local/lib/python3.7/dist-packages/pandas/io/formats/printing.pyi\n",
            "    /usr/local/lib/python3.7/dist-packages/pandas/io/formats/style.pyi\n",
            "    /usr/local/lib/python3.7/dist-packages/pandas/io/gbq.pyi\n",
            "    /usr/local/lib/python3.7/dist-packages/pandas/io/gcs.pyi\n",
            "    /usr/local/lib/python3.7/dist-packages/pandas/io/html.pyi\n",
            "    /usr/local/lib/python3.7/dist-packages/pandas/io/json/__init__.pyi\n",
            "    /usr/local/lib/python3.7/dist-packages/pandas/io/json/_json.pyi\n",
            "    /usr/local/lib/python3.7/dist-packages/pandas/io/json/_normalize.pyi\n",
            "    /usr/local/lib/python3.7/dist-packages/pandas/io/json/_table_schema.pyi\n",
            "    /usr/local/lib/python3.7/dist-packages/pandas/io/orc.pyi\n",
            "    /usr/local/lib/python3.7/dist-packages/pandas/io/parquet.pyi\n",
            "    /usr/local/lib/python3.7/dist-packages/pandas/io/parsers/__init__.pyi\n",
            "    /usr/local/lib/python3.7/dist-packages/pandas/io/parsers/base_parser.pyi\n",
            "    /usr/local/lib/python3.7/dist-packages/pandas/io/parsers/c_parser_wrapper.pyi\n",
            "    /usr/local/lib/python3.7/dist-packages/pandas/io/parsers/python_parser.pyi\n",
            "    /usr/local/lib/python3.7/dist-packages/pandas/io/parsers/readers.pyi\n",
            "    /usr/local/lib/python3.7/dist-packages/pandas/io/pickle.pyi\n",
            "    /usr/local/lib/python3.7/dist-packages/pandas/io/pytables.pyi\n",
            "    /usr/local/lib/python3.7/dist-packages/pandas/io/s3.pyi\n",
            "    /usr/local/lib/python3.7/dist-packages/pandas/io/sas/__init__.pyi\n",
            "    /usr/local/lib/python3.7/dist-packages/pandas/io/sas/sas7bdat.pyi\n",
            "    /usr/local/lib/python3.7/dist-packages/pandas/io/sas/sas_constants.pyi\n",
            "    /usr/local/lib/python3.7/dist-packages/pandas/io/sas/sas_xport.pyi\n",
            "    /usr/local/lib/python3.7/dist-packages/pandas/io/sas/sasreader.pyi\n",
            "    /usr/local/lib/python3.7/dist-packages/pandas/io/spss.pyi\n",
            "    /usr/local/lib/python3.7/dist-packages/pandas/io/sql.pyi\n",
            "    /usr/local/lib/python3.7/dist-packages/pandas/io/stata.pyi\n",
            "    /usr/local/lib/python3.7/dist-packages/pandas/plotting/__init__.pyi\n",
            "    /usr/local/lib/python3.7/dist-packages/pandas/plotting/_core.pyi\n",
            "    /usr/local/lib/python3.7/dist-packages/pandas/plotting/_matplotlib/__init__.pyi\n",
            "    /usr/local/lib/python3.7/dist-packages/pandas/plotting/_matplotlib/boxplot.pyi\n",
            "    /usr/local/lib/python3.7/dist-packages/pandas/plotting/_matplotlib/compat.pyi\n",
            "    /usr/local/lib/python3.7/dist-packages/pandas/plotting/_matplotlib/converter.pyi\n",
            "    /usr/local/lib/python3.7/dist-packages/pandas/plotting/_matplotlib/core.pyi\n",
            "    /usr/local/lib/python3.7/dist-packages/pandas/plotting/_matplotlib/hist.pyi\n",
            "    /usr/local/lib/python3.7/dist-packages/pandas/plotting/_matplotlib/misc.pyi\n",
            "    /usr/local/lib/python3.7/dist-packages/pandas/plotting/_matplotlib/style.pyi\n",
            "    /usr/local/lib/python3.7/dist-packages/pandas/plotting/_matplotlib/timeseries.pyi\n",
            "    /usr/local/lib/python3.7/dist-packages/pandas/plotting/_matplotlib/tools.pyi\n",
            "    /usr/local/lib/python3.7/dist-packages/pandas/plotting/_misc.pyi\n",
            "    /usr/local/lib/python3.7/dist-packages/pandas/py.typed\n",
            "    /usr/local/lib/python3.7/dist-packages/pandas/testing.pyi\n",
            "    /usr/local/lib/python3.7/dist-packages/pandas/tseries/__init__.pyi\n",
            "    /usr/local/lib/python3.7/dist-packages/pandas/tseries/api.pyi\n",
            "    /usr/local/lib/python3.7/dist-packages/pandas/tseries/frequencies.pyi\n",
            "    /usr/local/lib/python3.7/dist-packages/pandas/tseries/holiday.pyi\n",
            "    /usr/local/lib/python3.7/dist-packages/pandas/tseries/offsets.pyi\n",
            "    /usr/local/lib/python3.7/dist-packages/pandas/util/__init__.pyi\n",
            "    /usr/local/lib/python3.7/dist-packages/pandas/util/_decorators.pyi\n",
            "    /usr/local/lib/python3.7/dist-packages/pandas/util/_depr_module.pyi\n",
            "    /usr/local/lib/python3.7/dist-packages/pandas/util/_doctools.pyi\n",
            "    /usr/local/lib/python3.7/dist-packages/pandas/util/_exceptions.pyi\n",
            "    /usr/local/lib/python3.7/dist-packages/pandas/util/_print_versions.pyi\n",
            "    /usr/local/lib/python3.7/dist-packages/pandas/util/_test_decorators.pyi\n",
            "    /usr/local/lib/python3.7/dist-packages/pandas/util/_tester.pyi\n",
            "    /usr/local/lib/python3.7/dist-packages/pandas/util/_validators.pyi\n",
            "    /usr/local/lib/python3.7/dist-packages/pandas/util/testing.pyi\n",
            "Proceed (y/n)? \u001b[31m  ERROR: Operation cancelled by user\u001b[0m\n",
            "Looking in indexes: https://pypi.org/simple, https://us-python.pkg.dev/colab-wheels/public/simple/\n",
            "Collecting pandas==1.1.5\n",
            "  Downloading pandas-1.1.5-cp37-cp37m-manylinux1_x86_64.whl (9.5 MB)\n",
            "\u001b[K     |████████████████████████████████| 9.5 MB 5.1 MB/s \n",
            "\u001b[?25hRequirement already satisfied: numpy>=1.15.4 in /usr/local/lib/python3.7/dist-packages (from pandas==1.1.5) (1.21.6)\n",
            "Requirement already satisfied: pytz>=2017.2 in /usr/local/lib/python3.7/dist-packages (from pandas==1.1.5) (2022.2.1)\n",
            "Requirement already satisfied: python-dateutil>=2.7.3 in /usr/local/lib/python3.7/dist-packages (from pandas==1.1.5) (2.8.2)\n",
            "Requirement already satisfied: six>=1.5 in /usr/local/lib/python3.7/dist-packages (from python-dateutil>=2.7.3->pandas==1.1.5) (1.15.0)\n"
          ]
        }
      ],
      "source": [
        "!pip uninstall pandas\n",
        "!pip install pandas==1.1.5"
      ]
    },
    {
      "cell_type": "code",
      "execution_count": null,
      "metadata": {
        "id": "xKoXTXsf6d-z"
      },
      "outputs": [],
      "source": [
        "#!pip install git+https://github.com/huggingface/transformers.git"
      ]
    },
    {
      "cell_type": "markdown",
      "metadata": {
        "id": "SQ0qjo84bTjQ"
      },
      "source": [
        "Setting check"
      ]
    },
    {
      "cell_type": "code",
      "execution_count": null,
      "metadata": {
        "colab": {
          "base_uri": "https://localhost:8080/"
        },
        "id": "HrNwFbrzbbsB",
        "outputId": "311ce392-75af-4012-931b-f3570461fa77"
      },
      "outputs": [
        {
          "name": "stdout",
          "output_type": "stream",
          "text": [
            "Thu Dec  2 02:55:17 2021       \n",
            "+-----------------------------------------------------------------------------+\n",
            "| NVIDIA-SMI 495.44       Driver Version: 460.32.03    CUDA Version: 11.2     |\n",
            "|-------------------------------+----------------------+----------------------+\n",
            "| GPU  Name        Persistence-M| Bus-Id        Disp.A | Volatile Uncorr. ECC |\n",
            "| Fan  Temp  Perf  Pwr:Usage/Cap|         Memory-Usage | GPU-Util  Compute M. |\n",
            "|                               |                      |               MIG M. |\n",
            "|===============================+======================+======================|\n",
            "|   0  Tesla P100-PCIE...  Off  | 00000000:00:04.0 Off |                    0 |\n",
            "| N/A   36C    P0    25W / 250W |      0MiB / 16280MiB |      0%      Default |\n",
            "|                               |                      |                  N/A |\n",
            "+-------------------------------+----------------------+----------------------+\n",
            "                                                                               \n",
            "+-----------------------------------------------------------------------------+\n",
            "| Processes:                                                                  |\n",
            "|  GPU   GI   CI        PID   Type   Process name                  GPU Memory |\n",
            "|        ID   ID                                                   Usage      |\n",
            "|=============================================================================|\n",
            "|  No running processes found                                                 |\n",
            "+-----------------------------------------------------------------------------+\n"
          ]
        }
      ],
      "source": [
        "gpu_info = !nvidia-smi\n",
        "gpu_info = '\\n'.join(gpu_info)\n",
        "if gpu_info.find('failed') >= 0:\n",
        "  print('Not connected to a GPU')\n",
        "else:\n",
        "  print(gpu_info)"
      ]
    },
    {
      "cell_type": "code",
      "execution_count": null,
      "metadata": {
        "colab": {
          "base_uri": "https://localhost:8080/"
        },
        "id": "K37UUy4JcJhG",
        "outputId": "09483f8a-dd41-4e8b-b1cc-5f715f5a5bd1"
      },
      "outputs": [
        {
          "name": "stdout",
          "output_type": "stream",
          "text": [
            "Your runtime has 13.6 gigabytes of available RAM\n",
            "\n",
            "Not using a high-RAM runtime\n"
          ]
        }
      ],
      "source": [
        "from psutil import virtual_memory\n",
        "ram_gb = virtual_memory().total / 1e9\n",
        "print('Your runtime has {:.1f} gigabytes of available RAM\\n'.format(ram_gb))\n",
        "\n",
        "if ram_gb < 20:\n",
        "  print('Not using a high-RAM runtime')\n",
        "else:\n",
        "  print('You are using a high-RAM runtime!')"
      ]
    },
    {
      "cell_type": "markdown",
      "metadata": {
        "id": "NGg2l7v5TXo5"
      },
      "source": [
        "import library"
      ]
    },
    {
      "cell_type": "code",
      "execution_count": null,
      "metadata": {
        "id": "ilqCYSwzTZ_S"
      },
      "outputs": [],
      "source": [
        "# Common\n",
        "import pandas as pd\n",
        "import numpy as np\n",
        "import json\n",
        "%matplotlib inline\n",
        "import matplotlib.pyplot as plt\n",
        "from io import StringIO\n",
        "import sys\n",
        "import os\n",
        "from pprint import pprint\n",
        "import webbrowser\n",
        "import sklearn\n",
        "import csv\n",
        "from glob import glob\n",
        "import time\n",
        "from shutil import copyfile\n",
        "\n",
        "# Text Preprocessing\n",
        "import emoji\n",
        "import re\n",
        "from soynlp.normalizer import *\n",
        "from collections import Counter\n",
        "import string\n",
        "\n",
        "# Text Collecting\n",
        "from googleapiclient.discovery import build\n",
        "\n",
        "#Modeling\n",
        "import openai\n",
        "import requests\n",
        "import torch\n",
        "import torch.nn as nn\n",
        "from torch.utils.data import Dataset, DataLoader, TensorDataset\n",
        "from torch.optim.lr_scheduler import ExponentialLR\n",
        "from pytorch_lightning import LightningModule, Trainer, seed_everything\n",
        "from transformers import AutoModelForSequenceClassification, AutoTokenizer, AdamW\n",
        "from transformers import GPT2TokenizerFast\n",
        "import tensorflow as tf\n",
        "\n",
        "#Training & Testing\n",
        "from sklearn.model_selection import train_test_split\n",
        "from sklearn.metrics import accuracy_score, precision_score, recall_score, f1_score\n",
        "from pytorch_lightning import loggers as my_logger\n",
        "import datetime\n",
        "from torch.utils.tensorboard import SummaryWriter"
      ]
    },
    {
      "cell_type": "markdown",
      "metadata": {
        "id": "k2B63k9T9yKF"
      },
      "source": [
        "File provider<br>*오류 시 Merge_csv_file.ipynb file 참고"
      ]
    },
    {
      "cell_type": "code",
      "execution_count": null,
      "metadata": {
        "id": "8KRP8tlV95_e"
      },
      "outputs": [],
      "source": [
        "folder_path = 'type your gdrive folder path that you stored data file (*list)'\n",
        "merge_path = 'type your gdrive file path that you want store merged file (*list)'\n",
        "\n",
        "for folder, merge_file in zip(folder_path, merge_path):\n",
        "    file_list = glob.glob(path + '*')\n",
        "    sum = 0\n",
        "    with open(merge_file, 'w') as f:\n",
        "        for i, file in enumerate(file_list):\n",
        "            if i==0:\n",
        "                with open(file, 'r') as f2:\n",
        "                    while True:\n",
        "                        line = f2.readline()\n",
        "\n",
        "                        if not line:\n",
        "                            break\n",
        "\n",
        "                        f.write(line)\n",
        "\n",
        "                file_name = file.split('\\\\')[-1]\n",
        "                print(file.split('\\\\')[-1] + ' write compelete...!')\n",
        "            else:\n",
        "                with open(file, 'r') as f2:\n",
        "                    n=0\n",
        "\n",
        "                    while True:\n",
        "                        line = f2.readline()\n",
        "\n",
        "                        if n != 0:\n",
        "                            f.write(line)\n",
        "                        \n",
        "                        if not line:\n",
        "                            break\n",
        "\n",
        "                        n += 1\n",
        "\n",
        "                file_name = file.split('\\\\')[-1]\n",
        "                print(file.split('\\\\')[-1] + ' write complete...!')\n",
        "                print('number of line ', n)\n",
        "                sum += n\n",
        "    print('>>> ALL file merge complete...!')\n",
        "    print('number of line ', sum)"
      ]
    },
    {
      "cell_type": "markdown",
      "metadata": {
        "id": "0JG88khdJ_UQ"
      },
      "source": []
    },
    {
      "cell_type": "code",
      "execution_count": null,
      "metadata": {
        "id": "3S10AagCBnp7"
      },
      "outputs": [],
      "source": [
        "net_file_name = ['type file name you want(csv)']\n",
        "labeling_file_name = ['type file name you want(for labeling, csv)']\n",
        "\n",
        "for net_file in merge_path:\n",
        "    df = pd.read_csv(net_file)\n",
        "    df = df.drop_duplicates()\n",
        "    df = sklearn.utils.shuffle(df)\n",
        "    print('number of NAN ', df.isnull().sum())\n",
        "    print('Shape ', df.shape)\n",
        "\n",
        "    df.to_csv(net_file_name, index=None))\n",
        "    df_1 = df[:1000]\n",
        "    df_1.to_csv(labeling_file_name, index=None)"
      ]
    },
    {
      "cell_type": "code",
      "execution_count": null,
      "metadata": {
        "colab": {
          "base_uri": "https://localhost:8080/",
          "height": 487
        },
        "id": "2FFFlifCEBFn",
        "outputId": "c78eb434-5072-496a-fb9e-3b344f30d0d8"
      },
      "outputs": [
        {
          "name": "stdout",
          "output_type": "stream",
          "text": [
            "comment      0\n",
            "sentiment    0\n",
            "dtype: int64\n"
          ]
        },
        {
          "name": "stderr",
          "output_type": "stream",
          "text": [
            "/usr/local/lib/python3.7/dist-packages/ipykernel_launcher.py:18: UserWarning: Boolean Series key will be reindexed to match DataFrame index.\n"
          ]
        },
        {
          "data": {
            "text/html": [
              "<div>\n",
              "<style scoped>\n",
              "    .dataframe tbody tr th:only-of-type {\n",
              "        vertical-align: middle;\n",
              "    }\n",
              "\n",
              "    .dataframe tbody tr th {\n",
              "        vertical-align: top;\n",
              "    }\n",
              "\n",
              "    .dataframe thead th {\n",
              "        text-align: right;\n",
              "    }\n",
              "</style>\n",
              "<table border=\"1\" class=\"dataframe\">\n",
              "  <thead>\n",
              "    <tr style=\"text-align: right;\">\n",
              "      <th></th>\n",
              "      <th>comment</th>\n",
              "      <th>sentiment</th>\n",
              "    </tr>\n",
              "  </thead>\n",
              "  <tbody>\n",
              "    <tr>\n",
              "      <th>0</th>\n",
              "      <td>현재호텔주인심정아난마른하늘에날벼락맞고호텔망하게생겼는데누군계속추모받네</td>\n",
              "      <td>-1</td>\n",
              "    </tr>\n",
              "    <tr>\n",
              "      <th>2</th>\n",
              "      <td>못된넘들남의고통을즐겼던넘들이젠마땅한처벌을받아야지그래야공정한사회지심은대로거두거라</td>\n",
              "      <td>-1</td>\n",
              "    </tr>\n",
              "    <tr>\n",
              "      <th>4</th>\n",
              "      <td>사람얼굴손톱으로긁은것은인격살해이고동영상이몰카냐메걸리안들생각이없노</td>\n",
              "      <td>-1</td>\n",
              "    </tr>\n",
              "    <tr>\n",
              "      <th>6</th>\n",
              "      <td>년안에남녀간성전쟁한번크게치룬후일부다처제여성의정치참여금지여성투표권삭제가세계의공통문화로...</td>\n",
              "      <td>-1</td>\n",
              "    </tr>\n",
              "    <tr>\n",
              "      <th>8</th>\n",
              "      <td>년만에재미를느끼는프로였는데왜니들때문에폐지를해야되냐</td>\n",
              "      <td>-1</td>\n",
              "    </tr>\n",
              "    <tr>\n",
              "      <th>...</th>\n",
              "      <td>...</td>\n",
              "      <td>...</td>\n",
              "    </tr>\n",
              "    <tr>\n",
              "      <th>7854</th>\n",
              "      <td>히예전에나왔던히든싱어보면송혜교닮았음ㅋ</td>\n",
              "      <td>0</td>\n",
              "    </tr>\n",
              "    <tr>\n",
              "      <th>7859</th>\n",
              "      <td>힘내라힘꽃길만걷자준희양엄마가하늘에서보고계시니꼬옥힘내라</td>\n",
              "      <td>1</td>\n",
              "    </tr>\n",
              "    <tr>\n",
              "      <th>7862</th>\n",
              "      <td>힘내세요반드시더건강하고이쁜천사가찾아와요저도아가낳기전에한번의아픔을겪었는데솔직히시간이약...</td>\n",
              "      <td>1</td>\n",
              "    </tr>\n",
              "    <tr>\n",
              "      <th>7863</th>\n",
              "      <td>힘내세요한고은님아래한남충글뭐냐풉평생연애하나못하고홀애비로살다가라니같은건여자랑결혼할자격읍다</td>\n",
              "      <td>1</td>\n",
              "    </tr>\n",
              "    <tr>\n",
              "      <th>7864</th>\n",
              "      <td>힘내세요하늘나라에서그분이지켜주시리라믿습니다항상밝은모습잃지마시고예전처럼이쁘고환한미소많...</td>\n",
              "      <td>1</td>\n",
              "    </tr>\n",
              "  </tbody>\n",
              "</table>\n",
              "<p>4616 rows × 2 columns</p>\n",
              "</div>"
            ],
            "text/plain": [
              "                                                comment sentiment\n",
              "0                 현재호텔주인심정아난마른하늘에날벼락맞고호텔망하게생겼는데누군계속추모받네        -1\n",
              "2           못된넘들남의고통을즐겼던넘들이젠마땅한처벌을받아야지그래야공정한사회지심은대로거두거라        -1\n",
              "4                   사람얼굴손톱으로긁은것은인격살해이고동영상이몰카냐메걸리안들생각이없노        -1\n",
              "6     년안에남녀간성전쟁한번크게치룬후일부다처제여성의정치참여금지여성투표권삭제가세계의공통문화로...        -1\n",
              "8                           년만에재미를느끼는프로였는데왜니들때문에폐지를해야되냐        -1\n",
              "...                                                 ...       ...\n",
              "7854                               히예전에나왔던히든싱어보면송혜교닮았음ㅋ         0\n",
              "7859                      힘내라힘꽃길만걷자준희양엄마가하늘에서보고계시니꼬옥힘내라         1\n",
              "7862  힘내세요반드시더건강하고이쁜천사가찾아와요저도아가낳기전에한번의아픔을겪었는데솔직히시간이약...         1\n",
              "7863   힘내세요한고은님아래한남충글뭐냐풉평생연애하나못하고홀애비로살다가라니같은건여자랑결혼할자격읍다         1\n",
              "7864  힘내세요하늘나라에서그분이지켜주시리라믿습니다항상밝은모습잃지마시고예전처럼이쁘고환한미소많...         1\n",
              "\n",
              "[4616 rows x 2 columns]"
            ]
          },
          "execution_count": 6,
          "metadata": {},
          "output_type": "execute_result"
        }
      ],
      "source": [
        "#after labeling\n",
        "#check your file according to the id \n",
        "#id = ['/content/V&&C_label.xlsx', '/content/O_label.xlsx', '/content/S_label.xlsx', '/content/KHS_net_label.xlsx']\n",
        "id = ['/content/KHS_net_label.xlsx']\n",
        "\n",
        "for i in id:\n",
        "\n",
        "    input_name=i\n",
        "    output_name=input_name.split('.xlsx')[0]+'.csv'\n",
        "    xlsx = pd.read_excel(input_name)\n",
        "    xlsx.to_csv(output_name, index=None)\n",
        "\n",
        "#for KHS\n",
        "df_be = pd.read_csv('/content/KHS_net_label.csv')\n",
        "df_a = pd.read_csv('/content/for_KHS_net_label.tsv', sep='\\t')\n",
        "anti = ~((df_a['contain_gender_bias']==False) & (df_a['bias']=='none') & (df_a['hate']=='none'))\n",
        "\n",
        "df_be = df_be[anti]\n",
        "df_be = df_be.dropna(how='any')\n",
        "df_be['comment'] = df_be['comment'].replace(\"[^ㄱ-ㅎㅏ-ㅣ가-힣]\",\"\")\n",
        "df_be['comment'].replace('', np.nan)\n",
        "df_be = df_be.dropna(how='any')\n",
        "\n",
        "df_be.to_csv('KHS_label.csv')\n",
        "print(df_be.isnull().sum())\n",
        "df_be"
      ]
    },
    {
      "cell_type": "markdown",
      "metadata": {
        "id": "NOt-peBsUTLE"
      },
      "source": [
        "Declaration of Variables"
      ]
    },
    {
      "cell_type": "code",
      "execution_count": null,
      "metadata": {
        "colab": {
          "base_uri": "https://localhost:8080/",
          "height": 35
        },
        "id": "w5EKoqNMTco9",
        "outputId": "7357f26e-5dfb-4fe4-9acd-33239571226c"
      },
      "outputs": [
        {
          "data": {
            "application/vnd.google.colaboratory.intrinsic+json": {
              "type": "string"
            },
            "text/plain": [
              "'뭐야 이 평점들은.... 나쁘진 않지만 10점 짜리는 더더욱 아니잖아\\t'"
            ]
          },
          "execution_count": 16,
          "metadata": {},
          "output_type": "execute_result"
        }
      ],
      "source": [
        "s = '뭐야 이 평점들은.... 나쁘진 않지만 10점 짜리는 더더욱 아니잖아\t'\n",
        "s = s.replace(\"[^ㄱ-ㅎㅏ-ㅣ가-힣]\",\"\")\n",
        "s"
      ]
    },
    {
      "cell_type": "code",
      "execution_count": null,
      "metadata": {
        "id": "ubwwLGfH9_re"
      },
      "outputs": [],
      "source": [
        "youtube_api_key=''\n",
        "\n",
        "naver_client_id=''\n",
        "naver_client_secret=''\n",
        "naver_api_url=\"https://naveropenapi.apigw.ntruss.com/sentiment-analysis/v1/analyze\"\n",
        "\n",
        "naver_headers = {\n",
        "    \"X-NCP-APIGW-API-KEY-ID\": naver_client_id,\n",
        "    \"X-NCP-APIGW-API-KEY\": naver_client_secret,\n",
        "    \"Content-Type\": \"application/json\"\n",
        "}\n",
        "\n",
        "openai_api_key=''"
      ]
    },
    {
      "cell_type": "markdown",
      "metadata": {
        "id": "f9JoP02PrTDY"
      },
      "source": [
        "Data collector Youtube_API / 다른 방법(Twitter의 경우 많은 필터링 필요) \n",
        "youtube 인기동영상의 경우 더욱 많은 필터링이 자체적으로 이루어짐.\n",
        "SNS 문장의 특성에 관해 다룬 논문을 참고할 필요가 있으며 이에 따라 적절한 동영상 댓글 수집 필요 \n",
        "Domained data를 만들기 위한 \n",
        "영상 선택도 필요\n"
      ]
    },
    {
      "cell_type": "markdown",
      "metadata": {
        "id": "nM0Lt3Cc46FV"
      },
      "source": [
        "Data Collector"
      ]
    },
    {
      "cell_type": "code",
      "execution_count": null,
      "metadata": {
        "id": "QQ9aP_XArWDn"
      },
      "outputs": [],
      "source": [
        "cnt = 0\n",
        "videos_ids = pd.read_excel('/content/Domain_data_num.xlsx')\n",
        "videos_ids.drop(columns=['Subject', 'V&&C', 'N', 'S', 'E ', 'M', 'H', 'O',\n",
        "       'Unnamed: 9', 'Unnamed: 10', 'Unnamed: 11', 'Unnamed: 12',\n",
        "       'Unnamed: 13', 'Unnamed: 14', 'Unnamed: 15'], inplace=True)\n",
        "videos_ids.dropna(how='any', inplace=True)\n",
        "\n",
        "for video_id in videos_ids['Video_ID']:\n",
        "    time.sleep(60)\n",
        "    comments = list()\n",
        "    api_obj = build('youtube', 'v3', developerKey=youtube_api_key)\n",
        "    response = api_obj.commentThreads().list(part='snippet,replies', videoId=video_id, maxResults=100, textFormat='plainText').execute()\n",
        "\n",
        "    while response:\n",
        "        for item in response['items']:\n",
        "            comment = item['snippet']['topLevelComment']['snippet']\n",
        "            comments.append([comment['textOriginal'], comment['publishedAt'], comment['likeCount']])\n",
        "\n",
        "        if 'nextPageToken' in response:\n",
        "            response = api_obj.commentThreads().list(part='snippet,replies', videoId=video_id, pageToken=response['nextPageToken'], maxResults=100).execute()\n",
        "        else:\n",
        "            break\n",
        "\n",
        "        print(comment)\n",
        "    cnt += 1 \n",
        "    df = pd.DataFrame(comments)\n",
        "\n",
        "    if cnt <= 33:\n",
        "        i = 'C_'+str(cnt)+'.csv'\n",
        "    elif cnt > 33 and cnt <= 103:\n",
        "        i = 'E_'+str(cnt-33)+'.csv'\n",
        "    elif cnt > 103 and cnt <= 158:\n",
        "        i = 'M_'+str(cnt-103)+'.csv'\n",
        "    elif cnt > 158 and cnt <= 221:\n",
        "        i = 'N_'+str(cnt-158)+'.csv'\n",
        "    elif cnt > 221 and cnt <= 282:\n",
        "        i = 'O_'+str(cnt-221)+'.csv'\n",
        "    elif cnt > 282 and cnt <= 346:\n",
        "        i = 'S_'+str(cnt-282)+'.csv'\n",
        "    else:\n",
        "        i = 'V_'+str(cnt-346)+'.csv'\n",
        "\n",
        "    df.to_csv(i, header=['comment', 'date', 'num_likes'], index=None, encoding='utf-8')"
      ]
    },
    {
      "cell_type": "markdown",
      "metadata": {
        "id": "g_9zcbNsUyLf"
      },
      "source": []
    },
    {
      "cell_type": "code",
      "execution_count": null,
      "metadata": {
        "colab": {
          "base_uri": "https://localhost:8080/"
        },
        "id": "Q2KjjZdg480b",
        "outputId": "5e914c81-eae1-4080-a343-f8bdde47d839"
      },
      "outputs": [
        {
          "name": "stdout",
          "output_type": "stream",
          "text": [
            "Cloning into 'nsmc'...\n",
            "remote: Enumerating objects: 14763, done.\u001b[K\n",
            "remote: Total 14763 (delta 0), reused 0 (delta 0), pack-reused 14763\u001b[K\n",
            "Receiving objects: 100% (14763/14763), 56.19 MiB | 22.38 MiB/s, done.\n",
            "Resolving deltas: 100% (1749/1749), done.\n",
            "Checking out files: 100% (14737/14737), done.\n"
          ]
        }
      ],
      "source": [
        "if not os.path.exists('./nsmc'):\n",
        "    !git clone https://github.com/e9t/nsmc"
      ]
    },
    {
      "cell_type": "code",
      "execution_count": null,
      "metadata": {
        "colab": {
          "base_uri": "https://localhost:8080/"
        },
        "id": "A9XSC2xr5MYw",
        "outputId": "d83be786-ffe7-4649-9eef-bf38de13f2a2"
      },
      "outputs": [
        {
          "name": "stdout",
          "output_type": "stream",
          "text": [
            "id\tdocument\tlabel\n",
            "9976970\t아 더빙.. 진짜 짜증나네요 목소리\t0\n",
            "3819312\t흠...포스터보고 초딩영화줄....오버연기조차 가볍지 않구나\t1\n",
            "10265843\t너무재밓었다그래서보는것을추천한다\t0\n",
            "9045019\t교도소 이야기구먼 ..솔직히 재미는 없다..평점 조정\t0\n",
            "6483659\t사이몬페그의 익살스런 연기가 돋보였던 영화!스파이더맨에서 늙어보이기만 했던 커스틴 던스트가 너무나도 이뻐보였다\t1\n",
            "5403919\t막 걸음마 뗀 3세부터 초등학교 1학년생인 8살용영화.ㅋㅋㅋ...별반개도 아까움.\t0\n",
            "7797314\t원작의 긴장감을 제대로 살려내지못했다.\t0\n",
            "9443947\t별 반개도 아깝다 욕나온다 이응경 길용우 연기생활이몇년인지..정말 발로해도 그것보단 낫겟다 납치.감금만반복반복..이드라마는 가족도없다 연기못하는사람만모엿네\t0\n",
            "7156791\t액션이 없는데도 재미 있는 몇안되는 영화\t1\n"
          ]
        }
      ],
      "source": [
        "!head nsmc/ratings_train.txt"
      ]
    },
    {
      "cell_type": "code",
      "execution_count": null,
      "metadata": {
        "colab": {
          "base_uri": "https://localhost:8080/",
          "height": 423
        },
        "id": "ZqSXtAUXMurF",
        "outputId": "14eb2a2a-1f6f-417f-b9ac-7fedac0f0b41"
      },
      "outputs": [
        {
          "data": {
            "text/html": [
              "<div>\n",
              "<style scoped>\n",
              "    .dataframe tbody tr th:only-of-type {\n",
              "        vertical-align: middle;\n",
              "    }\n",
              "\n",
              "    .dataframe tbody tr th {\n",
              "        vertical-align: top;\n",
              "    }\n",
              "\n",
              "    .dataframe thead th {\n",
              "        text-align: right;\n",
              "    }\n",
              "</style>\n",
              "<table border=\"1\" class=\"dataframe\">\n",
              "  <thead>\n",
              "    <tr style=\"text-align: right;\">\n",
              "      <th></th>\n",
              "      <th>id</th>\n",
              "      <th>comment</th>\n",
              "      <th>sentiment</th>\n",
              "    </tr>\n",
              "  </thead>\n",
              "  <tbody>\n",
              "    <tr>\n",
              "      <th>0</th>\n",
              "      <td>6270596</td>\n",
              "      <td>굳 ㅋ</td>\n",
              "      <td>1</td>\n",
              "    </tr>\n",
              "    <tr>\n",
              "      <th>1</th>\n",
              "      <td>9274899</td>\n",
              "      <td>GDNTOPCLASSINTHECLUB</td>\n",
              "      <td>0</td>\n",
              "    </tr>\n",
              "    <tr>\n",
              "      <th>2</th>\n",
              "      <td>8544678</td>\n",
              "      <td>뭐야 이 평점들은.... 나쁘진 않지만 10점 짜리는 더더욱 아니잖아</td>\n",
              "      <td>0</td>\n",
              "    </tr>\n",
              "    <tr>\n",
              "      <th>3</th>\n",
              "      <td>6825595</td>\n",
              "      <td>지루하지는 않은데 완전 막장임... 돈주고 보기에는....</td>\n",
              "      <td>0</td>\n",
              "    </tr>\n",
              "    <tr>\n",
              "      <th>4</th>\n",
              "      <td>6723715</td>\n",
              "      <td>3D만 아니었어도 별 다섯 개 줬을텐데.. 왜 3D로 나와서 제 심기를 불편하게 하죠??</td>\n",
              "      <td>0</td>\n",
              "    </tr>\n",
              "    <tr>\n",
              "      <th>...</th>\n",
              "      <td>...</td>\n",
              "      <td>...</td>\n",
              "      <td>...</td>\n",
              "    </tr>\n",
              "    <tr>\n",
              "      <th>49995</th>\n",
              "      <td>4608761</td>\n",
              "      <td>오랜만에 평점 로긴했네ㅋㅋ 킹왕짱 쌈뽕한 영화를 만났습니다 강렬하게 육쾌함</td>\n",
              "      <td>1</td>\n",
              "    </tr>\n",
              "    <tr>\n",
              "      <th>49996</th>\n",
              "      <td>5308387</td>\n",
              "      <td>의지 박약들이나 하는거다 탈영은 일단 주인공 김대희 닮았고 이등병 찐따 OOOO</td>\n",
              "      <td>0</td>\n",
              "    </tr>\n",
              "    <tr>\n",
              "      <th>49997</th>\n",
              "      <td>9072549</td>\n",
              "      <td>그림도 좋고 완성도도 높았지만... 보는 내내 불안하게 만든다</td>\n",
              "      <td>0</td>\n",
              "    </tr>\n",
              "    <tr>\n",
              "      <th>49998</th>\n",
              "      <td>5802125</td>\n",
              "      <td>절대 봐서는 안 될 영화.. 재미도 없고 기분만 잡치고.. 한 세트장에서 다 해먹네</td>\n",
              "      <td>0</td>\n",
              "    </tr>\n",
              "    <tr>\n",
              "      <th>49999</th>\n",
              "      <td>6070594</td>\n",
              "      <td>마무리는 또 왜이래</td>\n",
              "      <td>0</td>\n",
              "    </tr>\n",
              "  </tbody>\n",
              "</table>\n",
              "<p>50000 rows × 3 columns</p>\n",
              "</div>"
            ],
            "text/plain": [
              "            id                                            comment  sentiment\n",
              "0      6270596                                                굳 ㅋ          1\n",
              "1      9274899                               GDNTOPCLASSINTHECLUB          0\n",
              "2      8544678             뭐야 이 평점들은.... 나쁘진 않지만 10점 짜리는 더더욱 아니잖아          0\n",
              "3      6825595                   지루하지는 않은데 완전 막장임... 돈주고 보기에는....          0\n",
              "4      6723715  3D만 아니었어도 별 다섯 개 줬을텐데.. 왜 3D로 나와서 제 심기를 불편하게 하죠??          0\n",
              "...        ...                                                ...        ...\n",
              "49995  4608761          오랜만에 평점 로긴했네ㅋㅋ 킹왕짱 쌈뽕한 영화를 만났습니다 강렬하게 육쾌함          1\n",
              "49996  5308387       의지 박약들이나 하는거다 탈영은 일단 주인공 김대희 닮았고 이등병 찐따 OOOO          0\n",
              "49997  9072549                 그림도 좋고 완성도도 높았지만... 보는 내내 불안하게 만든다          0\n",
              "49998  5802125     절대 봐서는 안 될 영화.. 재미도 없고 기분만 잡치고.. 한 세트장에서 다 해먹네          0\n",
              "49999  6070594                                         마무리는 또 왜이래          0\n",
              "\n",
              "[50000 rows x 3 columns]"
            ]
          },
          "execution_count": 16,
          "metadata": {},
          "output_type": "execute_result"
        }
      ],
      "source": [
        "df_be = pd.read_csv('/content/nsmc/ratings_test.txt', sep='\\t')\n",
        "df_be.rename(columns={'document':'comment', 'label':'sentiment'}, inplace=True)\n",
        "df_be"
      ]
    },
    {
      "cell_type": "code",
      "execution_count": null,
      "metadata": {
        "id": "oYBxxXP-UaWO"
      },
      "outputs": [],
      "source": [
        "pd.options.mode.chained_assignment = 'warn'\n",
        "cnt = 0\n",
        "characters = \"'.[0-9]#\\:\"\n",
        "columns = ['comment']\n",
        "\n",
        "s = pd.DataFrame(columns=columns)\n",
        "\n",
        "for i in df_be['comment']:\n",
        "    if type(i) == str:\n",
        "        if len(i) < 60 and len(i) > 5:\n",
        "            for x in range(len(characters)):\n",
        "                q = characters[x]\n",
        "                r = i.replace(q, \"\")\n",
        "\n",
        "            r = r.strip()\n",
        "            r = emoticon_normalize(r, num_repeats=2)\n",
        "            comment = r\n",
        "            row = [comment]\n",
        "            series = pd.Series(row, index=s.columns)\n",
        "            s = s.append(series, ignore_index=True)\n",
        "\n",
        "s['comment'] = s['comment'].str.replace(\"[^ㄱ-ㅎㅏ-ㅣ가-힣 ]\",\"\") #숫자, !, ? 등 포함시켜서도 해보기\n",
        "s['comment'].replace('', np.nan)\n",
        "\n",
        "s = s.dropna(how='any')"
      ]
    },
    {
      "cell_type": "code",
      "execution_count": null,
      "metadata": {
        "colab": {
          "base_uri": "https://localhost:8080/",
          "height": 496
        },
        "id": "FWc4MyHuMseC",
        "outputId": "c94cf767-034e-4ac3-9453-cdb3d8cae21e"
      },
      "outputs": [
        {
          "name": "stdout",
          "output_type": "stream",
          "text": [
            "id           0\n",
            "comment      3\n",
            "sentiment    0\n",
            "dtype: int64\n"
          ]
        },
        {
          "data": {
            "text/html": [
              "<div>\n",
              "<style scoped>\n",
              "    .dataframe tbody tr th:only-of-type {\n",
              "        vertical-align: middle;\n",
              "    }\n",
              "\n",
              "    .dataframe tbody tr th {\n",
              "        vertical-align: top;\n",
              "    }\n",
              "\n",
              "    .dataframe thead th {\n",
              "        text-align: right;\n",
              "    }\n",
              "</style>\n",
              "<table border=\"1\" class=\"dataframe\">\n",
              "  <thead>\n",
              "    <tr style=\"text-align: right;\">\n",
              "      <th></th>\n",
              "      <th>id</th>\n",
              "      <th>comment</th>\n",
              "      <th>sentiment</th>\n",
              "    </tr>\n",
              "  </thead>\n",
              "  <tbody>\n",
              "    <tr>\n",
              "      <th>0</th>\n",
              "      <td>6270596</td>\n",
              "      <td>굳 ㅋ</td>\n",
              "      <td>1</td>\n",
              "    </tr>\n",
              "    <tr>\n",
              "      <th>1</th>\n",
              "      <td>9274899</td>\n",
              "      <td>GDNTOPCLASSINTHECLUB</td>\n",
              "      <td>0</td>\n",
              "    </tr>\n",
              "    <tr>\n",
              "      <th>2</th>\n",
              "      <td>8544678</td>\n",
              "      <td>뭐야 이 평점들은.... 나쁘진 않지만 10점 짜리는 더더욱 아니잖아</td>\n",
              "      <td>0</td>\n",
              "    </tr>\n",
              "    <tr>\n",
              "      <th>3</th>\n",
              "      <td>6825595</td>\n",
              "      <td>지루하지는 않은데 완전 막장임... 돈주고 보기에는....</td>\n",
              "      <td>0</td>\n",
              "    </tr>\n",
              "    <tr>\n",
              "      <th>4</th>\n",
              "      <td>6723715</td>\n",
              "      <td>3D만 아니었어도 별 다섯 개 줬을텐데.. 왜 3D로 나와서 제 심기를 불편하게 하죠??</td>\n",
              "      <td>0</td>\n",
              "    </tr>\n",
              "    <tr>\n",
              "      <th>...</th>\n",
              "      <td>...</td>\n",
              "      <td>...</td>\n",
              "      <td>...</td>\n",
              "    </tr>\n",
              "    <tr>\n",
              "      <th>49995</th>\n",
              "      <td>4608761</td>\n",
              "      <td>오랜만에 평점 로긴했네ㅋㅋ 킹왕짱 쌈뽕한 영화를 만났습니다 강렬하게 육쾌함</td>\n",
              "      <td>1</td>\n",
              "    </tr>\n",
              "    <tr>\n",
              "      <th>49996</th>\n",
              "      <td>5308387</td>\n",
              "      <td>의지 박약들이나 하는거다 탈영은 일단 주인공 김대희 닮았고 이등병 찐따 OOOO</td>\n",
              "      <td>0</td>\n",
              "    </tr>\n",
              "    <tr>\n",
              "      <th>49997</th>\n",
              "      <td>9072549</td>\n",
              "      <td>그림도 좋고 완성도도 높았지만... 보는 내내 불안하게 만든다</td>\n",
              "      <td>0</td>\n",
              "    </tr>\n",
              "    <tr>\n",
              "      <th>49998</th>\n",
              "      <td>5802125</td>\n",
              "      <td>절대 봐서는 안 될 영화.. 재미도 없고 기분만 잡치고.. 한 세트장에서 다 해먹네</td>\n",
              "      <td>0</td>\n",
              "    </tr>\n",
              "    <tr>\n",
              "      <th>49999</th>\n",
              "      <td>6070594</td>\n",
              "      <td>마무리는 또 왜이래</td>\n",
              "      <td>0</td>\n",
              "    </tr>\n",
              "  </tbody>\n",
              "</table>\n",
              "<p>50000 rows × 3 columns</p>\n",
              "</div>"
            ],
            "text/plain": [
              "            id                                            comment  sentiment\n",
              "0      6270596                                                굳 ㅋ          1\n",
              "1      9274899                               GDNTOPCLASSINTHECLUB          0\n",
              "2      8544678             뭐야 이 평점들은.... 나쁘진 않지만 10점 짜리는 더더욱 아니잖아          0\n",
              "3      6825595                   지루하지는 않은데 완전 막장임... 돈주고 보기에는....          0\n",
              "4      6723715  3D만 아니었어도 별 다섯 개 줬을텐데.. 왜 3D로 나와서 제 심기를 불편하게 하죠??          0\n",
              "...        ...                                                ...        ...\n",
              "49995  4608761          오랜만에 평점 로긴했네ㅋㅋ 킹왕짱 쌈뽕한 영화를 만났습니다 강렬하게 육쾌함          1\n",
              "49996  5308387       의지 박약들이나 하는거다 탈영은 일단 주인공 김대희 닮았고 이등병 찐따 OOOO          0\n",
              "49997  9072549                 그림도 좋고 완성도도 높았지만... 보는 내내 불안하게 만든다          0\n",
              "49998  5802125     절대 봐서는 안 될 영화.. 재미도 없고 기분만 잡치고.. 한 세트장에서 다 해먹네          0\n",
              "49999  6070594                                         마무리는 또 왜이래          0\n",
              "\n",
              "[50000 rows x 3 columns]"
            ]
          },
          "execution_count": 18,
          "metadata": {},
          "output_type": "execute_result"
        }
      ],
      "source": [
        "df_be['comment'] = df_be['comment'].replace(\"[^ㄱ-ㅎㅏ-ㅣ가-힣]\",\"\")\n",
        "df_be['comment'].replace('', np.nan)\n",
        "#df_be.dropna(how='any', inplace=True, axis=0)\n",
        "\n",
        "df_be.to_csv('/content/ratings_test.txt', index=False, sep='\\t')\n",
        "print(df_be.isnull().sum())\n",
        "df_be"
      ]
    },
    {
      "cell_type": "code",
      "execution_count": null,
      "metadata": {
        "colab": {
          "base_uri": "https://localhost:8080/",
          "height": 423
        },
        "id": "P5NZaGw9YNDA",
        "outputId": "97ddfb9a-eb62-4b24-9339-697032fdd59c"
      },
      "outputs": [
        {
          "data": {
            "text/html": [
              "<div>\n",
              "<style scoped>\n",
              "    .dataframe tbody tr th:only-of-type {\n",
              "        vertical-align: middle;\n",
              "    }\n",
              "\n",
              "    .dataframe tbody tr th {\n",
              "        vertical-align: top;\n",
              "    }\n",
              "\n",
              "    .dataframe thead th {\n",
              "        text-align: right;\n",
              "    }\n",
              "</style>\n",
              "<table border=\"1\" class=\"dataframe\">\n",
              "  <thead>\n",
              "    <tr style=\"text-align: right;\">\n",
              "      <th></th>\n",
              "      <th>id</th>\n",
              "      <th>comment</th>\n",
              "      <th>sentiment</th>\n",
              "    </tr>\n",
              "  </thead>\n",
              "  <tbody>\n",
              "    <tr>\n",
              "      <th>0</th>\n",
              "      <td>9976970</td>\n",
              "      <td>아 더빙.. 진짜 짜증나네요 목소리</td>\n",
              "      <td>0</td>\n",
              "    </tr>\n",
              "    <tr>\n",
              "      <th>1</th>\n",
              "      <td>3819312</td>\n",
              "      <td>흠...포스터보고 초딩영화줄....오버연기조차 가볍지 않구나</td>\n",
              "      <td>1</td>\n",
              "    </tr>\n",
              "    <tr>\n",
              "      <th>2</th>\n",
              "      <td>10265843</td>\n",
              "      <td>너무재밓었다그래서보는것을추천한다</td>\n",
              "      <td>0</td>\n",
              "    </tr>\n",
              "    <tr>\n",
              "      <th>3</th>\n",
              "      <td>9045019</td>\n",
              "      <td>교도소 이야기구먼 ..솔직히 재미는 없다..평점 조정</td>\n",
              "      <td>0</td>\n",
              "    </tr>\n",
              "    <tr>\n",
              "      <th>4</th>\n",
              "      <td>6483659</td>\n",
              "      <td>사이몬페그의 익살스런 연기가 돋보였던 영화!스파이더맨에서 늙어보이기만 했던 커스틴 ...</td>\n",
              "      <td>1</td>\n",
              "    </tr>\n",
              "    <tr>\n",
              "      <th>...</th>\n",
              "      <td>...</td>\n",
              "      <td>...</td>\n",
              "      <td>...</td>\n",
              "    </tr>\n",
              "    <tr>\n",
              "      <th>149995</th>\n",
              "      <td>6222902</td>\n",
              "      <td>인간이 문제지.. 소는 뭔죄인가..</td>\n",
              "      <td>0</td>\n",
              "    </tr>\n",
              "    <tr>\n",
              "      <th>149996</th>\n",
              "      <td>8549745</td>\n",
              "      <td>평점이 너무 낮아서...</td>\n",
              "      <td>1</td>\n",
              "    </tr>\n",
              "    <tr>\n",
              "      <th>149997</th>\n",
              "      <td>9311800</td>\n",
              "      <td>이게 뭐요? 한국인은 거들먹거리고 필리핀 혼혈은 착하다?</td>\n",
              "      <td>0</td>\n",
              "    </tr>\n",
              "    <tr>\n",
              "      <th>149998</th>\n",
              "      <td>2376369</td>\n",
              "      <td>청춘 영화의 최고봉.방황과 우울했던 날들의 자화상</td>\n",
              "      <td>1</td>\n",
              "    </tr>\n",
              "    <tr>\n",
              "      <th>149999</th>\n",
              "      <td>9619869</td>\n",
              "      <td>한국 영화 최초로 수간하는 내용이 담긴 영화</td>\n",
              "      <td>0</td>\n",
              "    </tr>\n",
              "  </tbody>\n",
              "</table>\n",
              "<p>150000 rows × 3 columns</p>\n",
              "</div>"
            ],
            "text/plain": [
              "              id                                            comment  sentiment\n",
              "0        9976970                                아 더빙.. 진짜 짜증나네요 목소리          0\n",
              "1        3819312                  흠...포스터보고 초딩영화줄....오버연기조차 가볍지 않구나          1\n",
              "2       10265843                                  너무재밓었다그래서보는것을추천한다          0\n",
              "3        9045019                      교도소 이야기구먼 ..솔직히 재미는 없다..평점 조정          0\n",
              "4        6483659  사이몬페그의 익살스런 연기가 돋보였던 영화!스파이더맨에서 늙어보이기만 했던 커스틴 ...          1\n",
              "...          ...                                                ...        ...\n",
              "149995   6222902                                인간이 문제지.. 소는 뭔죄인가..          0\n",
              "149996   8549745                                      평점이 너무 낮아서...          1\n",
              "149997   9311800                    이게 뭐요? 한국인은 거들먹거리고 필리핀 혼혈은 착하다?          0\n",
              "149998   2376369                        청춘 영화의 최고봉.방황과 우울했던 날들의 자화상          1\n",
              "149999   9619869                           한국 영화 최초로 수간하는 내용이 담긴 영화          0\n",
              "\n",
              "[150000 rows x 3 columns]"
            ]
          },
          "execution_count": 19,
          "metadata": {},
          "output_type": "execute_result"
        }
      ],
      "source": [
        "df_be = pd.read_csv('/content/nsmc/ratings_train.txt', sep='\\t')\n",
        "df_be.rename(columns={'document':'comment', 'label':'sentiment'}, inplace=True)\n",
        "df_be"
      ]
    },
    {
      "cell_type": "code",
      "execution_count": null,
      "metadata": {
        "id": "jPw6n3wIYVTM"
      },
      "outputs": [],
      "source": [
        "pd.options.mode.chained_assignment = 'warn'\n",
        "cnt = 0\n",
        "characters = \"'.[0-9]#\\:\"\n",
        "columns = ['comment']\n",
        "\n",
        "s = pd.DataFrame(columns=columns)\n",
        "\n",
        "for i in df_be['comment']:\n",
        "    if type(i) == str:\n",
        "        if len(i) < 60 and len(i) > 5:\n",
        "            for x in range(len(characters)):\n",
        "                q = characters[x]\n",
        "                r = i.replace(q, \"\")\n",
        "\n",
        "            r = r.strip()\n",
        "            r = emoticon_normalize(r, num_repeats=2)\n",
        "            comment = r\n",
        "            row = [comment]\n",
        "            series = pd.Series(row, index=s.columns)\n",
        "            s = s.append(series, ignore_index=True)\n",
        "\n",
        "s['comment'] = s['comment'].str.replace(\"[^ㄱ-ㅎㅏ-ㅣ가-힣 ]\",\"\") #숫자, !, ? 등 포함시켜서도 해보기\n",
        "s['comment'].replace('', np.nan)\n",
        "\n",
        "s = s.dropna(how='any')"
      ]
    },
    {
      "cell_type": "code",
      "execution_count": null,
      "metadata": {
        "colab": {
          "base_uri": "https://localhost:8080/",
          "height": 496
        },
        "id": "7dIrQeXqYcJ5",
        "outputId": "eca7e7cd-1dc5-4175-d7e0-1e13cd544dce"
      },
      "outputs": [
        {
          "name": "stdout",
          "output_type": "stream",
          "text": [
            "id           0\n",
            "comment      5\n",
            "sentiment    0\n",
            "dtype: int64\n"
          ]
        },
        {
          "data": {
            "text/html": [
              "<div>\n",
              "<style scoped>\n",
              "    .dataframe tbody tr th:only-of-type {\n",
              "        vertical-align: middle;\n",
              "    }\n",
              "\n",
              "    .dataframe tbody tr th {\n",
              "        vertical-align: top;\n",
              "    }\n",
              "\n",
              "    .dataframe thead th {\n",
              "        text-align: right;\n",
              "    }\n",
              "</style>\n",
              "<table border=\"1\" class=\"dataframe\">\n",
              "  <thead>\n",
              "    <tr style=\"text-align: right;\">\n",
              "      <th></th>\n",
              "      <th>id</th>\n",
              "      <th>comment</th>\n",
              "      <th>sentiment</th>\n",
              "    </tr>\n",
              "  </thead>\n",
              "  <tbody>\n",
              "    <tr>\n",
              "      <th>0</th>\n",
              "      <td>9976970</td>\n",
              "      <td>아 더빙.. 진짜 짜증나네요 목소리</td>\n",
              "      <td>0</td>\n",
              "    </tr>\n",
              "    <tr>\n",
              "      <th>1</th>\n",
              "      <td>3819312</td>\n",
              "      <td>흠...포스터보고 초딩영화줄....오버연기조차 가볍지 않구나</td>\n",
              "      <td>1</td>\n",
              "    </tr>\n",
              "    <tr>\n",
              "      <th>2</th>\n",
              "      <td>10265843</td>\n",
              "      <td>너무재밓었다그래서보는것을추천한다</td>\n",
              "      <td>0</td>\n",
              "    </tr>\n",
              "    <tr>\n",
              "      <th>3</th>\n",
              "      <td>9045019</td>\n",
              "      <td>교도소 이야기구먼 ..솔직히 재미는 없다..평점 조정</td>\n",
              "      <td>0</td>\n",
              "    </tr>\n",
              "    <tr>\n",
              "      <th>4</th>\n",
              "      <td>6483659</td>\n",
              "      <td>사이몬페그의 익살스런 연기가 돋보였던 영화!스파이더맨에서 늙어보이기만 했던 커스틴 ...</td>\n",
              "      <td>1</td>\n",
              "    </tr>\n",
              "    <tr>\n",
              "      <th>...</th>\n",
              "      <td>...</td>\n",
              "      <td>...</td>\n",
              "      <td>...</td>\n",
              "    </tr>\n",
              "    <tr>\n",
              "      <th>149995</th>\n",
              "      <td>6222902</td>\n",
              "      <td>인간이 문제지.. 소는 뭔죄인가..</td>\n",
              "      <td>0</td>\n",
              "    </tr>\n",
              "    <tr>\n",
              "      <th>149996</th>\n",
              "      <td>8549745</td>\n",
              "      <td>평점이 너무 낮아서...</td>\n",
              "      <td>1</td>\n",
              "    </tr>\n",
              "    <tr>\n",
              "      <th>149997</th>\n",
              "      <td>9311800</td>\n",
              "      <td>이게 뭐요? 한국인은 거들먹거리고 필리핀 혼혈은 착하다?</td>\n",
              "      <td>0</td>\n",
              "    </tr>\n",
              "    <tr>\n",
              "      <th>149998</th>\n",
              "      <td>2376369</td>\n",
              "      <td>청춘 영화의 최고봉.방황과 우울했던 날들의 자화상</td>\n",
              "      <td>1</td>\n",
              "    </tr>\n",
              "    <tr>\n",
              "      <th>149999</th>\n",
              "      <td>9619869</td>\n",
              "      <td>한국 영화 최초로 수간하는 내용이 담긴 영화</td>\n",
              "      <td>0</td>\n",
              "    </tr>\n",
              "  </tbody>\n",
              "</table>\n",
              "<p>150000 rows × 3 columns</p>\n",
              "</div>"
            ],
            "text/plain": [
              "              id                                            comment  sentiment\n",
              "0        9976970                                아 더빙.. 진짜 짜증나네요 목소리          0\n",
              "1        3819312                  흠...포스터보고 초딩영화줄....오버연기조차 가볍지 않구나          1\n",
              "2       10265843                                  너무재밓었다그래서보는것을추천한다          0\n",
              "3        9045019                      교도소 이야기구먼 ..솔직히 재미는 없다..평점 조정          0\n",
              "4        6483659  사이몬페그의 익살스런 연기가 돋보였던 영화!스파이더맨에서 늙어보이기만 했던 커스틴 ...          1\n",
              "...          ...                                                ...        ...\n",
              "149995   6222902                                인간이 문제지.. 소는 뭔죄인가..          0\n",
              "149996   8549745                                      평점이 너무 낮아서...          1\n",
              "149997   9311800                    이게 뭐요? 한국인은 거들먹거리고 필리핀 혼혈은 착하다?          0\n",
              "149998   2376369                        청춘 영화의 최고봉.방황과 우울했던 날들의 자화상          1\n",
              "149999   9619869                           한국 영화 최초로 수간하는 내용이 담긴 영화          0\n",
              "\n",
              "[150000 rows x 3 columns]"
            ]
          },
          "execution_count": 21,
          "metadata": {},
          "output_type": "execute_result"
        }
      ],
      "source": [
        "df_be['comment'] = df_be['comment'].replace(\"[^ㄱ-ㅎㅏ-ㅣ가-힣]\",\"\")\n",
        "df_be['comment'].replace('', np.nan)\n",
        "#df_be.dropna(how='any', inplace=True, axis=0)\n",
        "\n",
        "df_be.to_csv('/content/ratings_train.txt', index=False, sep='\\t')\n",
        "print(df_be.isnull().sum())\n",
        "df_be"
      ]
    },
    {
      "cell_type": "markdown",
      "metadata": {
        "id": "2-q5lVmKrWtF"
      },
      "source": [
        "Data preprocessing"
      ]
    },
    {
      "cell_type": "markdown",
      "metadata": {
        "id": "GhyJPCyplLSS"
      },
      "source": [
        "soynlp에서 문법교정(띄어쓰기) 라이브러리 사용 고려\n",
        "https://github.com/lovit/soyspacing / vectorize 할 때 성능 향상\n",
        "/ 국립 국어원 말뭉치 활용"
      ]
    },
    {
      "cell_type": "markdown",
      "metadata": {
        "id": "oaMuBv-1mHnL"
      },
      "source": [
        "1. 문장 글자 수 조절\n",
        "2. ㅋㅋㅋㅋㅋㅋㅋㅋㅋ -> ㅋㅋ\n",
        "3. '#\\/ 등의 문자열 제거\n",
        "4. 영어 제거\n",
        "5. 중복된 데이터 제거 \n",
        "6. NaN값 제거\n",
        "7. '{space}정보 R&E?{space}' -> '정보 R&E?'\n"
      ]
    },
    {
      "cell_type": "code",
      "execution_count": null,
      "metadata": {
        "colab": {
          "base_uri": "https://localhost:8080/",
          "height": 585
        },
        "id": "PZ2M0Q1HJtTt",
        "outputId": "d91fdf56-1cb0-420d-a13e-e8ee24783e22"
      },
      "outputs": [
        {
          "data": {
            "text/html": [
              "<div>\n",
              "<style scoped>\n",
              "    .dataframe tbody tr th:only-of-type {\n",
              "        vertical-align: middle;\n",
              "    }\n",
              "\n",
              "    .dataframe tbody tr th {\n",
              "        vertical-align: top;\n",
              "    }\n",
              "\n",
              "    .dataframe thead th {\n",
              "        text-align: right;\n",
              "    }\n",
              "</style>\n",
              "<table border=\"1\" class=\"dataframe\">\n",
              "  <thead>\n",
              "    <tr style=\"text-align: right;\">\n",
              "      <th></th>\n",
              "      <th>comment</th>\n",
              "      <th>date</th>\n",
              "      <th>num_likes</th>\n",
              "    </tr>\n",
              "  </thead>\n",
              "  <tbody>\n",
              "    <tr>\n",
              "      <th>0</th>\n",
              "      <td>판매 페이지를보니 아이패드 12.9는 앞부분만 전용 모델을 따로 구입해야될 것 같습...</td>\n",
              "      <td>2021-03-20T12:12:03Z</td>\n",
              "      <td>900</td>\n",
              "    </tr>\n",
              "    <tr>\n",
              "      <th>1</th>\n",
              "      <td>인트로 역대급인데 ㅋㅋㅋㅋㅋㅋㅋ</td>\n",
              "      <td>2021-11-12T16:23:22Z</td>\n",
              "      <td>0</td>\n",
              "    </tr>\n",
              "    <tr>\n",
              "      <th>2</th>\n",
              "      <td>1:20 아가씨 아닌가 ㅋㅋㅋㅋㅋㅋㅋㅋㅋㅋ 여윽시...스킹...</td>\n",
              "      <td>2021-11-09T17:32:27Z</td>\n",
              "      <td>0</td>\n",
              "    </tr>\n",
              "    <tr>\n",
              "      <th>3</th>\n",
              "      <td>오옷 200만</td>\n",
              "      <td>2021-11-08T14:31:57Z</td>\n",
              "      <td>0</td>\n",
              "    </tr>\n",
              "    <tr>\n",
              "      <th>4</th>\n",
              "      <td>저 침대 거치대.. 약간 모서리가 찍힌 아이폰에 썼다가 아이폰 빠지직 하고 후면 다...</td>\n",
              "      <td>2021-11-03T07:12:16Z</td>\n",
              "      <td>0</td>\n",
              "    </tr>\n",
              "    <tr>\n",
              "      <th>...</th>\n",
              "      <td>...</td>\n",
              "      <td>...</td>\n",
              "      <td>...</td>\n",
              "    </tr>\n",
              "    <tr>\n",
              "      <th>1392</th>\n",
              "      <td>각선미 무쳤다</td>\n",
              "      <td>2021-03-20T12:01:34Z</td>\n",
              "      <td>3</td>\n",
              "    </tr>\n",
              "    <tr>\n",
              "      <th>1393</th>\n",
              "      <td>ㅗㅜㅑ...</td>\n",
              "      <td>2021-03-20T12:01:30Z</td>\n",
              "      <td>0</td>\n",
              "    </tr>\n",
              "    <tr>\n",
              "      <th>1394</th>\n",
              "      <td>어찌 인트로가 점점 병맛이 됩니까?????\\n1빠</td>\n",
              "      <td>2021-03-20T12:01:13Z</td>\n",
              "      <td>4</td>\n",
              "    </tr>\n",
              "    <tr>\n",
              "      <th>1395</th>\n",
              "      <td>🥰</td>\n",
              "      <td>2021-03-20T12:00:59Z</td>\n",
              "      <td>0</td>\n",
              "    </tr>\n",
              "    <tr>\n",
              "      <th>1396</th>\n",
              "      <td>ㅎㅎ</td>\n",
              "      <td>2021-03-20T12:00:48Z</td>\n",
              "      <td>3</td>\n",
              "    </tr>\n",
              "  </tbody>\n",
              "</table>\n",
              "<p>1397 rows × 3 columns</p>\n",
              "</div>"
            ],
            "text/plain": [
              "                                                comment  ... num_likes\n",
              "0     판매 페이지를보니 아이패드 12.9는 앞부분만 전용 모델을 따로 구입해야될 것 같습...  ...       900\n",
              "1                                     인트로 역대급인데 ㅋㅋㅋㅋㅋㅋㅋ  ...         0\n",
              "2                   1:20 아가씨 아닌가 ㅋㅋㅋㅋㅋㅋㅋㅋㅋㅋ 여윽시...스킹...  ...         0\n",
              "3                                               오옷 200만  ...         0\n",
              "4     저 침대 거치대.. 약간 모서리가 찍힌 아이폰에 썼다가 아이폰 빠지직 하고 후면 다...  ...         0\n",
              "...                                                 ...  ...       ...\n",
              "1392                                            각선미 무쳤다  ...         3\n",
              "1393                                             ㅗㅜㅑ...  ...         0\n",
              "1394                        어찌 인트로가 점점 병맛이 됩니까?????\\n1빠  ...         4\n",
              "1395                                                  🥰  ...         0\n",
              "1396                                                 ㅎㅎ  ...         3\n",
              "\n",
              "[1397 rows x 3 columns]"
            ]
          },
          "execution_count": 8,
          "metadata": {},
          "output_type": "execute_result"
        }
      ],
      "source": [
        "data = pd.read_csv('/content/results.csv', engine='python', error_bad_lines=False) #engine='python' 사용시 [CParserError: Error tokenizing data. C error: Buffer overflow caught - possible malformed input file.] 발생안함 / 2021.10.19\n",
        "data    \n",
        "\n",
        "                                                    #engine='c'를 사용하는 경우도 있음. / 2021.10.19\n",
        "#error_bad_lines=False => engine='c' => error && engine='python' => error 해결가능(NULL Byte) / 2021.10.19"
      ]
    },
    {
      "cell_type": "code",
      "execution_count": null,
      "metadata": {
        "id": "2u5AOvugk8vV"
      },
      "outputs": [],
      "source": [
        "def below_threshold_len(max_len, nested_list):\n",
        "    cnt = 0\n",
        "    for s in nested_list:\n",
        "        if(len(s) <= max_len):\n",
        "            cnt += 1\n",
        "    print('전체 샘플 중 길이가 %d이하인 샘플의 비율 : %f'%(max_len, (cnt / len(data))*100))\n",
        "\n",
        "def upper_threshold_len(min_len, nested_list):\n",
        "    cnt = 0\n",
        "    for s in nested_list:\n",
        "        if(len(s) >= min_len):\n",
        "            cnt += 1\n",
        "    print('전체 샘플 중 길이가 %d이상인 샘플의 비율 : %f'%(min_len, (cnt / len(data))*100))"
      ]
    },
    {
      "cell_type": "code",
      "execution_count": null,
      "metadata": {
        "id": "5GpeZIJNlAEH"
      },
      "outputs": [],
      "source": [
        "# max_len = 5\n",
        "# min_len = 60\n",
        "# text = data['comment']\n",
        "# below_threshold_len(max_len, text)\n",
        "# upper_threshold_len(min_len, text)"
      ]
    },
    {
      "cell_type": "code",
      "execution_count": null,
      "metadata": {
        "id": "0JniLdiHbZmw"
      },
      "outputs": [],
      "source": [
        "pd.options.mode.chained_assignment = 'warn'\n",
        "cnt = 0\n",
        "characters = \"'.[0-9]#\\:\"\n",
        "columns = ['comment']\n",
        "\n",
        "s = pd.DataFrame(columns=columns)\n",
        "\n",
        "for i in data['comment']:\n",
        "    if type(i) == str:\n",
        "        if len(i) < 60 and len(i) > 5:\n",
        "            for x in range(len(characters)):\n",
        "                q = characters[x]\n",
        "                r = i.replace(q, \"\")\n",
        "\n",
        "            r = r.strip()\n",
        "            r = emoticon_normalize(r, num_repeats=2)\n",
        "            comment = r\n",
        "            row = [comment]\n",
        "            series = pd.Series(row, index=s.columns)\n",
        "            s = s.append(series, ignore_index=True)\n",
        "\n",
        "s['comment'] = s['comment'].str.replace(\"[^ㄱ-ㅎㅏ-ㅣ가-힣 ]\",\"\") #숫자, !, ? 등 포함시켜서도 해보기\n",
        "s['comment'].replace('', np.nan)\n",
        "\n",
        "s = s.dropna(how='any')"
      ]
    },
    {
      "cell_type": "code",
      "execution_count": null,
      "metadata": {
        "colab": {
          "base_uri": "https://localhost:8080/"
        },
        "id": "soJYppwMclST",
        "outputId": "f9a912b2-21b9-431c-821d-b5499873b9c7"
      },
      "outputs": [
        {
          "name": "stdout",
          "output_type": "stream",
          "text": [
            "comment    0\n",
            "dtype: int64\n"
          ]
        }
      ],
      "source": [
        "print(s.isnull().sum())\n",
        "s.to_csv('for_comment_only.csv', header=['comment'], index=None, encoding='utf-8')\n",
        "for_Text = pd.read_csv('/content/for_comment_only.csv')\n",
        "for_Text = for_Text.dropna(how='any')\n",
        "for_Text = for_Text.drop_duplicates()\n",
        "for_Text.to_csv('comment_only.csv', header=['comment'], index=None, encoding='utf-8')"
      ]
    },
    {
      "cell_type": "code",
      "execution_count": null,
      "metadata": {
        "colab": {
          "base_uri": "https://localhost:8080/"
        },
        "id": "i2HCAYTVA41j",
        "outputId": "efc961f7-8dc1-4312-ad51-06a69bc1fa62"
      },
      "outputs": [
        {
          "name": "stdout",
          "output_type": "stream",
          "text": [
            "comment    0\n",
            "dtype: int64\n"
          ]
        }
      ],
      "source": [
        "Text = pd.read_csv('/content/comment_only.csv')\n",
        "print(Text.isnull().sum())"
      ]
    },
    {
      "cell_type": "markdown",
      "metadata": {
        "id": "rN_UF0MAsWS6"
      },
      "source": [
        "TEACHER MODEL"
      ]
    },
    {
      "cell_type": "markdown",
      "metadata": {
        "id": "o70ri5lvAIs4"
      },
      "source": [
        "KcELECTRA"
      ]
    },
    {
      "cell_type": "markdown",
      "metadata": {
        "id": "Mozf_HIoKHMq"
      },
      "source": [
        "KcELECTRA model에서 사용한 학습 설계 방법 참고 / R&E 보고서 작성시 아래 코드 score 매기는 방법 활용하기"
      ]
    },
    {
      "cell_type": "code",
      "execution_count": null,
      "metadata": {
        "id": "NcfWK8pu8n3A"
      },
      "outputs": [],
      "source": [
        "id = ['/content/E_label',\n",
        "      '/content/H_label',\n",
        "      '/content/M_label',\n",
        "      '/content/N_label',\n",
        "      '/content/O_label',\n",
        "      '/content/S_label',\n",
        "      '/content/V&&C_label'\n",
        "      ]\n",
        "for i in id:\n",
        "\n",
        "    input_name=i+'.xlsx'\n",
        "    output_name=input_name.split('.xlsx')[0]+'.csv'\n",
        "    xlsx = pd.read_excel(input_name)\n",
        "    xlsx.to_csv(output_name, index=None)\n",
        "\n",
        "    df = pd.read_csv(i+'.csv')\n",
        "    cnt = 0\n",
        "    for j in df['sentiment']:\n",
        "        if type(df['sentiment'][cnt]) == str:\n",
        "            if df['sentiment'][cnt] == str(0):\n",
        "                df.iloc[cnt, df.columns.get_loc('sentiment')] = int(0)\n",
        "            elif df['sentiment'][cnt] == str(1):\n",
        "                df.iloc[cnt, df.columns.get_loc('sentiment')] = int(1)\n",
        "            elif df['sentiment'][cnt] == str(2):\n",
        "                df.iloc[cnt, df.columns.get_loc('sentiment')] = int(2)\n",
        "\n",
        "        cnt += 1\n",
        "\n",
        "    cnt = 0\n",
        "    err = 0\n",
        "    che = 0\n",
        "    for j in df['sentiment']:\n",
        "        if df['sentiment'][cnt] == str(0):\n",
        "            err += 1\n",
        "        elif df['sentiment'][cnt] == str(1):\n",
        "            err += 1\n",
        "        elif df['sentiment'][cnt] == str(2):\n",
        "            err += 1\n",
        "        else:\n",
        "            che += 1\n",
        "\n",
        "        cnt += 1\n",
        "\n",
        "    print(err)\n",
        "    print(che == cnt)\n",
        "\n",
        "    print(df.isnull().sum())\n",
        "    df.dropna(inplace=True)\n",
        "    print('////////////////')\n",
        "    print(df.isnull().sum())\n",
        "\n",
        "    df.to_csv(i+'.csv', index=None)\n",
        "\n",
        "    df_train = df.iloc[:800]\n",
        "    df_val = df.iloc[800:900]\n",
        "    df_test = df.iloc[900:1000]\n",
        "\n",
        "    df_train.to_csv(i+'_train'+'.csv', index=None)\n",
        "    df_val.to_csv(i+'_val'+'.csv', index=None)\n",
        "    df_test.to_csv(i+'_test'+'.csv', index=None)\n",
        "\n",
        "    print('------'+i+'------')"
      ]
    },
    {
      "cell_type": "code",
      "execution_count": null,
      "metadata": {
        "id": "Et36pu-8GBsP"
      },
      "outputs": [],
      "source": []
    },
    {
      "cell_type": "code",
      "execution_count": null,
      "metadata": {
        "id": "fQakXlJKALnw"
      },
      "outputs": [],
      "source": [
        "args = {\n",
        "    'random_seed': 42, # Random Seed\n",
        "    'pretrained_model': 'beomi/KcELECTRA-base',  # Transformers PLM name\n",
        "    'pretrained_tokenizer': '',  # Optional, Transformers Tokenizer Name. Overrides `pretrained_model`\n",
        "    'batch_size': 32,\n",
        "    'lr': 5e-6,  # Starting Learning Rate\n",
        "    'epochs': 10,  # Max Epochs\n",
        "    'max_length': 150,  # Max Length input size\n",
        "    'train_data_path': \"/content/Common_label_train.csv\",  # Train Dataset file \n",
        "    'val_data_path': \"/content/Common_label_val.csv\",  # Validation Dataset file \n",
        "    'test_mode': False,  # Test Mode enables `fast_dev_run`\n",
        "    'optimizer': 'AdamW',  # AdamW vs AdamP\n",
        "    'lr_scheduler': 'exp',  # ExponentialLR vs CosineAnnealingWarmRestarts\n",
        "    'fp16': True,  # Enable train on FP16(if GPU)\n",
        "    'tpu_cores': 0,  # Enable TPU with 1 core or 8 cores\n",
        "    'cpu_workers': os.cpu_count(),\n",
        "}"
      ]
    },
    {
      "cell_type": "markdown",
      "metadata": {
        "id": "60lt_rKCrrhp"
      },
      "source": [
        "epochs가 10 정도 되면 과적합 발생함."
      ]
    },
    {
      "cell_type": "code",
      "execution_count": null,
      "metadata": {
        "colab": {
          "base_uri": "https://localhost:8080/"
        },
        "id": "I7b5_q6j7RVA",
        "outputId": "aca0e4f9-017c-49ed-a61f-f42cc256ebdf"
      },
      "outputs": [
        {
          "data": {
            "text/plain": [
              "{'batch_size': 32,\n",
              " 'cpu_workers': 2,\n",
              " 'epochs': 10,\n",
              " 'fp16': True,\n",
              " 'lr': 5e-06,\n",
              " 'lr_scheduler': 'exp',\n",
              " 'max_length': 150,\n",
              " 'optimizer': 'AdamW',\n",
              " 'pretrained_model': 'beomi/KcELECTRA-base',\n",
              " 'pretrained_tokenizer': '',\n",
              " 'random_seed': 42,\n",
              " 'test_mode': False,\n",
              " 'tpu_cores': 0,\n",
              " 'train_data_path': '/content/Common_label_train.csv',\n",
              " 'val_data_path': '/content/Common_label_val.csv'}"
            ]
          },
          "execution_count": 68,
          "metadata": {},
          "output_type": "execute_result"
        }
      ],
      "source": [
        "args"
      ]
    },
    {
      "cell_type": "code",
      "execution_count": null,
      "metadata": {
        "colab": {
          "base_uri": "https://localhost:8080/"
        },
        "id": "Opa8GVIO7Ss7",
        "outputId": "81bc25f9-faf5-48e6-fbce-ca9762f87793"
      },
      "outputs": [
        {
          "name": "stdout",
          "output_type": "stream",
          "text": [
            "Thu Dec  2 04:28:41 2021       \n",
            "+-----------------------------------------------------------------------------+\n",
            "| NVIDIA-SMI 495.44       Driver Version: 460.32.03    CUDA Version: 11.2     |\n",
            "|-------------------------------+----------------------+----------------------+\n",
            "| GPU  Name        Persistence-M| Bus-Id        Disp.A | Volatile Uncorr. ECC |\n",
            "| Fan  Temp  Perf  Pwr:Usage/Cap|         Memory-Usage | GPU-Util  Compute M. |\n",
            "|                               |                      |               MIG M. |\n",
            "|===============================+======================+======================|\n",
            "|   0  Tesla P100-PCIE...  Off  | 00000000:00:04.0 Off |                    0 |\n",
            "| N/A   35C    P0    26W / 250W |      0MiB / 16280MiB |      0%      Default |\n",
            "|                               |                      |                  N/A |\n",
            "+-------------------------------+----------------------+----------------------+\n",
            "                                                                               \n",
            "+-----------------------------------------------------------------------------+\n",
            "| Processes:                                                                  |\n",
            "|  GPU   GI   CI        PID   Type   Process name                  GPU Memory |\n",
            "|        ID   ID                                                   Usage      |\n",
            "|=============================================================================|\n",
            "|  No running processes found                                                 |\n",
            "+-----------------------------------------------------------------------------+\n"
          ]
        }
      ],
      "source": [
        "!nvidia-smi"
      ]
    },
    {
      "cell_type": "markdown",
      "metadata": {
        "id": "k53tAeO7aqhV"
      },
      "source": [
        "import cell에서 이미 선언한 LightningModule을 상속해서 Model에서 조금 변경하는 형식으로 코드 이루어짐<br>따라서 pytorch lightning module과 관련된 튜토리얼 document나<br>https://pytorch-lightning.readthedocs.io/en/stable/extensions/logging.html<br>다른 여러 사이트 참고해서 변형하기"
      ]
    },
    {
      "cell_type": "code",
      "execution_count": null,
      "metadata": {
        "id": "LdqJaJMnom8C"
      },
      "outputs": [],
      "source": [
        "# tb_logger = my_logger.TensorBoardLogger('logs/')"
      ]
    },
    {
      "cell_type": "code",
      "execution_count": null,
      "metadata": {
        "id": "unyDbQYq7WEo"
      },
      "outputs": [],
      "source": [
        "class Model(LightningModule):\n",
        "    def __init__(self, **kwargs):\n",
        "        super().__init__() \n",
        "        self.save_hyperparameters() # 이 부분에서 self.hparams에 위 kwargs가 저장된다.\n",
        "        \n",
        "        self.clsfier = AutoModelForSequenceClassification.from_pretrained(self.hparams.pretrained_model)\n",
        "        #위의 clsfier 구조 뜯어보기 / 역전파 분석, 아마도 loss를 변형시키면 될 듯\n",
        "\n",
        "        self.tokenizer = AutoTokenizer.from_pretrained(\n",
        "            self.hparams.pretrained_tokenizer\n",
        "            if self.hparams.pretrained_tokenizer\n",
        "            else self.hparams.pretrained_model\n",
        "        )\n",
        "        self.time = datetime.datetime.now().strftime(\"%Y%m%d-%H%M%S\")\n",
        "\n",
        "    def forward(self, **kwargs):\n",
        "        return self.clsfier(**kwargs)\n",
        "\n",
        "    def step(self, batch, batch_idx, state):\n",
        "        data, labels = batch \n",
        "        #labels => 32 길이의 list == batch_size\n",
        "\n",
        "        output = self(input_ids=data, labels=labels)\n",
        "        # loss_for_plot = criterion(output, labels)\n",
        "        # Transformers 4.0.0+\n",
        "        loss = output.loss\n",
        "        writer.add_scalar(state+'_loss'+self.time, loss, batch_idx)\n",
        "        logits = output.logits\n",
        "\n",
        "        preds = logits.argmax(dim=-1)\n",
        "\n",
        "        y_true = list(labels.cpu().numpy())\n",
        "        y_pred = list(preds.cpu().numpy())\n",
        "\n",
        "        acc = accuracy_score(y_true, y_pred)\n",
        "        prec = precision_score(y_true, y_pred)\n",
        "        rec = recall_score(y_true, y_pred)\n",
        "        f1 = f1_score(y_true, y_pred)\n",
        "\n",
        "        writer.add_scalar(state+'_acc'+self.time, acc, batch_idx)\n",
        "        writer.add_scalar(state+'_prec'+self.time, prec, batch_idx)\n",
        "        writer.add_scalar(state+'_rec'+self.time, rec, batch_idx)\n",
        "        writer.add_scalar(state+'_f1'+self.time, f1, batch_idx)\n",
        "\n",
        "        return {\n",
        "            'loss': loss,\n",
        "            'y_true': y_true,\n",
        "            'y_pred': y_pred,\n",
        "        }\n",
        "\n",
        "    def training_step(self, batch, batch_idx):\n",
        "        return self.step(batch, batch_idx, 'training')\n",
        "\n",
        "    def validation_step(self, batch, batch_idx):\n",
        "        return self.step(batch, batch_idx, 'validation')\n",
        "\n",
        "    def epoch_end(self, outputs, state='train'):\n",
        "        loss = torch.tensor(0, dtype=torch.float)\n",
        "        for i in outputs:\n",
        "            loss += i['loss'].cpu().detach()\n",
        "        loss = loss / len(outputs)\n",
        "\n",
        "        y_true = []\n",
        "        y_pred = []\n",
        "        for i in outputs:\n",
        "            y_true += i['y_true']\n",
        "            y_pred += i['y_pred']\n",
        "        \n",
        "        acc = accuracy_score(y_true, y_pred)\n",
        "        #만든 y_true배열에 i(output)에 들어있던 값을 넣은 후 y_pred와 비교 \n",
        "        \n",
        "        prec = precision_score(y_true, y_pred)\n",
        "        rec = recall_score(y_true, y_pred)\n",
        "        f1 = f1_score(y_true, y_pred)\n",
        "\n",
        "        self.log(state+'_loss', float(loss), on_epoch=True, prog_bar=True)\n",
        "        self.log(state+'_acc', acc, on_epoch=True, prog_bar=True)\n",
        "        self.log(state+'_precision', prec, on_epoch=True, prog_bar=True)\n",
        "        self.log(state+'_recall', rec, on_epoch=True, prog_bar=True)\n",
        "        self.log(state+'_f1', f1, on_epoch=True, prog_bar=True)\n",
        "        print(f'[Epoch {self.trainer.current_epoch} {state.upper()}] Loss: {loss}, Acc: {acc}, Prec: {prec}, Rec: {rec}, F1: {f1}')\n",
        "        return {'loss': loss}\n",
        "    \n",
        "    def training_epoch_end(self, outputs):\n",
        "        self.epoch_end(outputs, state='train')\n",
        "\n",
        "    def validation_epoch_end(self, outputs):\n",
        "        self.epoch_end(outputs, state='val')\n",
        "\n",
        "    def configure_optimizers(self):\n",
        "        if self.hparams.optimizer == 'AdamW':\n",
        "            optimizer = AdamW(self.parameters(), lr=self.hparams.lr)\n",
        "        #해당하는 파라미터와 학습률을 바탕으로 optimizer 설계\n",
        "\n",
        "        elif self.hparams.optimizer == 'AdamP':\n",
        "            from adamp import AdamP\n",
        "            optimizer = AdamP(self.parameters(), lr=self.hparams.lr)\n",
        "        else:\n",
        "            raise NotImplementedError('Only AdamW and AdamP is Supported!')\n",
        "        if self.hparams.lr_scheduler == 'cos':\n",
        "            scheduler = CosineAnnealingWarmRestarts(optimizer, T_0=1, T_mult=2)\n",
        "        #Scheduling을 통해 에포크 당 학습률 설정\n",
        "\n",
        "        elif self.hparams.lr_scheduler == 'exp':\n",
        "            scheduler = ExponentialLR(optimizer, gamma=0.5)\n",
        "        else:\n",
        "            raise NotImplementedError('Only cos and exp lr scheduler is Supported!')\n",
        "        return {\n",
        "            'optimizer': optimizer,\n",
        "            'scheduler': scheduler,\n",
        "        }\n",
        "\n",
        "    def read_data(self, path):\n",
        "        if path.endswith('xlsx'):\n",
        "            return pd.read_excel(path)\n",
        "        elif path.endswith('csv'):\n",
        "            return pd.read_csv(path)\n",
        "        elif path.endswith('tsv') or path.endswith('txt'):\n",
        "            return pd.read_csv(path, sep='\\t')\n",
        "        else:\n",
        "            raise NotImplementedError('Only Excel(xlsx)/Csv/Tsv(txt) are Supported')\n",
        "\n",
        "    def clean(self, x):\n",
        "        emojis = ''.join(emoji.UNICODE_EMOJI.keys())\n",
        "        pattern = re.compile(f'[^ .,?!/@$%~％·∼()\\x00-\\x7Fㄱ-힣{emojis}]+')\n",
        "        url_pattern = re.compile(\n",
        "            r'https?:\\/\\/(www\\.)?[-a-zA-Z0-9@:%._\\+~#=]{1,256}\\.[a-zA-Z0-9()]{1,6}\\b([-a-zA-Z0-9()@:%_\\+.~#?&//=]*)')\n",
        "        x = pattern.sub(' ', x)\n",
        "        x = url_pattern.sub('', x)\n",
        "        x = x.strip()\n",
        "        x = repeat_normalize(x, num_repeats=2)\n",
        "        return x\n",
        "\n",
        "    def encode(self, x, **kwargs):\n",
        "        return self.tokenizer.encode(\n",
        "            self.clean(str(x)),\n",
        "            padding='max_length',\n",
        "            max_length=self.hparams.max_length,\n",
        "            truncation=True,\n",
        "            #truncation => 설정한 문장 길이보다 긴 것은 잘라냄\n",
        "            **kwargs,\n",
        "        )\n",
        "\n",
        "    def preprocess_dataframe(self, df):\n",
        "        #위의 encode 매서드를 이용해 preprocessing함\n",
        "        df['comment'] = df['comment'].map(self.encode)\n",
        "        return df\n",
        "\n",
        "    def dataloader(self, path, shuffle=False):\n",
        "        #위의 2개의 매서드를 이용해 data loader 마무리\n",
        "        df = self.read_data(path)\n",
        "        df = self.preprocess_dataframe(df)\n",
        "\n",
        "        dataset = TensorDataset(\n",
        "            torch.tensor(df['comment'].to_list(), dtype=torch.long),\n",
        "            torch.tensor(df['sentiment'].to_list(), dtype=torch.long),\n",
        "        )\n",
        "        return DataLoader(\n",
        "            dataset,\n",
        "            batch_size=self.hparams.batch_size * 1 if not self.hparams.tpu_cores else self.hparams.tpu_cores,\n",
        "            shuffle=shuffle,\n",
        "            num_workers=self.hparams.cpu_workers,\n",
        "        )\n",
        "\n",
        "    def train_dataloader(self):\n",
        "        return self.dataloader(self.hparams.train_data_path, shuffle=True)\n",
        "\n",
        "    def val_dataloader(self):\n",
        "        return self.dataloader(self.hparams.val_data_path, shuffle=False)\n"
      ]
    },
    {
      "cell_type": "code",
      "execution_count": null,
      "metadata": {
        "id": "zi4geL9eGuQz"
      },
      "outputs": [],
      "source": [
        "from pytorch_lightning.callbacks import ModelCheckpoint\n",
        "\n",
        "checkpoint_callback = ModelCheckpoint(\n",
        "    filename='epoch{epoch}-val_acc{val_acc:.4f}',\n",
        "    monitor='val_acc',\n",
        "    save_top_k=3,\n",
        "    mode='max',\n",
        "    auto_insert_metric_name=False,\n",
        ")"
      ]
    },
    {
      "cell_type": "markdown",
      "metadata": {
        "id": "R9ehZ9YFeTwf"
      },
      "source": [
        "https://colab.research.google.com/github/SurajDonthi/Multi-Camera-Person-Re-Identification/blob/master/demo.ipynb#scrollTo=HmFXmbJF5zPh 이 노트북에서 변경내용 찾아보기"
      ]
    },
    {
      "cell_type": "code",
      "execution_count": null,
      "metadata": {
        "colab": {
          "base_uri": "https://localhost:8080/"
        },
        "id": "Y8kdwBLpHNPK",
        "outputId": "14baa455-0dad-4433-b5d7-4c1aca6db6f5"
      },
      "outputs": [
        {
          "name": "stdout",
          "output_type": "stream",
          "text": [
            "Wed Dec  1 15:55:11 2021       \n",
            "+-----------------------------------------------------------------------------+\n",
            "| NVIDIA-SMI 495.44       Driver Version: 460.32.03    CUDA Version: 11.2     |\n",
            "|-------------------------------+----------------------+----------------------+\n",
            "| GPU  Name        Persistence-M| Bus-Id        Disp.A | Volatile Uncorr. ECC |\n",
            "| Fan  Temp  Perf  Pwr:Usage/Cap|         Memory-Usage | GPU-Util  Compute M. |\n",
            "|                               |                      |               MIG M. |\n",
            "|===============================+======================+======================|\n",
            "|   0  Tesla P100-PCIE...  Off  | 00000000:00:04.0 Off |                    0 |\n",
            "| N/A   38C    P0    32W / 250W |   2285MiB / 16280MiB |      0%      Default |\n",
            "|                               |                      |                  N/A |\n",
            "+-------------------------------+----------------------+----------------------+\n",
            "                                                                               \n",
            "+-----------------------------------------------------------------------------+\n",
            "| Processes:                                                                  |\n",
            "|  GPU   GI   CI        PID   Type   Process name                  GPU Memory |\n",
            "|        ID   ID                                                   Usage      |\n",
            "|=============================================================================|\n",
            "|  No running processes found                                                 |\n",
            "+-----------------------------------------------------------------------------+\n"
          ]
        }
      ],
      "source": [
        "!nvidia-smi"
      ]
    },
    {
      "cell_type": "code",
      "execution_count": null,
      "metadata": {
        "id": "KLA_GW5iHfV1"
      },
      "outputs": [],
      "source": [
        "print(\"Using PyTorch Ver\", torch.__version__)\n",
        "print(\"Fix Seed:\", args['random_seed'])\n",
        "seed_everything(args['random_seed'])\n",
        "this_time = datetime.datetime.now().strftime(\"%Y%m%d-%H%M%S\")\n",
        "model = Model(**args)\n",
        "\n",
        "print(\":: Start Training ::\")\n",
        "trainer = Trainer(\n",
        "    callbacks=[checkpoint_callback],\n",
        "    max_epochs=args['epochs'],\n",
        "    fast_dev_run=args['test_mode'],\n",
        "    num_sanity_val_steps=None if args['test_mode'] else 0,\n",
        "    # For GPU Setup\n",
        "    deterministic=torch.cuda.is_available(),\n",
        "    gpus=[0] if torch.cuda.is_available() else None,  # 0번 idx GPU  사용\n",
        "    precision=16 if args['fp16'] and torch.cuda.is_available() else 32,\n",
        "    # For TPU Setup\n",
        "    # tpu_cores=args['tpu_cores'] if args['tpu_cores'] else None,\n",
        ")\n",
        "!rm -rf /content/runs/logger_file\n",
        "!rm -rf /content/lightning_logs\n",
        "writer = SummaryWriter('runs/logger_file')\n",
        "#위 코드는 이전 실행으로 만들어진 log file 모두 삭제\n",
        "#datetime과 같은 function을 이용해 파일 이름을 모두 다르게 했음으로 굳이 사용 안해도 됨\n",
        "#사용 시에는 다시 한 번 logger_file 생성해야 함\n",
        "trainer.fit(model)"
      ]
    },
    {
      "cell_type": "code",
      "execution_count": null,
      "metadata": {
        "id": "hmEQKwKCvP3R"
      },
      "outputs": [],
      "source": [
        "# %load_ext tensorboard\n",
        "# %tensorboard --logdir=runs/logger_file/"
      ]
    },
    {
      "cell_type": "code",
      "execution_count": null,
      "metadata": {
        "id": "UOWK1-6ezDvP"
      },
      "outputs": [],
      "source": [
        "# !tensorboard dev upload --logdir=runs/logger_file \\\n",
        "#                         --name 'result_1'\\\n",
        "#                         --description 'Training results'\\\n",
        "#                         --one_shot\\"
      ]
    },
    {
      "cell_type": "markdown",
      "metadata": {
        "id": "lZyHjW7gc48E"
      },
      "source": [
        "위의 코드에 있던 self.log 부분을 따올 수 있는 지 확인 => ploting 하기"
      ]
    },
    {
      "cell_type": "markdown",
      "metadata": {
        "id": "7V39wZPfnsiB"
      },
      "source": [
        "ckpt 및 log file을 drive로 옮기는 코드"
      ]
    },
    {
      "cell_type": "code",
      "execution_count": null,
      "metadata": {
        "colab": {
          "base_uri": "https://localhost:8080/",
          "height": 35
        },
        "id": "nJLkls-XyRHK",
        "outputId": "3930b1e9-22ea-463a-e0a9-bd3c5b7fc3d0"
      },
      "outputs": [
        {
          "data": {
            "application/vnd.google.colaboratory.intrinsic+json": {
              "type": "string"
            },
            "text/plain": [
              "'/content/drive/MyDrive/R&E_Data/Common_Kc.ckpt'"
            ]
          },
          "execution_count": 82,
          "metadata": {},
          "output_type": "execute_result"
        }
      ],
      "source": [
        "a = '/content/runs/logger_file/events.out.tfevents.1638374116.b80c5718ba2c.1478.8'\n",
        "b = '/content/lightning_logs/version_0/checkpoints/epoch8-val_acc0.8100.ckpt'\n",
        "name = 'Common_Kc'\n",
        "\n",
        "copyfile(a, \n",
        "         '/content/drive/MyDrive/R&E_Data/'+name+a[32:])\n",
        "\n",
        "copyfile(b, \n",
        "         '/content/drive/MyDrive/R&E_Data/'+name+'.ckpt')\n",
        "\n",
        "latest_ckpt = sorted(glob('/content/drive/MyDrive/R&E_Data/'+name+'.ckpt'))[-1]\n",
        "model = Model.load_from_checkpoint(latest_ckpt)\n",
        "\n",
        "def infer(x):\n",
        "    return torch.softmax(\n",
        "        model(**model.tokenizer(x, return_tensors='pt')\n",
        "    ).logits, dim=-1)"
      ]
    },
    {
      "cell_type": "markdown",
      "metadata": {
        "id": "R3Rcr8SrbKwU"
      },
      "source": [
        "--logdir에는 직접 folder path 작성하기<br>변수 사용금지!"
      ]
    },
    {
      "cell_type": "markdown",
      "metadata": {
        "id": "oFn8fVPyLx_8"
      },
      "source": [
        "Drive에 log file이 잘 올라갔는 지 확인하기 위해 작성함."
      ]
    },
    {
      "cell_type": "code",
      "execution_count": null,
      "metadata": {
        "id": "HTtLeFtHZDUH"
      },
      "outputs": [],
      "source": [
        "# %load_ext tensorboard\n",
        "# %tensorboard --logdir=/content/drive/MyDrive/R&E_Data/ --load_fast true"
      ]
    },
    {
      "cell_type": "code",
      "execution_count": null,
      "metadata": {
        "colab": {
          "base_uri": "https://localhost:8080/",
          "height": 35
        },
        "id": "i504cDGocNfs",
        "outputId": "cb51dba1-5bed-4e49-beff-89fdb63102f9"
      },
      "outputs": [
        {
          "data": {
            "application/vnd.google.colaboratory.intrinsic+json": {
              "type": "string"
            },
            "text/plain": [
              "'/content/drive/MyDrive/R&E_Data/nsmc_Kc.ckpt'"
            ]
          },
          "execution_count": 7,
          "metadata": {},
          "output_type": "execute_result"
        }
      ],
      "source": [
        "latest_ckpt = sorted(glob('/content/drive/MyDrive/R&E_Data/nsmc_Kc.ckpt'))[-1]\n",
        "7latest_ckpt"
      ]
    },
    {
      "cell_type": "code",
      "execution_count": null,
      "metadata": {
        "colab": {
          "base_uri": "https://localhost:8080/",
          "height": 344,
          "referenced_widgets": [
            "26e41950c72d49c2a7c49bc98f9eb804",
            "a9c9a83f9d2d47c5879876f92a65bcfe",
            "c6163886196942df93e133262fa85e88",
            "a168945ac2254e70bc30f7ba1392453a",
            "33208b720baf48f1861e0c93841a0554",
            "c5de20bb1ad846a39026ca98accd9eb0",
            "5836782e47484a4e8edd09317ec4dddd",
            "0c6a367ab627490398c2755befac05e0",
            "678baa80db1a4b17a927451e35b9c2f8",
            "98709733a91e4b8ab750f56903465abb",
            "00ef818089004b0d8654dafce50b2155",
            "c434c7a1f81c42dfafd5c4df437f3101",
            "1cf2858fdd2846d1b1c474171e4a6de1",
            "079ec978021f48c7b3a45348290eae68",
            "19fe5a1229d7403cb57bdf84327498a4",
            "2f310da8ef4e426b8a3dc1e577bbea6d",
            "d7cf67c7f5674eb29c9227326e6cfe73",
            "5f955c558e6343d4a25a0b3b0055978a",
            "3c780ae7c8534f5ca5f61a773b3386af",
            "878ca9a6981a4f759c0047b875b495ed",
            "303940e65c0140e69ddc87a116531183",
            "644b7ccfd59b4c9fbcab1c2a518c1d5b",
            "e12f5c2437a04454a5e88513122c03a3",
            "962927ab039f4cd9b93c8c2c5a85fa8f",
            "64047152712844c081568d72939428a0",
            "4f944a6db7f9437c864c61a0c82edac1",
            "bfd0f03352f448e697c218465b6269d5",
            "7d911b7aff954e3f9bdba03e3f5cd2ac",
            "ea670b4823ef46bfbf6cec518624fb35",
            "7cd582877f52402c8f45e4f0fff83093",
            "553c6506937c4474bb3f4ca19e33a496",
            "6cb53d922c5447d9a1d075a17765c80c",
            "32eccfa1c0ac4dd69e125142a69064b9",
            "b5b5911d716f484dba3b7defb1477703",
            "28286c35e01a44f2a01dd34f000cee00",
            "04e4ec55ef694349912a27f0c643cd75",
            "897b0ddf9b57443dbf754c7a08b51723",
            "16a6e0b3e2d944bfbdef4329101d6fcc",
            "9643f843d314446ebf6e65fbeeb724e7",
            "39d5fe149ea44b7aa340b049e4fc835e",
            "691d020ede5344b7bb861178ad3a27af",
            "ef0d898dc18749c580407d2d5fc7f005",
            "db455fad64a34e92ae98b7c4284024ee",
            "6efe559774b149038a4fc58f8bdade97",
            "79f113d711ee44f19304f3d1d8da4aac",
            "f0c50de6c03e4a36a25aeb6e3b9f213f",
            "f664bad86eeb4ea4bf95e95333b4bba0",
            "310947262f744166a4b5ad26afe0e5b0",
            "9b371217ce114aa3b904300bad255a4b",
            "fcfde74621a0494abf965ce97e365231",
            "fd7a35ca09424052a9cfd4f4ac5813d7",
            "523775cc95924a70930a6c89e80b5e7c",
            "bc6a337fb0f84f61aa0093f95a48bbfc",
            "9fd1f79533b442b6b73c2a55279eb518",
            "8b3164d6f49d4ba89b8ecfe16e76216d"
          ]
        },
        "id": "HnRpC4rSDr8p",
        "outputId": "063576f4-0dd4-4610-e4da-f9606a2efb87"
      },
      "outputs": [
        {
          "data": {
            "application/vnd.jupyter.widget-view+json": {
              "model_id": "26e41950c72d49c2a7c49bc98f9eb804",
              "version_major": 2,
              "version_minor": 0
            },
            "text/plain": [
              "Downloading:   0%|          | 0.00/504 [00:00<?, ?B/s]"
            ]
          },
          "metadata": {},
          "output_type": "display_data"
        },
        {
          "data": {
            "application/vnd.jupyter.widget-view+json": {
              "model_id": "c434c7a1f81c42dfafd5c4df437f3101",
              "version_major": 2,
              "version_minor": 0
            },
            "text/plain": [
              "Downloading:   0%|          | 0.00/475M [00:00<?, ?B/s]"
            ]
          },
          "metadata": {},
          "output_type": "display_data"
        },
        {
          "name": "stderr",
          "output_type": "stream",
          "text": [
            "Some weights of the model checkpoint at beomi/KcELECTRA-base were not used when initializing ElectraForSequenceClassification: ['discriminator_predictions.dense_prediction.weight', 'discriminator_predictions.dense.weight', 'discriminator_predictions.dense.bias', 'discriminator_predictions.dense_prediction.bias']\n",
            "- This IS expected if you are initializing ElectraForSequenceClassification from the checkpoint of a model trained on another task or with another architecture (e.g. initializing a BertForSequenceClassification model from a BertForPreTraining model).\n",
            "- This IS NOT expected if you are initializing ElectraForSequenceClassification from the checkpoint of a model that you expect to be exactly identical (initializing a BertForSequenceClassification model from a BertForSequenceClassification model).\n",
            "Some weights of ElectraForSequenceClassification were not initialized from the model checkpoint at beomi/KcELECTRA-base and are newly initialized: ['classifier.out_proj.weight', 'classifier.dense.bias', 'classifier.out_proj.bias', 'classifier.dense.weight']\n",
            "You should probably TRAIN this model on a down-stream task to be able to use it for predictions and inference.\n"
          ]
        },
        {
          "data": {
            "application/vnd.jupyter.widget-view+json": {
              "model_id": "e12f5c2437a04454a5e88513122c03a3",
              "version_major": 2,
              "version_minor": 0
            },
            "text/plain": [
              "Downloading:   0%|          | 0.00/288 [00:00<?, ?B/s]"
            ]
          },
          "metadata": {},
          "output_type": "display_data"
        },
        {
          "data": {
            "application/vnd.jupyter.widget-view+json": {
              "model_id": "b5b5911d716f484dba3b7defb1477703",
              "version_major": 2,
              "version_minor": 0
            },
            "text/plain": [
              "Downloading:   0%|          | 0.00/387k [00:00<?, ?B/s]"
            ]
          },
          "metadata": {},
          "output_type": "display_data"
        },
        {
          "data": {
            "application/vnd.jupyter.widget-view+json": {
              "model_id": "79f113d711ee44f19304f3d1d8da4aac",
              "version_major": 2,
              "version_minor": 0
            },
            "text/plain": [
              "Downloading:   0%|          | 0.00/124 [00:00<?, ?B/s]"
            ]
          },
          "metadata": {},
          "output_type": "display_data"
        }
      ],
      "source": [
        "model = Model.load_from_checkpoint(latest_ckpt)"
      ]
    },
    {
      "cell_type": "markdown",
      "metadata": {
        "id": "RcIAIQMNv21Q"
      },
      "source": [
        "torch.Tensor 형태로 반환된 데이터를 numpy ndarray로 변환함"
      ]
    },
    {
      "cell_type": "markdown",
      "metadata": {
        "id": "U3M0DzUFn4LX"
      },
      "source": [
        "id list내 csv file은 KcELECTRA에 넣었을 시, acc, mse error을 확인하는 코드"
      ]
    },
    {
      "cell_type": "markdown",
      "metadata": {
        "id": "rtU4fZ2oryPw"
      },
      "source": [
        "Checking Domain data accuracy"
      ]
    },
    {
      "cell_type": "code",
      "execution_count": null,
      "metadata": {
        "colab": {
          "base_uri": "https://localhost:8080/"
        },
        "id": "Mz3ciPDTJtpd",
        "outputId": "67e3a5c8-3632-4d3c-b5cd-5e9a6b2a8618"
      },
      "outputs": [
        {
          "name": "stdout",
          "output_type": "stream",
          "text": [
            "0.853\n",
            "[37.698162]\n",
            "H_label\n",
            "0.707\n",
            "[41.830387]\n",
            "E_label\n",
            "0.741\n",
            "[44.0305]\n",
            "M_label\n",
            "0.827\n",
            "[35.330345]\n",
            "N_label\n",
            "0.647\n",
            "[49.518635]\n",
            "O_label\n",
            "0.744\n",
            "[43.908844]\n",
            "S_label\n",
            "0.759\n",
            "[43.054924]\n",
            "V&&C_label\n"
          ]
        }
      ],
      "source": [
        "id =  ['H_label',\n",
        "      'E_label',\n",
        "      'M_label',\n",
        "      'N_label',\n",
        "      'O_label',\n",
        "      'S_label',\n",
        "      'V&&C_label',\n",
        "       'Common_label'\n",
        "      ]\n",
        "acc = np.array([], dtype=float)\n",
        "for i in id:\n",
        "    df = pd.read_csv('/content/'+i+'.csv')\n",
        "    sen = df.sentiment.to_numpy(dtype=int)\n",
        "    label = np.array([], dtype=int)\n",
        "    loss = 0.0\n",
        "    for j in df.comment:\n",
        "        a = infer(j).cpu().detach().numpy()\n",
        "        negative = a[:, 0]\n",
        "        positive = a[:, 1]\n",
        "\n",
        "        if positive > negative:\n",
        "            loss += (1-positive)**2\n",
        "            label = np.append(label, np.array([1]))\n",
        "        else:\n",
        "            loss += (0-positive)**2\n",
        "            label = np.append(label, np.array([0]))            \n",
        "    accuracy = accuracy_score(sen, label)\n",
        "    print(i)\n",
        "    print(accuracy)\n",
        "    print(loss/2.)\n",
        "    acc = np.append(acc, accuracy)"
      ]
    },
    {
      "cell_type": "markdown",
      "metadata": {
        "id": "1XpCV4YbsaJ_"
      },
      "source": [
        "STUDENT MODEL"
      ]
    },
    {
      "cell_type": "markdown",
      "metadata": {
        "id": "WQY00nVirH1C"
      },
      "source": [
        "KcELECTRA"
      ]
    },
    {
      "cell_type": "code",
      "execution_count": null,
      "metadata": {
        "id": "iLTsTivHoKWF"
      },
      "outputs": [],
      "source": []
    },
    {
      "cell_type": "markdown",
      "metadata": {
        "id": "vF99OrEZrKyt"
      },
      "source": [
        "GPT-3"
      ]
    },
    {
      "cell_type": "markdown",
      "metadata": {
        "id": "1rJran-NKqwi"
      },
      "source": [
        "OpenAI doc 읽기 => 요청 및 메소드 사용 방법 / 학습 limit양 고려 / df.vlaues 형태로 데이터 전송"
      ]
    },
    {
      "cell_type": "markdown",
      "metadata": {
        "id": "F6lPLNZWGRut"
      },
      "source": [
        "list 형식(또는 다른 형식도 가능)에서 Text를 뽑아내 str로 바꾸고 query로 보낸 후 response의 label만 따로 취해서 저장 => 활용"
      ]
    },
    {
      "cell_type": "markdown",
      "metadata": {
        "id": "JjuJpfe9Gm9l"
      },
      "source": [
        "한글 인코딩 방법 또는 인덱스 이용해 query에 사용한 text 식별 가능하게 하기"
      ]
    },
    {
      "cell_type": "markdown",
      "metadata": {
        "id": "Qlz3ds8gYvm0"
      },
      "source": [
        "https://beta.openai.com/docs/guides/classifications => score 값 따기"
      ]
    },
    {
      "cell_type": "code",
      "execution_count": null,
      "metadata": {
        "colab": {
          "base_uri": "https://localhost:8080/",
          "height": 247,
          "referenced_widgets": [
            "f4d34b5cccaf4420a7fbb8bb96bb7d03",
            "60dca4268bbb4f0f80642aaf50b0afed",
            "1cbe35168e864643bb0ca14818852f6c",
            "b22dd0c47378459fb3e7f2e3361fc878",
            "29f401219ee845959996f3977b2e476e",
            "4490613b012a416ab797d30e863a6210",
            "9e2bb904a2df48e7bdb2a1b67cf24365",
            "3ecb94553cab4a6c91ae44c8806e7d07",
            "d2d5d59462164b3eae63f6d9edfcb1a0",
            "7b02eec9af474256bdf1d5c1cca3d5c1",
            "e1cae5daa40c4fa0bed064e1801bdc3c",
            "cd27f639dec24f239abf4e5f2e8d7e4d",
            "5105fc74cb0a4948b203eaf7f4a12c91",
            "3d5ccfc41c2243ea875e1d0e384b5963",
            "f6d8478b7d1a43db8383628b200d96e6",
            "4f141d424c7148fd9ef47737828c07b8",
            "653ff8c4bc244d0f9487bb5f5365f601",
            "db8f4dc5f21c4ba78b52ea6930168698",
            "5efc68aec405495d854113449a593182",
            "a24f0c8516d4404c9c16ac91f04ff5dd",
            "a6deebd1e66a4a42b31b63f55fc6254d",
            "044889016fde493d962c0425cce64a02",
            "938e219c26be419695fc376e799c43f4",
            "d33a3c28bc794aa0a69cf0fdef30da59",
            "bb18ebb24dbb48d1b3fd00391696e7bc",
            "56922dd331564867bdd83416f59d900d",
            "41ad4098b9d24f4eb5ef7b9d7651d0f6",
            "8325ba2e54f3496aa4f632f9f95b9108",
            "407d694b053a4db7b3e3962fb3895678",
            "90a622f7c10e4be0ac69d7788dbaee6b",
            "cfd86656ac344536819d5da3a4f6a751",
            "cfb4238180db4a6eab5fcc3c36aa322d",
            "eaf1a9cf338a46c593458250cea52065",
            "c9814f810e154b748fd890ed52bd71ad",
            "c12967bdbf6b4745bccb222401ce58d4",
            "5fa2809e89e94087880d4d52762614a9",
            "a610d0712ef0481d80c18985cbcd5291",
            "9027a46364e54c8ea0371ac59144d779",
            "9efa12cbde00483eb9772d1c6b6f6171",
            "c7e99c1f937d4f45a38fe8465c9d7450",
            "1e8385f873da483ba61f9f848506643e",
            "21b040f0503f4c22873fbe085e1301c4",
            "7cd406efb4b9463f9b43c0bd6566e252",
            "4c4829f1ea8b4a0180dd11b51c666965"
          ]
        },
        "id": "QdwIjpeMAlCB",
        "outputId": "714e4ead-5e2a-4065-f5fe-2753442f902b"
      },
      "outputs": [
        {
          "data": {
            "application/vnd.jupyter.widget-view+json": {
              "model_id": "f4d34b5cccaf4420a7fbb8bb96bb7d03",
              "version_major": 2,
              "version_minor": 0
            },
            "text/plain": [
              "Downloading:   0%|          | 0.00/0.99M [00:00<?, ?B/s]"
            ]
          },
          "metadata": {},
          "output_type": "display_data"
        },
        {
          "data": {
            "application/vnd.jupyter.widget-view+json": {
              "model_id": "cd27f639dec24f239abf4e5f2e8d7e4d",
              "version_major": 2,
              "version_minor": 0
            },
            "text/plain": [
              "Downloading:   0%|          | 0.00/446k [00:00<?, ?B/s]"
            ]
          },
          "metadata": {},
          "output_type": "display_data"
        },
        {
          "data": {
            "application/vnd.jupyter.widget-view+json": {
              "model_id": "938e219c26be419695fc376e799c43f4",
              "version_major": 2,
              "version_minor": 0
            },
            "text/plain": [
              "Downloading:   0%|          | 0.00/1.29M [00:00<?, ?B/s]"
            ]
          },
          "metadata": {},
          "output_type": "display_data"
        },
        {
          "data": {
            "application/vnd.jupyter.widget-view+json": {
              "model_id": "c9814f810e154b748fd890ed52bd71ad",
              "version_major": 2,
              "version_minor": 0
            },
            "text/plain": [
              "Downloading:   0%|          | 0.00/665 [00:00<?, ?B/s]"
            ]
          },
          "metadata": {},
          "output_type": "display_data"
        },
        {
          "name": "stdout",
          "output_type": "stream",
          "text": [
            "{'Positive': [33733], 'Negative': [36183], 'Neutral': [25627]}\n"
          ]
        }
      ],
      "source": [
        "# from transformers import GPT2TokenizerFast\n",
        "\n",
        "# # Load the tokenizer.\n",
        "# tokenizer = GPT2TokenizerFast.from_pretrained(\"gpt2\")\n",
        "\n",
        "# # Make sure the labels are formatted correctly.\n",
        "# labels = [\"positive\", \"negative\", 'neutral']\n",
        "# labels = [label.strip().lower().capitalize() for label in labels]\n",
        "\n",
        "# # Encode the labels with extra white space prepended.\n",
        "# labels_tokens = {label: tokenizer.encode(\" \" + label) for label in labels}\n",
        "# print(labels_tokens)"
      ]
    },
    {
      "cell_type": "code",
      "execution_count": null,
      "metadata": {
        "colab": {
          "base_uri": "https://localhost:8080/"
        },
        "id": "iWWe3Ya3rM4M",
        "outputId": "94efd7c3-87c0-45dd-c6eb-e95974f0c7bb"
      },
      "outputs": [
        {
          "name": "stdout",
          "output_type": "stream",
          "text": [
            "Negative\n",
            "Positive\n"
          ]
        }
      ],
      "source": [
        "# import os\n",
        "# import openai\n",
        "\n",
        "# l = ['yg오고나서 개성있는 스타일이 다 없어졌네',\n",
        "#      '노래를 잘합니다.']\n",
        "# data = list()\n",
        "# cnt = 1\n",
        "\n",
        "# openai.api_key = ''\n",
        "# for i in l:\n",
        "#     a = openai.Classification.create(\n",
        "#              search_model='ada',\n",
        "#              model='curie',\n",
        "#              examples=[\n",
        "#                        ['이번에도 질릴 줄 모르고 듣겠네요.', 'positive'],\n",
        "#                        ['이번 앨범 대박이야 어떡해 악뮤는 늘 레전드다… 언제나 무슨 음악을 하든지 사랑해 이찬혁 이수현 악뮤❤️❤️', 'positive'],\n",
        "#                        ['여기서 아이유 목소리 새롭게 들린다..ㅎ 저음 되게 좋다 악뮤랑도 목소리합 너무 좋은 듯', 'positive'],\n",
        "#                        ['고음 부분이 조금...', 'negative'],\n",
        "#                        ['찬혁아 저음 부분을 보강해야 할 것 같아', 'negative']\n",
        "#              ],\n",
        "#              query=str(i),\n",
        "#              labels=['positive', 'negative', 'neutral'],\n",
        "#              logprobs=3,\n",
        "#              expand=['completion']    \n",
        "#      )\n",
        "#     data.append(a)\n",
        "#     cnt += 1\n",
        "# #positive == 1, negative == -1, neutral == 0\n",
        "\n",
        "# for i in data:\n",
        "#     print(i.label)\n",
        "# #str type 의 결과(label)를 반환함"
      ]
    },
    {
      "cell_type": "code",
      "execution_count": null,
      "metadata": {
        "id": "dxHfgAM6_4pj"
      },
      "outputs": [],
      "source": [
        "# gpt_probs = pd.DataFrame(columns=['Positive', 'Negative', 'Neutral'])\n",
        "# for i in data:\n",
        "#     # Take the starting tokens for probability estimation.\n",
        "#     # Labels should have distinct starting tokens.\n",
        "#     # Here tokens are case-sensitive.\n",
        "#     first_token_to_label = {tokens[0]: label for label, tokens in labels_tokens.items()}\n",
        "\n",
        "#     top_logprobs = i[\"completion\"][\"choices\"][0][\"logprobs\"][\"top_logprobs\"][0]\n",
        "#     token_probs = {\n",
        "#         tokenizer.encode(token)[0]: np.exp(logp) \n",
        "#         for token, logp in top_logprobs.items()\n",
        "#     }\n",
        "#     label_probs = {\n",
        "#         first_token_to_label[token]: prob \n",
        "#         for token, prob in token_probs.items()\n",
        "#         if token in first_token_to_label\n",
        "#     }\n",
        "\n",
        "#     # Fill in the probability for the special \"Unknown\" label.\n",
        "#     if sum(label_probs.values()) < 1.0:\n",
        "#         label_probs[\"Neutral\"] = 1.0 - sum(label_probs.values())\n",
        "\n",
        "#     gpt_probs = gpt_probs.append(label_probs, ignore_index=True)"
      ]
    },
    {
      "cell_type": "markdown",
      "metadata": {
        "id": "Z-jwV3qch0H-"
      },
      "source": [
        "위 코드에서 감정에 따른 각각의 key 값을 받아 pandas 형태로 만들기"
      ]
    },
    {
      "cell_type": "code",
      "execution_count": null,
      "metadata": {
        "colab": {
          "base_uri": "https://localhost:8080/"
        },
        "id": "QiaW_ff5i1dh",
        "outputId": "de3cf98a-ce5b-4f53-c74e-1a062b4b931e"
      },
      "outputs": [
        {
          "data": {
            "text/plain": [
              "{'Negative': 0.19811145551870493,\n",
              " 'Neutral': 0.018899706395704596,\n",
              " 'Positive': 0.5649863711415478}"
            ]
          },
          "execution_count": 91,
          "metadata": {},
          "output_type": "execute_result"
        }
      ],
      "source": [
        "# label_probs"
      ]
    },
    {
      "cell_type": "code",
      "execution_count": null,
      "metadata": {
        "colab": {
          "base_uri": "https://localhost:8080/",
          "height": 110
        },
        "id": "2BMPtWKdgU2s",
        "outputId": "c0228039-3cc3-44d9-b449-30fb81cd08e4"
      },
      "outputs": [
        {
          "data": {
            "text/html": [
              "<div>\n",
              "<style scoped>\n",
              "    .dataframe tbody tr th:only-of-type {\n",
              "        vertical-align: middle;\n",
              "    }\n",
              "\n",
              "    .dataframe tbody tr th {\n",
              "        vertical-align: top;\n",
              "    }\n",
              "\n",
              "    .dataframe thead th {\n",
              "        text-align: right;\n",
              "    }\n",
              "</style>\n",
              "<table border=\"1\" class=\"dataframe\">\n",
              "  <thead>\n",
              "    <tr style=\"text-align: right;\">\n",
              "      <th></th>\n",
              "      <th>Positive</th>\n",
              "      <th>Negative</th>\n",
              "      <th>Neutral</th>\n",
              "    </tr>\n",
              "  </thead>\n",
              "  <tbody>\n",
              "    <tr>\n",
              "      <th>0</th>\n",
              "      <td>0.306389</td>\n",
              "      <td>0.453070</td>\n",
              "      <td>0.029063</td>\n",
              "    </tr>\n",
              "    <tr>\n",
              "      <th>1</th>\n",
              "      <td>0.564986</td>\n",
              "      <td>0.198111</td>\n",
              "      <td>0.018900</td>\n",
              "    </tr>\n",
              "  </tbody>\n",
              "</table>\n",
              "</div>"
            ],
            "text/plain": [
              "   Positive  Negative   Neutral\n",
              "0  0.306389  0.453070  0.029063\n",
              "1  0.564986  0.198111  0.018900"
            ]
          },
          "execution_count": 74,
          "metadata": {},
          "output_type": "execute_result"
        }
      ],
      "source": [
        "# gpt_probs"
      ]
    },
    {
      "cell_type": "markdown",
      "metadata": {
        "id": "409AYhqhoPVu"
      },
      "source": [
        "Binary classification"
      ]
    },
    {
      "cell_type": "code",
      "execution_count": null,
      "metadata": {
        "colab": {
          "base_uri": "https://localhost:8080/"
        },
        "id": "LriuqXmGfrRY",
        "outputId": "45c5e002-9f3a-48ee-e4a8-21c729e0ec6f"
      },
      "outputs": [
        {
          "name": "stdout",
          "output_type": "stream",
          "text": [
            "{'0': [657], '1': [352]}\n"
          ]
        }
      ],
      "source": [
        "from transformers import GPT2TokenizerFast\n",
        "\n",
        "# Load the tokenizer.\n",
        "tokenizer = GPT2TokenizerFast.from_pretrained(\"gpt2\")\n",
        "\n",
        "# Make sure the labels are formatted correctly.\n",
        "labels = ['negative', 'positive']\n",
        "labels = [label.strip().lower().capitalize() for label in labels]\n",
        "\n",
        "# Encode the labels with extra white space prepended.\n",
        "labels_tokens = {label: tokenizer.encode(\" \" + label) for label in labels}\n",
        "print(labels_tokens)"
      ]
    },
    {
      "cell_type": "code",
      "execution_count": null,
      "metadata": {
        "id": "8h4RDsZWfB42"
      },
      "outputs": [],
      "source": [
        "import os\n",
        "import openai\n",
        "\n",
        "l = ['yg오고나서 개성있는 스타일이 다 없어졌네',\n",
        "     '노래를 잘합니다.']\n",
        "data = list()\n",
        "cnt = 1\n",
        "\n",
        "openai.api_key = ''\n",
        "for i in l:\n",
        "    a = openai.Classification.create(\n",
        "             search_model='ada',\n",
        "             model='curie',\n",
        "             examples=[\n",
        "                       ['이번에도 질릴 줄 모르고 듣겠네요.', 'positive'],\n",
        "                       ['이번 앨범 대박이야 어떡해 악뮤는 늘 레전드다… 언제나 무슨 음악을 하든지 사랑해 이찬혁 이수현 악뮤❤️❤️', 'positive'],\n",
        "                       ['여기서 아이유 목소리 새롭게 들린다..ㅎ 저음 되게 좋다 악뮤랑도 목소리합 너무 좋은 듯', 'positive'],\n",
        "                       ['고음 부분이 조금...', 'negative'],\n",
        "                       ['찬혁아 저음 부분을 보강해야 할 것 같아', 'negative']\n",
        "             ],\n",
        "             query=str(i),\n",
        "             labels=['positive', 'negative'],\n",
        "             logprobs=3,\n",
        "             expand=['completion']    \n",
        "     )\n",
        "    data.append(a)\n",
        "    cnt += 1\n",
        "#positive == 1, negative == -1, neutral == 0\n",
        "\n",
        "for i in data:\n",
        "    print(i.label)\n",
        "#str type 의 결과(label)를 반환함"
      ]
    },
    {
      "cell_type": "code",
      "execution_count": null,
      "metadata": {
        "id": "1vUkliFbfBt7"
      },
      "outputs": [],
      "source": [
        "gpt_probs = pd.DataFrame(columns=['Positive', 'Negative'])\n",
        "for i in data:\n",
        "    # Take the starting tokens for probability estimation.\n",
        "    # Labels should have distinct starting tokens.\n",
        "    # Here tokens are case-sensitive.\n",
        "    first_token_to_label = {tokens[0]: label for label, tokens in labels_tokens.items()}\n",
        "\n",
        "    top_logprobs = i[\"completion\"][\"choices\"][0][\"logprobs\"][\"top_logprobs\"][0]\n",
        "    token_probs = {\n",
        "        tokenizer.encode(token)[0]: np.exp(logp) \n",
        "        for token, logp in top_logprobs.items()\n",
        "    }\n",
        "    label_probs = {\n",
        "        first_token_to_label[token]: prob \n",
        "        for token, prob in token_probs.items()\n",
        "        if token in first_token_to_label\n",
        "    }\n",
        "\n",
        "    # Fill in the probability for the special \"Unknown\" label.\n",
        "    if sum(label_probs.values()) < 1.0:\n",
        "        label_probs[\"Neutral\"] = 1.0 - sum(label_probs.values())\n",
        "\n",
        "    gpt_probs = gpt_probs.append(label_probs, ignore_index=True)"
      ]
    },
    {
      "cell_type": "code",
      "execution_count": null,
      "metadata": {
        "id": "uNFCpb7UfBU3"
      },
      "outputs": [],
      "source": [
        "label_probs"
      ]
    },
    {
      "cell_type": "code",
      "execution_count": null,
      "metadata": {
        "id": "zZR4jUZbfLQH"
      },
      "outputs": [],
      "source": [
        "gpt_probs"
      ]
    },
    {
      "cell_type": "markdown",
      "metadata": {
        "id": "UHebovbwrNY0"
      },
      "source": [
        "CLOVA_Sentiment"
      ]
    },
    {
      "cell_type": "markdown",
      "metadata": {
        "id": "IHnVpsqEKZN3"
      },
      "source": [
        "Json file 형식 변환과 학습 limit양 고려"
      ]
    },
    {
      "cell_type": "code",
      "execution_count": null,
      "metadata": {
        "id": "qe3p1xHN_ry7"
      },
      "outputs": [],
      "source": [
        "import json"
      ]
    },
    {
      "cell_type": "code",
      "execution_count": null,
      "metadata": {
        "colab": {
          "base_uri": "https://localhost:8080/"
        },
        "id": "kvqgkGEmrRQc",
        "outputId": "fdc4337d-d499-4497-f162-b4025b9ad051"
      },
      "outputs": [
        {
          "name": "stdout",
          "output_type": "stream",
          "text": [
            "{\n",
            "    \"content\": \"\\uc7ac\\ubbf8\\uc5c6\\ub2e4\"\n",
            "}\n",
            "b'{\"document\":{\"sentiment\":\"negative\",\"confidence\":{\"negative\":99.969635,\"positive\":0.016905542,\"neutral\":0.013457015}},\"sentences\":[{\"content\":\"\\xec\\x9e\\xac\\xeb\\xaf\\xb8\\xec\\x97\\x86\\xeb\\x8b\\xa4\",\"offset\":0,\"length\":4,\"sentiment\":\"negative\",\"confidence\":{\"negative\":0.99817836,\"positive\":0.0010143325,\"neutral\":8.0742093E-4},\"highlights\":[{\"offset\":0,\"length\":4}]}]}'\n"
          ]
        }
      ],
      "source": [
        "clova_content=\"재미없다\"\n",
        "\n",
        "clova_data = {\n",
        "    \"content\": clova_content\n",
        "}\n",
        "\n",
        "print(json.dumps(clova_data, indent=4, sort_keys=True))\n",
        "response = requests.post(naver_api_url, data=json.dumps(clova_data), headers=naver_headers)\n",
        "rescode = response.status_code\n",
        "if(rescode == 200):\n",
        "    print(response.content)\n",
        "else:\n",
        "    print(\"Error : \" + response.text)\n",
        "\n",
        "r = bytes.decode(response.content)\n",
        "result_naver = json.loads(r)"
      ]
    },
    {
      "cell_type": "code",
      "execution_count": null,
      "metadata": {
        "colab": {
          "base_uri": "https://localhost:8080/",
          "height": 98
        },
        "id": "R1nSDjPKRUsd",
        "outputId": "f3aded68-a195-40d0-8591-92af6c17e6ce"
      },
      "outputs": [
        {
          "name": "stdout",
          "output_type": "stream",
          "text": [
            "{'negative': 99.969635, 'positive': 0.016905542, 'neutral': 0.013457015}\n"
          ]
        },
        {
          "data": {
            "text/html": [
              "<div>\n",
              "<style scoped>\n",
              "    .dataframe tbody tr th:only-of-type {\n",
              "        vertical-align: middle;\n",
              "    }\n",
              "\n",
              "    .dataframe tbody tr th {\n",
              "        vertical-align: top;\n",
              "    }\n",
              "\n",
              "    .dataframe thead th {\n",
              "        text-align: right;\n",
              "    }\n",
              "</style>\n",
              "<table border=\"1\" class=\"dataframe\">\n",
              "  <thead>\n",
              "    <tr style=\"text-align: right;\">\n",
              "      <th></th>\n",
              "      <th>negative</th>\n",
              "      <th>positive</th>\n",
              "      <th>neutral</th>\n",
              "    </tr>\n",
              "  </thead>\n",
              "  <tbody>\n",
              "    <tr>\n",
              "      <th>0</th>\n",
              "      <td>99.969635</td>\n",
              "      <td>0.016906</td>\n",
              "      <td>0.013457</td>\n",
              "    </tr>\n",
              "  </tbody>\n",
              "</table>\n",
              "</div>"
            ],
            "text/plain": [
              "    negative  positive   neutral\n",
              "0  99.969635  0.016906  0.013457"
            ]
          },
          "execution_count": 116,
          "metadata": {},
          "output_type": "execute_result"
        }
      ],
      "source": [
        "print(result_naver['document']['confidence'])\n",
        "naver_probs = pd.DataFrame(columns=['negative', 'positive', 'neutral'])\n",
        "naver_probs.append(result_naver['document']['confidence'], ignore_index=True)"
      ]
    }
  ],
  "metadata": {
    "accelerator": "GPU",
    "colab": {
      "machine_shape": "hm",
      "provenance": []
    },
    "kernelspec": {
      "display_name": "Python 3",
      "name": "python3"
    },
    "language_info": {
      "name": "python"
    },
    "widgets": {
      "application/vnd.jupyter.widget-state+json": {
        "00ef818089004b0d8654dafce50b2155": {
          "model_module": "@jupyter-widgets/controls",
          "model_module_version": "1.5.0",
          "model_name": "DescriptionStyleModel",
          "state": {
            "_model_module": "@jupyter-widgets/controls",
            "_model_module_version": "1.5.0",
            "_model_name": "DescriptionStyleModel",
            "_view_count": null,
            "_view_module": "@jupyter-widgets/base",
            "_view_module_version": "1.2.0",
            "_view_name": "StyleView",
            "description_width": ""
          }
        },
        "044889016fde493d962c0425cce64a02": {
          "model_module": "@jupyter-widgets/controls",
          "model_module_version": "1.5.0",
          "model_name": "DescriptionStyleModel",
          "state": {
            "_model_module": "@jupyter-widgets/controls",
            "_model_module_version": "1.5.0",
            "_model_name": "DescriptionStyleModel",
            "_view_count": null,
            "_view_module": "@jupyter-widgets/base",
            "_view_module_version": "1.2.0",
            "_view_name": "StyleView",
            "description_width": ""
          }
        },
        "04e4ec55ef694349912a27f0c643cd75": {
          "model_module": "@jupyter-widgets/controls",
          "model_module_version": "1.5.0",
          "model_name": "FloatProgressModel",
          "state": {
            "_dom_classes": [],
            "_model_module": "@jupyter-widgets/controls",
            "_model_module_version": "1.5.0",
            "_model_name": "FloatProgressModel",
            "_view_count": null,
            "_view_module": "@jupyter-widgets/controls",
            "_view_module_version": "1.5.0",
            "_view_name": "ProgressView",
            "bar_style": "success",
            "description": "",
            "description_tooltip": null,
            "layout": "IPY_MODEL_691d020ede5344b7bb861178ad3a27af",
            "max": 396417,
            "min": 0,
            "orientation": "horizontal",
            "style": "IPY_MODEL_ef0d898dc18749c580407d2d5fc7f005",
            "value": 396417
          }
        },
        "079ec978021f48c7b3a45348290eae68": {
          "model_module": "@jupyter-widgets/controls",
          "model_module_version": "1.5.0",
          "model_name": "FloatProgressModel",
          "state": {
            "_dom_classes": [],
            "_model_module": "@jupyter-widgets/controls",
            "_model_module_version": "1.5.0",
            "_model_name": "FloatProgressModel",
            "_view_count": null,
            "_view_module": "@jupyter-widgets/controls",
            "_view_module_version": "1.5.0",
            "_view_name": "ProgressView",
            "bar_style": "success",
            "description": "",
            "description_tooltip": null,
            "layout": "IPY_MODEL_3c780ae7c8534f5ca5f61a773b3386af",
            "max": 498271049,
            "min": 0,
            "orientation": "horizontal",
            "style": "IPY_MODEL_878ca9a6981a4f759c0047b875b495ed",
            "value": 498271049
          }
        },
        "0c6a367ab627490398c2755befac05e0": {
          "model_module": "@jupyter-widgets/base",
          "model_module_version": "1.2.0",
          "model_name": "LayoutModel",
          "state": {
            "_model_module": "@jupyter-widgets/base",
            "_model_module_version": "1.2.0",
            "_model_name": "LayoutModel",
            "_view_count": null,
            "_view_module": "@jupyter-widgets/base",
            "_view_module_version": "1.2.0",
            "_view_name": "LayoutView",
            "align_content": null,
            "align_items": null,
            "align_self": null,
            "border": null,
            "bottom": null,
            "display": null,
            "flex": null,
            "flex_flow": null,
            "grid_area": null,
            "grid_auto_columns": null,
            "grid_auto_flow": null,
            "grid_auto_rows": null,
            "grid_column": null,
            "grid_gap": null,
            "grid_row": null,
            "grid_template_areas": null,
            "grid_template_columns": null,
            "grid_template_rows": null,
            "height": null,
            "justify_content": null,
            "justify_items": null,
            "left": null,
            "margin": null,
            "max_height": null,
            "max_width": null,
            "min_height": null,
            "min_width": null,
            "object_fit": null,
            "object_position": null,
            "order": null,
            "overflow": null,
            "overflow_x": null,
            "overflow_y": null,
            "padding": null,
            "right": null,
            "top": null,
            "visibility": null,
            "width": null
          }
        },
        "16a6e0b3e2d944bfbdef4329101d6fcc": {
          "model_module": "@jupyter-widgets/base",
          "model_module_version": "1.2.0",
          "model_name": "LayoutModel",
          "state": {
            "_model_module": "@jupyter-widgets/base",
            "_model_module_version": "1.2.0",
            "_model_name": "LayoutModel",
            "_view_count": null,
            "_view_module": "@jupyter-widgets/base",
            "_view_module_version": "1.2.0",
            "_view_name": "LayoutView",
            "align_content": null,
            "align_items": null,
            "align_self": null,
            "border": null,
            "bottom": null,
            "display": null,
            "flex": null,
            "flex_flow": null,
            "grid_area": null,
            "grid_auto_columns": null,
            "grid_auto_flow": null,
            "grid_auto_rows": null,
            "grid_column": null,
            "grid_gap": null,
            "grid_row": null,
            "grid_template_areas": null,
            "grid_template_columns": null,
            "grid_template_rows": null,
            "height": null,
            "justify_content": null,
            "justify_items": null,
            "left": null,
            "margin": null,
            "max_height": null,
            "max_width": null,
            "min_height": null,
            "min_width": null,
            "object_fit": null,
            "object_position": null,
            "order": null,
            "overflow": null,
            "overflow_x": null,
            "overflow_y": null,
            "padding": null,
            "right": null,
            "top": null,
            "visibility": null,
            "width": null
          }
        },
        "19fe5a1229d7403cb57bdf84327498a4": {
          "model_module": "@jupyter-widgets/controls",
          "model_module_version": "1.5.0",
          "model_name": "HTMLModel",
          "state": {
            "_dom_classes": [],
            "_model_module": "@jupyter-widgets/controls",
            "_model_module_version": "1.5.0",
            "_model_name": "HTMLModel",
            "_view_count": null,
            "_view_module": "@jupyter-widgets/controls",
            "_view_module_version": "1.5.0",
            "_view_name": "HTMLView",
            "description": "",
            "description_tooltip": null,
            "layout": "IPY_MODEL_303940e65c0140e69ddc87a116531183",
            "placeholder": "​",
            "style": "IPY_MODEL_644b7ccfd59b4c9fbcab1c2a518c1d5b",
            "value": " 475M/475M [00:09&lt;00:00, 52.8MB/s]"
          }
        },
        "1cbe35168e864643bb0ca14818852f6c": {
          "model_module": "@jupyter-widgets/controls",
          "model_module_version": "1.5.0",
          "model_name": "FloatProgressModel",
          "state": {
            "_dom_classes": [],
            "_model_module": "@jupyter-widgets/controls",
            "_model_module_version": "1.5.0",
            "_model_name": "FloatProgressModel",
            "_view_count": null,
            "_view_module": "@jupyter-widgets/controls",
            "_view_module_version": "1.5.0",
            "_view_name": "ProgressView",
            "bar_style": "success",
            "description": "",
            "description_tooltip": null,
            "layout": "IPY_MODEL_3ecb94553cab4a6c91ae44c8806e7d07",
            "max": 1042301,
            "min": 0,
            "orientation": "horizontal",
            "style": "IPY_MODEL_d2d5d59462164b3eae63f6d9edfcb1a0",
            "value": 1042301
          }
        },
        "1cf2858fdd2846d1b1c474171e4a6de1": {
          "model_module": "@jupyter-widgets/controls",
          "model_module_version": "1.5.0",
          "model_name": "HTMLModel",
          "state": {
            "_dom_classes": [],
            "_model_module": "@jupyter-widgets/controls",
            "_model_module_version": "1.5.0",
            "_model_name": "HTMLModel",
            "_view_count": null,
            "_view_module": "@jupyter-widgets/controls",
            "_view_module_version": "1.5.0",
            "_view_name": "HTMLView",
            "description": "",
            "description_tooltip": null,
            "layout": "IPY_MODEL_d7cf67c7f5674eb29c9227326e6cfe73",
            "placeholder": "​",
            "style": "IPY_MODEL_5f955c558e6343d4a25a0b3b0055978a",
            "value": "Downloading: 100%"
          }
        },
        "1e8385f873da483ba61f9f848506643e": {
          "model_module": "@jupyter-widgets/base",
          "model_module_version": "1.2.0",
          "model_name": "LayoutModel",
          "state": {
            "_model_module": "@jupyter-widgets/base",
            "_model_module_version": "1.2.0",
            "_model_name": "LayoutModel",
            "_view_count": null,
            "_view_module": "@jupyter-widgets/base",
            "_view_module_version": "1.2.0",
            "_view_name": "LayoutView",
            "align_content": null,
            "align_items": null,
            "align_self": null,
            "border": null,
            "bottom": null,
            "display": null,
            "flex": null,
            "flex_flow": null,
            "grid_area": null,
            "grid_auto_columns": null,
            "grid_auto_flow": null,
            "grid_auto_rows": null,
            "grid_column": null,
            "grid_gap": null,
            "grid_row": null,
            "grid_template_areas": null,
            "grid_template_columns": null,
            "grid_template_rows": null,
            "height": null,
            "justify_content": null,
            "justify_items": null,
            "left": null,
            "margin": null,
            "max_height": null,
            "max_width": null,
            "min_height": null,
            "min_width": null,
            "object_fit": null,
            "object_position": null,
            "order": null,
            "overflow": null,
            "overflow_x": null,
            "overflow_y": null,
            "padding": null,
            "right": null,
            "top": null,
            "visibility": null,
            "width": null
          }
        },
        "21b040f0503f4c22873fbe085e1301c4": {
          "model_module": "@jupyter-widgets/controls",
          "model_module_version": "1.5.0",
          "model_name": "ProgressStyleModel",
          "state": {
            "_model_module": "@jupyter-widgets/controls",
            "_model_module_version": "1.5.0",
            "_model_name": "ProgressStyleModel",
            "_view_count": null,
            "_view_module": "@jupyter-widgets/base",
            "_view_module_version": "1.2.0",
            "_view_name": "StyleView",
            "bar_color": null,
            "description_width": ""
          }
        },
        "26e41950c72d49c2a7c49bc98f9eb804": {
          "model_module": "@jupyter-widgets/controls",
          "model_module_version": "1.5.0",
          "model_name": "HBoxModel",
          "state": {
            "_dom_classes": [],
            "_model_module": "@jupyter-widgets/controls",
            "_model_module_version": "1.5.0",
            "_model_name": "HBoxModel",
            "_view_count": null,
            "_view_module": "@jupyter-widgets/controls",
            "_view_module_version": "1.5.0",
            "_view_name": "HBoxView",
            "box_style": "",
            "children": [
              "IPY_MODEL_a9c9a83f9d2d47c5879876f92a65bcfe",
              "IPY_MODEL_c6163886196942df93e133262fa85e88",
              "IPY_MODEL_a168945ac2254e70bc30f7ba1392453a"
            ],
            "layout": "IPY_MODEL_33208b720baf48f1861e0c93841a0554"
          }
        },
        "28286c35e01a44f2a01dd34f000cee00": {
          "model_module": "@jupyter-widgets/controls",
          "model_module_version": "1.5.0",
          "model_name": "HTMLModel",
          "state": {
            "_dom_classes": [],
            "_model_module": "@jupyter-widgets/controls",
            "_model_module_version": "1.5.0",
            "_model_name": "HTMLModel",
            "_view_count": null,
            "_view_module": "@jupyter-widgets/controls",
            "_view_module_version": "1.5.0",
            "_view_name": "HTMLView",
            "description": "",
            "description_tooltip": null,
            "layout": "IPY_MODEL_9643f843d314446ebf6e65fbeeb724e7",
            "placeholder": "​",
            "style": "IPY_MODEL_39d5fe149ea44b7aa340b049e4fc835e",
            "value": "Downloading: 100%"
          }
        },
        "29f401219ee845959996f3977b2e476e": {
          "model_module": "@jupyter-widgets/base",
          "model_module_version": "1.2.0",
          "model_name": "LayoutModel",
          "state": {
            "_model_module": "@jupyter-widgets/base",
            "_model_module_version": "1.2.0",
            "_model_name": "LayoutModel",
            "_view_count": null,
            "_view_module": "@jupyter-widgets/base",
            "_view_module_version": "1.2.0",
            "_view_name": "LayoutView",
            "align_content": null,
            "align_items": null,
            "align_self": null,
            "border": null,
            "bottom": null,
            "display": null,
            "flex": null,
            "flex_flow": null,
            "grid_area": null,
            "grid_auto_columns": null,
            "grid_auto_flow": null,
            "grid_auto_rows": null,
            "grid_column": null,
            "grid_gap": null,
            "grid_row": null,
            "grid_template_areas": null,
            "grid_template_columns": null,
            "grid_template_rows": null,
            "height": null,
            "justify_content": null,
            "justify_items": null,
            "left": null,
            "margin": null,
            "max_height": null,
            "max_width": null,
            "min_height": null,
            "min_width": null,
            "object_fit": null,
            "object_position": null,
            "order": null,
            "overflow": null,
            "overflow_x": null,
            "overflow_y": null,
            "padding": null,
            "right": null,
            "top": null,
            "visibility": null,
            "width": null
          }
        },
        "2f310da8ef4e426b8a3dc1e577bbea6d": {
          "model_module": "@jupyter-widgets/base",
          "model_module_version": "1.2.0",
          "model_name": "LayoutModel",
          "state": {
            "_model_module": "@jupyter-widgets/base",
            "_model_module_version": "1.2.0",
            "_model_name": "LayoutModel",
            "_view_count": null,
            "_view_module": "@jupyter-widgets/base",
            "_view_module_version": "1.2.0",
            "_view_name": "LayoutView",
            "align_content": null,
            "align_items": null,
            "align_self": null,
            "border": null,
            "bottom": null,
            "display": null,
            "flex": null,
            "flex_flow": null,
            "grid_area": null,
            "grid_auto_columns": null,
            "grid_auto_flow": null,
            "grid_auto_rows": null,
            "grid_column": null,
            "grid_gap": null,
            "grid_row": null,
            "grid_template_areas": null,
            "grid_template_columns": null,
            "grid_template_rows": null,
            "height": null,
            "justify_content": null,
            "justify_items": null,
            "left": null,
            "margin": null,
            "max_height": null,
            "max_width": null,
            "min_height": null,
            "min_width": null,
            "object_fit": null,
            "object_position": null,
            "order": null,
            "overflow": null,
            "overflow_x": null,
            "overflow_y": null,
            "padding": null,
            "right": null,
            "top": null,
            "visibility": null,
            "width": null
          }
        },
        "303940e65c0140e69ddc87a116531183": {
          "model_module": "@jupyter-widgets/base",
          "model_module_version": "1.2.0",
          "model_name": "LayoutModel",
          "state": {
            "_model_module": "@jupyter-widgets/base",
            "_model_module_version": "1.2.0",
            "_model_name": "LayoutModel",
            "_view_count": null,
            "_view_module": "@jupyter-widgets/base",
            "_view_module_version": "1.2.0",
            "_view_name": "LayoutView",
            "align_content": null,
            "align_items": null,
            "align_self": null,
            "border": null,
            "bottom": null,
            "display": null,
            "flex": null,
            "flex_flow": null,
            "grid_area": null,
            "grid_auto_columns": null,
            "grid_auto_flow": null,
            "grid_auto_rows": null,
            "grid_column": null,
            "grid_gap": null,
            "grid_row": null,
            "grid_template_areas": null,
            "grid_template_columns": null,
            "grid_template_rows": null,
            "height": null,
            "justify_content": null,
            "justify_items": null,
            "left": null,
            "margin": null,
            "max_height": null,
            "max_width": null,
            "min_height": null,
            "min_width": null,
            "object_fit": null,
            "object_position": null,
            "order": null,
            "overflow": null,
            "overflow_x": null,
            "overflow_y": null,
            "padding": null,
            "right": null,
            "top": null,
            "visibility": null,
            "width": null
          }
        },
        "310947262f744166a4b5ad26afe0e5b0": {
          "model_module": "@jupyter-widgets/controls",
          "model_module_version": "1.5.0",
          "model_name": "HTMLModel",
          "state": {
            "_dom_classes": [],
            "_model_module": "@jupyter-widgets/controls",
            "_model_module_version": "1.5.0",
            "_model_name": "HTMLModel",
            "_view_count": null,
            "_view_module": "@jupyter-widgets/controls",
            "_view_module_version": "1.5.0",
            "_view_name": "HTMLView",
            "description": "",
            "description_tooltip": null,
            "layout": "IPY_MODEL_9fd1f79533b442b6b73c2a55279eb518",
            "placeholder": "​",
            "style": "IPY_MODEL_8b3164d6f49d4ba89b8ecfe16e76216d",
            "value": " 124/124 [00:00&lt;00:00, 3.70kB/s]"
          }
        },
        "32eccfa1c0ac4dd69e125142a69064b9": {
          "model_module": "@jupyter-widgets/controls",
          "model_module_version": "1.5.0",
          "model_name": "DescriptionStyleModel",
          "state": {
            "_model_module": "@jupyter-widgets/controls",
            "_model_module_version": "1.5.0",
            "_model_name": "DescriptionStyleModel",
            "_view_count": null,
            "_view_module": "@jupyter-widgets/base",
            "_view_module_version": "1.2.0",
            "_view_name": "StyleView",
            "description_width": ""
          }
        },
        "33208b720baf48f1861e0c93841a0554": {
          "model_module": "@jupyter-widgets/base",
          "model_module_version": "1.2.0",
          "model_name": "LayoutModel",
          "state": {
            "_model_module": "@jupyter-widgets/base",
            "_model_module_version": "1.2.0",
            "_model_name": "LayoutModel",
            "_view_count": null,
            "_view_module": "@jupyter-widgets/base",
            "_view_module_version": "1.2.0",
            "_view_name": "LayoutView",
            "align_content": null,
            "align_items": null,
            "align_self": null,
            "border": null,
            "bottom": null,
            "display": null,
            "flex": null,
            "flex_flow": null,
            "grid_area": null,
            "grid_auto_columns": null,
            "grid_auto_flow": null,
            "grid_auto_rows": null,
            "grid_column": null,
            "grid_gap": null,
            "grid_row": null,
            "grid_template_areas": null,
            "grid_template_columns": null,
            "grid_template_rows": null,
            "height": null,
            "justify_content": null,
            "justify_items": null,
            "left": null,
            "margin": null,
            "max_height": null,
            "max_width": null,
            "min_height": null,
            "min_width": null,
            "object_fit": null,
            "object_position": null,
            "order": null,
            "overflow": null,
            "overflow_x": null,
            "overflow_y": null,
            "padding": null,
            "right": null,
            "top": null,
            "visibility": null,
            "width": null
          }
        },
        "39d5fe149ea44b7aa340b049e4fc835e": {
          "model_module": "@jupyter-widgets/controls",
          "model_module_version": "1.5.0",
          "model_name": "DescriptionStyleModel",
          "state": {
            "_model_module": "@jupyter-widgets/controls",
            "_model_module_version": "1.5.0",
            "_model_name": "DescriptionStyleModel",
            "_view_count": null,
            "_view_module": "@jupyter-widgets/base",
            "_view_module_version": "1.2.0",
            "_view_name": "StyleView",
            "description_width": ""
          }
        },
        "3c780ae7c8534f5ca5f61a773b3386af": {
          "model_module": "@jupyter-widgets/base",
          "model_module_version": "1.2.0",
          "model_name": "LayoutModel",
          "state": {
            "_model_module": "@jupyter-widgets/base",
            "_model_module_version": "1.2.0",
            "_model_name": "LayoutModel",
            "_view_count": null,
            "_view_module": "@jupyter-widgets/base",
            "_view_module_version": "1.2.0",
            "_view_name": "LayoutView",
            "align_content": null,
            "align_items": null,
            "align_self": null,
            "border": null,
            "bottom": null,
            "display": null,
            "flex": null,
            "flex_flow": null,
            "grid_area": null,
            "grid_auto_columns": null,
            "grid_auto_flow": null,
            "grid_auto_rows": null,
            "grid_column": null,
            "grid_gap": null,
            "grid_row": null,
            "grid_template_areas": null,
            "grid_template_columns": null,
            "grid_template_rows": null,
            "height": null,
            "justify_content": null,
            "justify_items": null,
            "left": null,
            "margin": null,
            "max_height": null,
            "max_width": null,
            "min_height": null,
            "min_width": null,
            "object_fit": null,
            "object_position": null,
            "order": null,
            "overflow": null,
            "overflow_x": null,
            "overflow_y": null,
            "padding": null,
            "right": null,
            "top": null,
            "visibility": null,
            "width": null
          }
        },
        "3d5ccfc41c2243ea875e1d0e384b5963": {
          "model_module": "@jupyter-widgets/controls",
          "model_module_version": "1.5.0",
          "model_name": "FloatProgressModel",
          "state": {
            "_dom_classes": [],
            "_model_module": "@jupyter-widgets/controls",
            "_model_module_version": "1.5.0",
            "_model_name": "FloatProgressModel",
            "_view_count": null,
            "_view_module": "@jupyter-widgets/controls",
            "_view_module_version": "1.5.0",
            "_view_name": "ProgressView",
            "bar_style": "success",
            "description": "",
            "description_tooltip": null,
            "layout": "IPY_MODEL_5efc68aec405495d854113449a593182",
            "max": 456318,
            "min": 0,
            "orientation": "horizontal",
            "style": "IPY_MODEL_a24f0c8516d4404c9c16ac91f04ff5dd",
            "value": 456318
          }
        },
        "3ecb94553cab4a6c91ae44c8806e7d07": {
          "model_module": "@jupyter-widgets/base",
          "model_module_version": "1.2.0",
          "model_name": "LayoutModel",
          "state": {
            "_model_module": "@jupyter-widgets/base",
            "_model_module_version": "1.2.0",
            "_model_name": "LayoutModel",
            "_view_count": null,
            "_view_module": "@jupyter-widgets/base",
            "_view_module_version": "1.2.0",
            "_view_name": "LayoutView",
            "align_content": null,
            "align_items": null,
            "align_self": null,
            "border": null,
            "bottom": null,
            "display": null,
            "flex": null,
            "flex_flow": null,
            "grid_area": null,
            "grid_auto_columns": null,
            "grid_auto_flow": null,
            "grid_auto_rows": null,
            "grid_column": null,
            "grid_gap": null,
            "grid_row": null,
            "grid_template_areas": null,
            "grid_template_columns": null,
            "grid_template_rows": null,
            "height": null,
            "justify_content": null,
            "justify_items": null,
            "left": null,
            "margin": null,
            "max_height": null,
            "max_width": null,
            "min_height": null,
            "min_width": null,
            "object_fit": null,
            "object_position": null,
            "order": null,
            "overflow": null,
            "overflow_x": null,
            "overflow_y": null,
            "padding": null,
            "right": null,
            "top": null,
            "visibility": null,
            "width": null
          }
        },
        "407d694b053a4db7b3e3962fb3895678": {
          "model_module": "@jupyter-widgets/controls",
          "model_module_version": "1.5.0",
          "model_name": "DescriptionStyleModel",
          "state": {
            "_model_module": "@jupyter-widgets/controls",
            "_model_module_version": "1.5.0",
            "_model_name": "DescriptionStyleModel",
            "_view_count": null,
            "_view_module": "@jupyter-widgets/base",
            "_view_module_version": "1.2.0",
            "_view_name": "StyleView",
            "description_width": ""
          }
        },
        "41ad4098b9d24f4eb5ef7b9d7651d0f6": {
          "model_module": "@jupyter-widgets/base",
          "model_module_version": "1.2.0",
          "model_name": "LayoutModel",
          "state": {
            "_model_module": "@jupyter-widgets/base",
            "_model_module_version": "1.2.0",
            "_model_name": "LayoutModel",
            "_view_count": null,
            "_view_module": "@jupyter-widgets/base",
            "_view_module_version": "1.2.0",
            "_view_name": "LayoutView",
            "align_content": null,
            "align_items": null,
            "align_self": null,
            "border": null,
            "bottom": null,
            "display": null,
            "flex": null,
            "flex_flow": null,
            "grid_area": null,
            "grid_auto_columns": null,
            "grid_auto_flow": null,
            "grid_auto_rows": null,
            "grid_column": null,
            "grid_gap": null,
            "grid_row": null,
            "grid_template_areas": null,
            "grid_template_columns": null,
            "grid_template_rows": null,
            "height": null,
            "justify_content": null,
            "justify_items": null,
            "left": null,
            "margin": null,
            "max_height": null,
            "max_width": null,
            "min_height": null,
            "min_width": null,
            "object_fit": null,
            "object_position": null,
            "order": null,
            "overflow": null,
            "overflow_x": null,
            "overflow_y": null,
            "padding": null,
            "right": null,
            "top": null,
            "visibility": null,
            "width": null
          }
        },
        "4490613b012a416ab797d30e863a6210": {
          "model_module": "@jupyter-widgets/base",
          "model_module_version": "1.2.0",
          "model_name": "LayoutModel",
          "state": {
            "_model_module": "@jupyter-widgets/base",
            "_model_module_version": "1.2.0",
            "_model_name": "LayoutModel",
            "_view_count": null,
            "_view_module": "@jupyter-widgets/base",
            "_view_module_version": "1.2.0",
            "_view_name": "LayoutView",
            "align_content": null,
            "align_items": null,
            "align_self": null,
            "border": null,
            "bottom": null,
            "display": null,
            "flex": null,
            "flex_flow": null,
            "grid_area": null,
            "grid_auto_columns": null,
            "grid_auto_flow": null,
            "grid_auto_rows": null,
            "grid_column": null,
            "grid_gap": null,
            "grid_row": null,
            "grid_template_areas": null,
            "grid_template_columns": null,
            "grid_template_rows": null,
            "height": null,
            "justify_content": null,
            "justify_items": null,
            "left": null,
            "margin": null,
            "max_height": null,
            "max_width": null,
            "min_height": null,
            "min_width": null,
            "object_fit": null,
            "object_position": null,
            "order": null,
            "overflow": null,
            "overflow_x": null,
            "overflow_y": null,
            "padding": null,
            "right": null,
            "top": null,
            "visibility": null,
            "width": null
          }
        },
        "4c4829f1ea8b4a0180dd11b51c666965": {
          "model_module": "@jupyter-widgets/controls",
          "model_module_version": "1.5.0",
          "model_name": "DescriptionStyleModel",
          "state": {
            "_model_module": "@jupyter-widgets/controls",
            "_model_module_version": "1.5.0",
            "_model_name": "DescriptionStyleModel",
            "_view_count": null,
            "_view_module": "@jupyter-widgets/base",
            "_view_module_version": "1.2.0",
            "_view_name": "StyleView",
            "description_width": ""
          }
        },
        "4f141d424c7148fd9ef47737828c07b8": {
          "model_module": "@jupyter-widgets/base",
          "model_module_version": "1.2.0",
          "model_name": "LayoutModel",
          "state": {
            "_model_module": "@jupyter-widgets/base",
            "_model_module_version": "1.2.0",
            "_model_name": "LayoutModel",
            "_view_count": null,
            "_view_module": "@jupyter-widgets/base",
            "_view_module_version": "1.2.0",
            "_view_name": "LayoutView",
            "align_content": null,
            "align_items": null,
            "align_self": null,
            "border": null,
            "bottom": null,
            "display": null,
            "flex": null,
            "flex_flow": null,
            "grid_area": null,
            "grid_auto_columns": null,
            "grid_auto_flow": null,
            "grid_auto_rows": null,
            "grid_column": null,
            "grid_gap": null,
            "grid_row": null,
            "grid_template_areas": null,
            "grid_template_columns": null,
            "grid_template_rows": null,
            "height": null,
            "justify_content": null,
            "justify_items": null,
            "left": null,
            "margin": null,
            "max_height": null,
            "max_width": null,
            "min_height": null,
            "min_width": null,
            "object_fit": null,
            "object_position": null,
            "order": null,
            "overflow": null,
            "overflow_x": null,
            "overflow_y": null,
            "padding": null,
            "right": null,
            "top": null,
            "visibility": null,
            "width": null
          }
        },
        "4f944a6db7f9437c864c61a0c82edac1": {
          "model_module": "@jupyter-widgets/controls",
          "model_module_version": "1.5.0",
          "model_name": "HTMLModel",
          "state": {
            "_dom_classes": [],
            "_model_module": "@jupyter-widgets/controls",
            "_model_module_version": "1.5.0",
            "_model_name": "HTMLModel",
            "_view_count": null,
            "_view_module": "@jupyter-widgets/controls",
            "_view_module_version": "1.5.0",
            "_view_name": "HTMLView",
            "description": "",
            "description_tooltip": null,
            "layout": "IPY_MODEL_6cb53d922c5447d9a1d075a17765c80c",
            "placeholder": "​",
            "style": "IPY_MODEL_32eccfa1c0ac4dd69e125142a69064b9",
            "value": " 288/288 [00:00&lt;00:00, 8.91kB/s]"
          }
        },
        "5105fc74cb0a4948b203eaf7f4a12c91": {
          "model_module": "@jupyter-widgets/controls",
          "model_module_version": "1.5.0",
          "model_name": "HTMLModel",
          "state": {
            "_dom_classes": [],
            "_model_module": "@jupyter-widgets/controls",
            "_model_module_version": "1.5.0",
            "_model_name": "HTMLModel",
            "_view_count": null,
            "_view_module": "@jupyter-widgets/controls",
            "_view_module_version": "1.5.0",
            "_view_name": "HTMLView",
            "description": "",
            "description_tooltip": null,
            "layout": "IPY_MODEL_653ff8c4bc244d0f9487bb5f5365f601",
            "placeholder": "​",
            "style": "IPY_MODEL_db8f4dc5f21c4ba78b52ea6930168698",
            "value": "Downloading: 100%"
          }
        },
        "523775cc95924a70930a6c89e80b5e7c": {
          "model_module": "@jupyter-widgets/base",
          "model_module_version": "1.2.0",
          "model_name": "LayoutModel",
          "state": {
            "_model_module": "@jupyter-widgets/base",
            "_model_module_version": "1.2.0",
            "_model_name": "LayoutModel",
            "_view_count": null,
            "_view_module": "@jupyter-widgets/base",
            "_view_module_version": "1.2.0",
            "_view_name": "LayoutView",
            "align_content": null,
            "align_items": null,
            "align_self": null,
            "border": null,
            "bottom": null,
            "display": null,
            "flex": null,
            "flex_flow": null,
            "grid_area": null,
            "grid_auto_columns": null,
            "grid_auto_flow": null,
            "grid_auto_rows": null,
            "grid_column": null,
            "grid_gap": null,
            "grid_row": null,
            "grid_template_areas": null,
            "grid_template_columns": null,
            "grid_template_rows": null,
            "height": null,
            "justify_content": null,
            "justify_items": null,
            "left": null,
            "margin": null,
            "max_height": null,
            "max_width": null,
            "min_height": null,
            "min_width": null,
            "object_fit": null,
            "object_position": null,
            "order": null,
            "overflow": null,
            "overflow_x": null,
            "overflow_y": null,
            "padding": null,
            "right": null,
            "top": null,
            "visibility": null,
            "width": null
          }
        },
        "553c6506937c4474bb3f4ca19e33a496": {
          "model_module": "@jupyter-widgets/controls",
          "model_module_version": "1.5.0",
          "model_name": "ProgressStyleModel",
          "state": {
            "_model_module": "@jupyter-widgets/controls",
            "_model_module_version": "1.5.0",
            "_model_name": "ProgressStyleModel",
            "_view_count": null,
            "_view_module": "@jupyter-widgets/base",
            "_view_module_version": "1.2.0",
            "_view_name": "StyleView",
            "bar_color": null,
            "description_width": ""
          }
        },
        "56922dd331564867bdd83416f59d900d": {
          "model_module": "@jupyter-widgets/controls",
          "model_module_version": "1.5.0",
          "model_name": "HTMLModel",
          "state": {
            "_dom_classes": [],
            "_model_module": "@jupyter-widgets/controls",
            "_model_module_version": "1.5.0",
            "_model_name": "HTMLModel",
            "_view_count": null,
            "_view_module": "@jupyter-widgets/controls",
            "_view_module_version": "1.5.0",
            "_view_name": "HTMLView",
            "description": "",
            "description_tooltip": null,
            "layout": "IPY_MODEL_cfb4238180db4a6eab5fcc3c36aa322d",
            "placeholder": "​",
            "style": "IPY_MODEL_eaf1a9cf338a46c593458250cea52065",
            "value": " 1.29M/1.29M [00:00&lt;00:00, 3.37MB/s]"
          }
        },
        "5836782e47484a4e8edd09317ec4dddd": {
          "model_module": "@jupyter-widgets/controls",
          "model_module_version": "1.5.0",
          "model_name": "DescriptionStyleModel",
          "state": {
            "_model_module": "@jupyter-widgets/controls",
            "_model_module_version": "1.5.0",
            "_model_name": "DescriptionStyleModel",
            "_view_count": null,
            "_view_module": "@jupyter-widgets/base",
            "_view_module_version": "1.2.0",
            "_view_name": "StyleView",
            "description_width": ""
          }
        },
        "5efc68aec405495d854113449a593182": {
          "model_module": "@jupyter-widgets/base",
          "model_module_version": "1.2.0",
          "model_name": "LayoutModel",
          "state": {
            "_model_module": "@jupyter-widgets/base",
            "_model_module_version": "1.2.0",
            "_model_name": "LayoutModel",
            "_view_count": null,
            "_view_module": "@jupyter-widgets/base",
            "_view_module_version": "1.2.0",
            "_view_name": "LayoutView",
            "align_content": null,
            "align_items": null,
            "align_self": null,
            "border": null,
            "bottom": null,
            "display": null,
            "flex": null,
            "flex_flow": null,
            "grid_area": null,
            "grid_auto_columns": null,
            "grid_auto_flow": null,
            "grid_auto_rows": null,
            "grid_column": null,
            "grid_gap": null,
            "grid_row": null,
            "grid_template_areas": null,
            "grid_template_columns": null,
            "grid_template_rows": null,
            "height": null,
            "justify_content": null,
            "justify_items": null,
            "left": null,
            "margin": null,
            "max_height": null,
            "max_width": null,
            "min_height": null,
            "min_width": null,
            "object_fit": null,
            "object_position": null,
            "order": null,
            "overflow": null,
            "overflow_x": null,
            "overflow_y": null,
            "padding": null,
            "right": null,
            "top": null,
            "visibility": null,
            "width": null
          }
        },
        "5f955c558e6343d4a25a0b3b0055978a": {
          "model_module": "@jupyter-widgets/controls",
          "model_module_version": "1.5.0",
          "model_name": "DescriptionStyleModel",
          "state": {
            "_model_module": "@jupyter-widgets/controls",
            "_model_module_version": "1.5.0",
            "_model_name": "DescriptionStyleModel",
            "_view_count": null,
            "_view_module": "@jupyter-widgets/base",
            "_view_module_version": "1.2.0",
            "_view_name": "StyleView",
            "description_width": ""
          }
        },
        "5fa2809e89e94087880d4d52762614a9": {
          "model_module": "@jupyter-widgets/controls",
          "model_module_version": "1.5.0",
          "model_name": "FloatProgressModel",
          "state": {
            "_dom_classes": [],
            "_model_module": "@jupyter-widgets/controls",
            "_model_module_version": "1.5.0",
            "_model_name": "FloatProgressModel",
            "_view_count": null,
            "_view_module": "@jupyter-widgets/controls",
            "_view_module_version": "1.5.0",
            "_view_name": "ProgressView",
            "bar_style": "success",
            "description": "",
            "description_tooltip": null,
            "layout": "IPY_MODEL_1e8385f873da483ba61f9f848506643e",
            "max": 665,
            "min": 0,
            "orientation": "horizontal",
            "style": "IPY_MODEL_21b040f0503f4c22873fbe085e1301c4",
            "value": 665
          }
        },
        "60dca4268bbb4f0f80642aaf50b0afed": {
          "model_module": "@jupyter-widgets/controls",
          "model_module_version": "1.5.0",
          "model_name": "HTMLModel",
          "state": {
            "_dom_classes": [],
            "_model_module": "@jupyter-widgets/controls",
            "_model_module_version": "1.5.0",
            "_model_name": "HTMLModel",
            "_view_count": null,
            "_view_module": "@jupyter-widgets/controls",
            "_view_module_version": "1.5.0",
            "_view_name": "HTMLView",
            "description": "",
            "description_tooltip": null,
            "layout": "IPY_MODEL_4490613b012a416ab797d30e863a6210",
            "placeholder": "​",
            "style": "IPY_MODEL_9e2bb904a2df48e7bdb2a1b67cf24365",
            "value": "Downloading: 100%"
          }
        },
        "64047152712844c081568d72939428a0": {
          "model_module": "@jupyter-widgets/controls",
          "model_module_version": "1.5.0",
          "model_name": "FloatProgressModel",
          "state": {
            "_dom_classes": [],
            "_model_module": "@jupyter-widgets/controls",
            "_model_module_version": "1.5.0",
            "_model_name": "FloatProgressModel",
            "_view_count": null,
            "_view_module": "@jupyter-widgets/controls",
            "_view_module_version": "1.5.0",
            "_view_name": "ProgressView",
            "bar_style": "success",
            "description": "",
            "description_tooltip": null,
            "layout": "IPY_MODEL_7cd582877f52402c8f45e4f0fff83093",
            "max": 288,
            "min": 0,
            "orientation": "horizontal",
            "style": "IPY_MODEL_553c6506937c4474bb3f4ca19e33a496",
            "value": 288
          }
        },
        "644b7ccfd59b4c9fbcab1c2a518c1d5b": {
          "model_module": "@jupyter-widgets/controls",
          "model_module_version": "1.5.0",
          "model_name": "DescriptionStyleModel",
          "state": {
            "_model_module": "@jupyter-widgets/controls",
            "_model_module_version": "1.5.0",
            "_model_name": "DescriptionStyleModel",
            "_view_count": null,
            "_view_module": "@jupyter-widgets/base",
            "_view_module_version": "1.2.0",
            "_view_name": "StyleView",
            "description_width": ""
          }
        },
        "653ff8c4bc244d0f9487bb5f5365f601": {
          "model_module": "@jupyter-widgets/base",
          "model_module_version": "1.2.0",
          "model_name": "LayoutModel",
          "state": {
            "_model_module": "@jupyter-widgets/base",
            "_model_module_version": "1.2.0",
            "_model_name": "LayoutModel",
            "_view_count": null,
            "_view_module": "@jupyter-widgets/base",
            "_view_module_version": "1.2.0",
            "_view_name": "LayoutView",
            "align_content": null,
            "align_items": null,
            "align_self": null,
            "border": null,
            "bottom": null,
            "display": null,
            "flex": null,
            "flex_flow": null,
            "grid_area": null,
            "grid_auto_columns": null,
            "grid_auto_flow": null,
            "grid_auto_rows": null,
            "grid_column": null,
            "grid_gap": null,
            "grid_row": null,
            "grid_template_areas": null,
            "grid_template_columns": null,
            "grid_template_rows": null,
            "height": null,
            "justify_content": null,
            "justify_items": null,
            "left": null,
            "margin": null,
            "max_height": null,
            "max_width": null,
            "min_height": null,
            "min_width": null,
            "object_fit": null,
            "object_position": null,
            "order": null,
            "overflow": null,
            "overflow_x": null,
            "overflow_y": null,
            "padding": null,
            "right": null,
            "top": null,
            "visibility": null,
            "width": null
          }
        },
        "678baa80db1a4b17a927451e35b9c2f8": {
          "model_module": "@jupyter-widgets/controls",
          "model_module_version": "1.5.0",
          "model_name": "ProgressStyleModel",
          "state": {
            "_model_module": "@jupyter-widgets/controls",
            "_model_module_version": "1.5.0",
            "_model_name": "ProgressStyleModel",
            "_view_count": null,
            "_view_module": "@jupyter-widgets/base",
            "_view_module_version": "1.2.0",
            "_view_name": "StyleView",
            "bar_color": null,
            "description_width": ""
          }
        },
        "691d020ede5344b7bb861178ad3a27af": {
          "model_module": "@jupyter-widgets/base",
          "model_module_version": "1.2.0",
          "model_name": "LayoutModel",
          "state": {
            "_model_module": "@jupyter-widgets/base",
            "_model_module_version": "1.2.0",
            "_model_name": "LayoutModel",
            "_view_count": null,
            "_view_module": "@jupyter-widgets/base",
            "_view_module_version": "1.2.0",
            "_view_name": "LayoutView",
            "align_content": null,
            "align_items": null,
            "align_self": null,
            "border": null,
            "bottom": null,
            "display": null,
            "flex": null,
            "flex_flow": null,
            "grid_area": null,
            "grid_auto_columns": null,
            "grid_auto_flow": null,
            "grid_auto_rows": null,
            "grid_column": null,
            "grid_gap": null,
            "grid_row": null,
            "grid_template_areas": null,
            "grid_template_columns": null,
            "grid_template_rows": null,
            "height": null,
            "justify_content": null,
            "justify_items": null,
            "left": null,
            "margin": null,
            "max_height": null,
            "max_width": null,
            "min_height": null,
            "min_width": null,
            "object_fit": null,
            "object_position": null,
            "order": null,
            "overflow": null,
            "overflow_x": null,
            "overflow_y": null,
            "padding": null,
            "right": null,
            "top": null,
            "visibility": null,
            "width": null
          }
        },
        "6cb53d922c5447d9a1d075a17765c80c": {
          "model_module": "@jupyter-widgets/base",
          "model_module_version": "1.2.0",
          "model_name": "LayoutModel",
          "state": {
            "_model_module": "@jupyter-widgets/base",
            "_model_module_version": "1.2.0",
            "_model_name": "LayoutModel",
            "_view_count": null,
            "_view_module": "@jupyter-widgets/base",
            "_view_module_version": "1.2.0",
            "_view_name": "LayoutView",
            "align_content": null,
            "align_items": null,
            "align_self": null,
            "border": null,
            "bottom": null,
            "display": null,
            "flex": null,
            "flex_flow": null,
            "grid_area": null,
            "grid_auto_columns": null,
            "grid_auto_flow": null,
            "grid_auto_rows": null,
            "grid_column": null,
            "grid_gap": null,
            "grid_row": null,
            "grid_template_areas": null,
            "grid_template_columns": null,
            "grid_template_rows": null,
            "height": null,
            "justify_content": null,
            "justify_items": null,
            "left": null,
            "margin": null,
            "max_height": null,
            "max_width": null,
            "min_height": null,
            "min_width": null,
            "object_fit": null,
            "object_position": null,
            "order": null,
            "overflow": null,
            "overflow_x": null,
            "overflow_y": null,
            "padding": null,
            "right": null,
            "top": null,
            "visibility": null,
            "width": null
          }
        },
        "6efe559774b149038a4fc58f8bdade97": {
          "model_module": "@jupyter-widgets/controls",
          "model_module_version": "1.5.0",
          "model_name": "DescriptionStyleModel",
          "state": {
            "_model_module": "@jupyter-widgets/controls",
            "_model_module_version": "1.5.0",
            "_model_name": "DescriptionStyleModel",
            "_view_count": null,
            "_view_module": "@jupyter-widgets/base",
            "_view_module_version": "1.2.0",
            "_view_name": "StyleView",
            "description_width": ""
          }
        },
        "79f113d711ee44f19304f3d1d8da4aac": {
          "model_module": "@jupyter-widgets/controls",
          "model_module_version": "1.5.0",
          "model_name": "HBoxModel",
          "state": {
            "_dom_classes": [],
            "_model_module": "@jupyter-widgets/controls",
            "_model_module_version": "1.5.0",
            "_model_name": "HBoxModel",
            "_view_count": null,
            "_view_module": "@jupyter-widgets/controls",
            "_view_module_version": "1.5.0",
            "_view_name": "HBoxView",
            "box_style": "",
            "children": [
              "IPY_MODEL_f0c50de6c03e4a36a25aeb6e3b9f213f",
              "IPY_MODEL_f664bad86eeb4ea4bf95e95333b4bba0",
              "IPY_MODEL_310947262f744166a4b5ad26afe0e5b0"
            ],
            "layout": "IPY_MODEL_9b371217ce114aa3b904300bad255a4b"
          }
        },
        "7b02eec9af474256bdf1d5c1cca3d5c1": {
          "model_module": "@jupyter-widgets/base",
          "model_module_version": "1.2.0",
          "model_name": "LayoutModel",
          "state": {
            "_model_module": "@jupyter-widgets/base",
            "_model_module_version": "1.2.0",
            "_model_name": "LayoutModel",
            "_view_count": null,
            "_view_module": "@jupyter-widgets/base",
            "_view_module_version": "1.2.0",
            "_view_name": "LayoutView",
            "align_content": null,
            "align_items": null,
            "align_self": null,
            "border": null,
            "bottom": null,
            "display": null,
            "flex": null,
            "flex_flow": null,
            "grid_area": null,
            "grid_auto_columns": null,
            "grid_auto_flow": null,
            "grid_auto_rows": null,
            "grid_column": null,
            "grid_gap": null,
            "grid_row": null,
            "grid_template_areas": null,
            "grid_template_columns": null,
            "grid_template_rows": null,
            "height": null,
            "justify_content": null,
            "justify_items": null,
            "left": null,
            "margin": null,
            "max_height": null,
            "max_width": null,
            "min_height": null,
            "min_width": null,
            "object_fit": null,
            "object_position": null,
            "order": null,
            "overflow": null,
            "overflow_x": null,
            "overflow_y": null,
            "padding": null,
            "right": null,
            "top": null,
            "visibility": null,
            "width": null
          }
        },
        "7cd406efb4b9463f9b43c0bd6566e252": {
          "model_module": "@jupyter-widgets/base",
          "model_module_version": "1.2.0",
          "model_name": "LayoutModel",
          "state": {
            "_model_module": "@jupyter-widgets/base",
            "_model_module_version": "1.2.0",
            "_model_name": "LayoutModel",
            "_view_count": null,
            "_view_module": "@jupyter-widgets/base",
            "_view_module_version": "1.2.0",
            "_view_name": "LayoutView",
            "align_content": null,
            "align_items": null,
            "align_self": null,
            "border": null,
            "bottom": null,
            "display": null,
            "flex": null,
            "flex_flow": null,
            "grid_area": null,
            "grid_auto_columns": null,
            "grid_auto_flow": null,
            "grid_auto_rows": null,
            "grid_column": null,
            "grid_gap": null,
            "grid_row": null,
            "grid_template_areas": null,
            "grid_template_columns": null,
            "grid_template_rows": null,
            "height": null,
            "justify_content": null,
            "justify_items": null,
            "left": null,
            "margin": null,
            "max_height": null,
            "max_width": null,
            "min_height": null,
            "min_width": null,
            "object_fit": null,
            "object_position": null,
            "order": null,
            "overflow": null,
            "overflow_x": null,
            "overflow_y": null,
            "padding": null,
            "right": null,
            "top": null,
            "visibility": null,
            "width": null
          }
        },
        "7cd582877f52402c8f45e4f0fff83093": {
          "model_module": "@jupyter-widgets/base",
          "model_module_version": "1.2.0",
          "model_name": "LayoutModel",
          "state": {
            "_model_module": "@jupyter-widgets/base",
            "_model_module_version": "1.2.0",
            "_model_name": "LayoutModel",
            "_view_count": null,
            "_view_module": "@jupyter-widgets/base",
            "_view_module_version": "1.2.0",
            "_view_name": "LayoutView",
            "align_content": null,
            "align_items": null,
            "align_self": null,
            "border": null,
            "bottom": null,
            "display": null,
            "flex": null,
            "flex_flow": null,
            "grid_area": null,
            "grid_auto_columns": null,
            "grid_auto_flow": null,
            "grid_auto_rows": null,
            "grid_column": null,
            "grid_gap": null,
            "grid_row": null,
            "grid_template_areas": null,
            "grid_template_columns": null,
            "grid_template_rows": null,
            "height": null,
            "justify_content": null,
            "justify_items": null,
            "left": null,
            "margin": null,
            "max_height": null,
            "max_width": null,
            "min_height": null,
            "min_width": null,
            "object_fit": null,
            "object_position": null,
            "order": null,
            "overflow": null,
            "overflow_x": null,
            "overflow_y": null,
            "padding": null,
            "right": null,
            "top": null,
            "visibility": null,
            "width": null
          }
        },
        "7d911b7aff954e3f9bdba03e3f5cd2ac": {
          "model_module": "@jupyter-widgets/base",
          "model_module_version": "1.2.0",
          "model_name": "LayoutModel",
          "state": {
            "_model_module": "@jupyter-widgets/base",
            "_model_module_version": "1.2.0",
            "_model_name": "LayoutModel",
            "_view_count": null,
            "_view_module": "@jupyter-widgets/base",
            "_view_module_version": "1.2.0",
            "_view_name": "LayoutView",
            "align_content": null,
            "align_items": null,
            "align_self": null,
            "border": null,
            "bottom": null,
            "display": null,
            "flex": null,
            "flex_flow": null,
            "grid_area": null,
            "grid_auto_columns": null,
            "grid_auto_flow": null,
            "grid_auto_rows": null,
            "grid_column": null,
            "grid_gap": null,
            "grid_row": null,
            "grid_template_areas": null,
            "grid_template_columns": null,
            "grid_template_rows": null,
            "height": null,
            "justify_content": null,
            "justify_items": null,
            "left": null,
            "margin": null,
            "max_height": null,
            "max_width": null,
            "min_height": null,
            "min_width": null,
            "object_fit": null,
            "object_position": null,
            "order": null,
            "overflow": null,
            "overflow_x": null,
            "overflow_y": null,
            "padding": null,
            "right": null,
            "top": null,
            "visibility": null,
            "width": null
          }
        },
        "8325ba2e54f3496aa4f632f9f95b9108": {
          "model_module": "@jupyter-widgets/base",
          "model_module_version": "1.2.0",
          "model_name": "LayoutModel",
          "state": {
            "_model_module": "@jupyter-widgets/base",
            "_model_module_version": "1.2.0",
            "_model_name": "LayoutModel",
            "_view_count": null,
            "_view_module": "@jupyter-widgets/base",
            "_view_module_version": "1.2.0",
            "_view_name": "LayoutView",
            "align_content": null,
            "align_items": null,
            "align_self": null,
            "border": null,
            "bottom": null,
            "display": null,
            "flex": null,
            "flex_flow": null,
            "grid_area": null,
            "grid_auto_columns": null,
            "grid_auto_flow": null,
            "grid_auto_rows": null,
            "grid_column": null,
            "grid_gap": null,
            "grid_row": null,
            "grid_template_areas": null,
            "grid_template_columns": null,
            "grid_template_rows": null,
            "height": null,
            "justify_content": null,
            "justify_items": null,
            "left": null,
            "margin": null,
            "max_height": null,
            "max_width": null,
            "min_height": null,
            "min_width": null,
            "object_fit": null,
            "object_position": null,
            "order": null,
            "overflow": null,
            "overflow_x": null,
            "overflow_y": null,
            "padding": null,
            "right": null,
            "top": null,
            "visibility": null,
            "width": null
          }
        },
        "878ca9a6981a4f759c0047b875b495ed": {
          "model_module": "@jupyter-widgets/controls",
          "model_module_version": "1.5.0",
          "model_name": "ProgressStyleModel",
          "state": {
            "_model_module": "@jupyter-widgets/controls",
            "_model_module_version": "1.5.0",
            "_model_name": "ProgressStyleModel",
            "_view_count": null,
            "_view_module": "@jupyter-widgets/base",
            "_view_module_version": "1.2.0",
            "_view_name": "StyleView",
            "bar_color": null,
            "description_width": ""
          }
        },
        "897b0ddf9b57443dbf754c7a08b51723": {
          "model_module": "@jupyter-widgets/controls",
          "model_module_version": "1.5.0",
          "model_name": "HTMLModel",
          "state": {
            "_dom_classes": [],
            "_model_module": "@jupyter-widgets/controls",
            "_model_module_version": "1.5.0",
            "_model_name": "HTMLModel",
            "_view_count": null,
            "_view_module": "@jupyter-widgets/controls",
            "_view_module_version": "1.5.0",
            "_view_name": "HTMLView",
            "description": "",
            "description_tooltip": null,
            "layout": "IPY_MODEL_db455fad64a34e92ae98b7c4284024ee",
            "placeholder": "​",
            "style": "IPY_MODEL_6efe559774b149038a4fc58f8bdade97",
            "value": " 387k/387k [00:00&lt;00:00, 359kB/s]"
          }
        },
        "8b3164d6f49d4ba89b8ecfe16e76216d": {
          "model_module": "@jupyter-widgets/controls",
          "model_module_version": "1.5.0",
          "model_name": "DescriptionStyleModel",
          "state": {
            "_model_module": "@jupyter-widgets/controls",
            "_model_module_version": "1.5.0",
            "_model_name": "DescriptionStyleModel",
            "_view_count": null,
            "_view_module": "@jupyter-widgets/base",
            "_view_module_version": "1.2.0",
            "_view_name": "StyleView",
            "description_width": ""
          }
        },
        "9027a46364e54c8ea0371ac59144d779": {
          "model_module": "@jupyter-widgets/base",
          "model_module_version": "1.2.0",
          "model_name": "LayoutModel",
          "state": {
            "_model_module": "@jupyter-widgets/base",
            "_model_module_version": "1.2.0",
            "_model_name": "LayoutModel",
            "_view_count": null,
            "_view_module": "@jupyter-widgets/base",
            "_view_module_version": "1.2.0",
            "_view_name": "LayoutView",
            "align_content": null,
            "align_items": null,
            "align_self": null,
            "border": null,
            "bottom": null,
            "display": null,
            "flex": null,
            "flex_flow": null,
            "grid_area": null,
            "grid_auto_columns": null,
            "grid_auto_flow": null,
            "grid_auto_rows": null,
            "grid_column": null,
            "grid_gap": null,
            "grid_row": null,
            "grid_template_areas": null,
            "grid_template_columns": null,
            "grid_template_rows": null,
            "height": null,
            "justify_content": null,
            "justify_items": null,
            "left": null,
            "margin": null,
            "max_height": null,
            "max_width": null,
            "min_height": null,
            "min_width": null,
            "object_fit": null,
            "object_position": null,
            "order": null,
            "overflow": null,
            "overflow_x": null,
            "overflow_y": null,
            "padding": null,
            "right": null,
            "top": null,
            "visibility": null,
            "width": null
          }
        },
        "90a622f7c10e4be0ac69d7788dbaee6b": {
          "model_module": "@jupyter-widgets/base",
          "model_module_version": "1.2.0",
          "model_name": "LayoutModel",
          "state": {
            "_model_module": "@jupyter-widgets/base",
            "_model_module_version": "1.2.0",
            "_model_name": "LayoutModel",
            "_view_count": null,
            "_view_module": "@jupyter-widgets/base",
            "_view_module_version": "1.2.0",
            "_view_name": "LayoutView",
            "align_content": null,
            "align_items": null,
            "align_self": null,
            "border": null,
            "bottom": null,
            "display": null,
            "flex": null,
            "flex_flow": null,
            "grid_area": null,
            "grid_auto_columns": null,
            "grid_auto_flow": null,
            "grid_auto_rows": null,
            "grid_column": null,
            "grid_gap": null,
            "grid_row": null,
            "grid_template_areas": null,
            "grid_template_columns": null,
            "grid_template_rows": null,
            "height": null,
            "justify_content": null,
            "justify_items": null,
            "left": null,
            "margin": null,
            "max_height": null,
            "max_width": null,
            "min_height": null,
            "min_width": null,
            "object_fit": null,
            "object_position": null,
            "order": null,
            "overflow": null,
            "overflow_x": null,
            "overflow_y": null,
            "padding": null,
            "right": null,
            "top": null,
            "visibility": null,
            "width": null
          }
        },
        "938e219c26be419695fc376e799c43f4": {
          "model_module": "@jupyter-widgets/controls",
          "model_module_version": "1.5.0",
          "model_name": "HBoxModel",
          "state": {
            "_dom_classes": [],
            "_model_module": "@jupyter-widgets/controls",
            "_model_module_version": "1.5.0",
            "_model_name": "HBoxModel",
            "_view_count": null,
            "_view_module": "@jupyter-widgets/controls",
            "_view_module_version": "1.5.0",
            "_view_name": "HBoxView",
            "box_style": "",
            "children": [
              "IPY_MODEL_d33a3c28bc794aa0a69cf0fdef30da59",
              "IPY_MODEL_bb18ebb24dbb48d1b3fd00391696e7bc",
              "IPY_MODEL_56922dd331564867bdd83416f59d900d"
            ],
            "layout": "IPY_MODEL_41ad4098b9d24f4eb5ef7b9d7651d0f6"
          }
        },
        "962927ab039f4cd9b93c8c2c5a85fa8f": {
          "model_module": "@jupyter-widgets/controls",
          "model_module_version": "1.5.0",
          "model_name": "HTMLModel",
          "state": {
            "_dom_classes": [],
            "_model_module": "@jupyter-widgets/controls",
            "_model_module_version": "1.5.0",
            "_model_name": "HTMLModel",
            "_view_count": null,
            "_view_module": "@jupyter-widgets/controls",
            "_view_module_version": "1.5.0",
            "_view_name": "HTMLView",
            "description": "",
            "description_tooltip": null,
            "layout": "IPY_MODEL_7d911b7aff954e3f9bdba03e3f5cd2ac",
            "placeholder": "​",
            "style": "IPY_MODEL_ea670b4823ef46bfbf6cec518624fb35",
            "value": "Downloading: 100%"
          }
        },
        "9643f843d314446ebf6e65fbeeb724e7": {
          "model_module": "@jupyter-widgets/base",
          "model_module_version": "1.2.0",
          "model_name": "LayoutModel",
          "state": {
            "_model_module": "@jupyter-widgets/base",
            "_model_module_version": "1.2.0",
            "_model_name": "LayoutModel",
            "_view_count": null,
            "_view_module": "@jupyter-widgets/base",
            "_view_module_version": "1.2.0",
            "_view_name": "LayoutView",
            "align_content": null,
            "align_items": null,
            "align_self": null,
            "border": null,
            "bottom": null,
            "display": null,
            "flex": null,
            "flex_flow": null,
            "grid_area": null,
            "grid_auto_columns": null,
            "grid_auto_flow": null,
            "grid_auto_rows": null,
            "grid_column": null,
            "grid_gap": null,
            "grid_row": null,
            "grid_template_areas": null,
            "grid_template_columns": null,
            "grid_template_rows": null,
            "height": null,
            "justify_content": null,
            "justify_items": null,
            "left": null,
            "margin": null,
            "max_height": null,
            "max_width": null,
            "min_height": null,
            "min_width": null,
            "object_fit": null,
            "object_position": null,
            "order": null,
            "overflow": null,
            "overflow_x": null,
            "overflow_y": null,
            "padding": null,
            "right": null,
            "top": null,
            "visibility": null,
            "width": null
          }
        },
        "98709733a91e4b8ab750f56903465abb": {
          "model_module": "@jupyter-widgets/base",
          "model_module_version": "1.2.0",
          "model_name": "LayoutModel",
          "state": {
            "_model_module": "@jupyter-widgets/base",
            "_model_module_version": "1.2.0",
            "_model_name": "LayoutModel",
            "_view_count": null,
            "_view_module": "@jupyter-widgets/base",
            "_view_module_version": "1.2.0",
            "_view_name": "LayoutView",
            "align_content": null,
            "align_items": null,
            "align_self": null,
            "border": null,
            "bottom": null,
            "display": null,
            "flex": null,
            "flex_flow": null,
            "grid_area": null,
            "grid_auto_columns": null,
            "grid_auto_flow": null,
            "grid_auto_rows": null,
            "grid_column": null,
            "grid_gap": null,
            "grid_row": null,
            "grid_template_areas": null,
            "grid_template_columns": null,
            "grid_template_rows": null,
            "height": null,
            "justify_content": null,
            "justify_items": null,
            "left": null,
            "margin": null,
            "max_height": null,
            "max_width": null,
            "min_height": null,
            "min_width": null,
            "object_fit": null,
            "object_position": null,
            "order": null,
            "overflow": null,
            "overflow_x": null,
            "overflow_y": null,
            "padding": null,
            "right": null,
            "top": null,
            "visibility": null,
            "width": null
          }
        },
        "9b371217ce114aa3b904300bad255a4b": {
          "model_module": "@jupyter-widgets/base",
          "model_module_version": "1.2.0",
          "model_name": "LayoutModel",
          "state": {
            "_model_module": "@jupyter-widgets/base",
            "_model_module_version": "1.2.0",
            "_model_name": "LayoutModel",
            "_view_count": null,
            "_view_module": "@jupyter-widgets/base",
            "_view_module_version": "1.2.0",
            "_view_name": "LayoutView",
            "align_content": null,
            "align_items": null,
            "align_self": null,
            "border": null,
            "bottom": null,
            "display": null,
            "flex": null,
            "flex_flow": null,
            "grid_area": null,
            "grid_auto_columns": null,
            "grid_auto_flow": null,
            "grid_auto_rows": null,
            "grid_column": null,
            "grid_gap": null,
            "grid_row": null,
            "grid_template_areas": null,
            "grid_template_columns": null,
            "grid_template_rows": null,
            "height": null,
            "justify_content": null,
            "justify_items": null,
            "left": null,
            "margin": null,
            "max_height": null,
            "max_width": null,
            "min_height": null,
            "min_width": null,
            "object_fit": null,
            "object_position": null,
            "order": null,
            "overflow": null,
            "overflow_x": null,
            "overflow_y": null,
            "padding": null,
            "right": null,
            "top": null,
            "visibility": null,
            "width": null
          }
        },
        "9e2bb904a2df48e7bdb2a1b67cf24365": {
          "model_module": "@jupyter-widgets/controls",
          "model_module_version": "1.5.0",
          "model_name": "DescriptionStyleModel",
          "state": {
            "_model_module": "@jupyter-widgets/controls",
            "_model_module_version": "1.5.0",
            "_model_name": "DescriptionStyleModel",
            "_view_count": null,
            "_view_module": "@jupyter-widgets/base",
            "_view_module_version": "1.2.0",
            "_view_name": "StyleView",
            "description_width": ""
          }
        },
        "9efa12cbde00483eb9772d1c6b6f6171": {
          "model_module": "@jupyter-widgets/base",
          "model_module_version": "1.2.0",
          "model_name": "LayoutModel",
          "state": {
            "_model_module": "@jupyter-widgets/base",
            "_model_module_version": "1.2.0",
            "_model_name": "LayoutModel",
            "_view_count": null,
            "_view_module": "@jupyter-widgets/base",
            "_view_module_version": "1.2.0",
            "_view_name": "LayoutView",
            "align_content": null,
            "align_items": null,
            "align_self": null,
            "border": null,
            "bottom": null,
            "display": null,
            "flex": null,
            "flex_flow": null,
            "grid_area": null,
            "grid_auto_columns": null,
            "grid_auto_flow": null,
            "grid_auto_rows": null,
            "grid_column": null,
            "grid_gap": null,
            "grid_row": null,
            "grid_template_areas": null,
            "grid_template_columns": null,
            "grid_template_rows": null,
            "height": null,
            "justify_content": null,
            "justify_items": null,
            "left": null,
            "margin": null,
            "max_height": null,
            "max_width": null,
            "min_height": null,
            "min_width": null,
            "object_fit": null,
            "object_position": null,
            "order": null,
            "overflow": null,
            "overflow_x": null,
            "overflow_y": null,
            "padding": null,
            "right": null,
            "top": null,
            "visibility": null,
            "width": null
          }
        },
        "9fd1f79533b442b6b73c2a55279eb518": {
          "model_module": "@jupyter-widgets/base",
          "model_module_version": "1.2.0",
          "model_name": "LayoutModel",
          "state": {
            "_model_module": "@jupyter-widgets/base",
            "_model_module_version": "1.2.0",
            "_model_name": "LayoutModel",
            "_view_count": null,
            "_view_module": "@jupyter-widgets/base",
            "_view_module_version": "1.2.0",
            "_view_name": "LayoutView",
            "align_content": null,
            "align_items": null,
            "align_self": null,
            "border": null,
            "bottom": null,
            "display": null,
            "flex": null,
            "flex_flow": null,
            "grid_area": null,
            "grid_auto_columns": null,
            "grid_auto_flow": null,
            "grid_auto_rows": null,
            "grid_column": null,
            "grid_gap": null,
            "grid_row": null,
            "grid_template_areas": null,
            "grid_template_columns": null,
            "grid_template_rows": null,
            "height": null,
            "justify_content": null,
            "justify_items": null,
            "left": null,
            "margin": null,
            "max_height": null,
            "max_width": null,
            "min_height": null,
            "min_width": null,
            "object_fit": null,
            "object_position": null,
            "order": null,
            "overflow": null,
            "overflow_x": null,
            "overflow_y": null,
            "padding": null,
            "right": null,
            "top": null,
            "visibility": null,
            "width": null
          }
        },
        "a168945ac2254e70bc30f7ba1392453a": {
          "model_module": "@jupyter-widgets/controls",
          "model_module_version": "1.5.0",
          "model_name": "HTMLModel",
          "state": {
            "_dom_classes": [],
            "_model_module": "@jupyter-widgets/controls",
            "_model_module_version": "1.5.0",
            "_model_name": "HTMLModel",
            "_view_count": null,
            "_view_module": "@jupyter-widgets/controls",
            "_view_module_version": "1.5.0",
            "_view_name": "HTMLView",
            "description": "",
            "description_tooltip": null,
            "layout": "IPY_MODEL_98709733a91e4b8ab750f56903465abb",
            "placeholder": "​",
            "style": "IPY_MODEL_00ef818089004b0d8654dafce50b2155",
            "value": " 504/504 [00:00&lt;00:00, 13.9kB/s]"
          }
        },
        "a24f0c8516d4404c9c16ac91f04ff5dd": {
          "model_module": "@jupyter-widgets/controls",
          "model_module_version": "1.5.0",
          "model_name": "ProgressStyleModel",
          "state": {
            "_model_module": "@jupyter-widgets/controls",
            "_model_module_version": "1.5.0",
            "_model_name": "ProgressStyleModel",
            "_view_count": null,
            "_view_module": "@jupyter-widgets/base",
            "_view_module_version": "1.2.0",
            "_view_name": "StyleView",
            "bar_color": null,
            "description_width": ""
          }
        },
        "a610d0712ef0481d80c18985cbcd5291": {
          "model_module": "@jupyter-widgets/controls",
          "model_module_version": "1.5.0",
          "model_name": "HTMLModel",
          "state": {
            "_dom_classes": [],
            "_model_module": "@jupyter-widgets/controls",
            "_model_module_version": "1.5.0",
            "_model_name": "HTMLModel",
            "_view_count": null,
            "_view_module": "@jupyter-widgets/controls",
            "_view_module_version": "1.5.0",
            "_view_name": "HTMLView",
            "description": "",
            "description_tooltip": null,
            "layout": "IPY_MODEL_7cd406efb4b9463f9b43c0bd6566e252",
            "placeholder": "​",
            "style": "IPY_MODEL_4c4829f1ea8b4a0180dd11b51c666965",
            "value": " 665/665 [00:00&lt;00:00, 23.1kB/s]"
          }
        },
        "a6deebd1e66a4a42b31b63f55fc6254d": {
          "model_module": "@jupyter-widgets/base",
          "model_module_version": "1.2.0",
          "model_name": "LayoutModel",
          "state": {
            "_model_module": "@jupyter-widgets/base",
            "_model_module_version": "1.2.0",
            "_model_name": "LayoutModel",
            "_view_count": null,
            "_view_module": "@jupyter-widgets/base",
            "_view_module_version": "1.2.0",
            "_view_name": "LayoutView",
            "align_content": null,
            "align_items": null,
            "align_self": null,
            "border": null,
            "bottom": null,
            "display": null,
            "flex": null,
            "flex_flow": null,
            "grid_area": null,
            "grid_auto_columns": null,
            "grid_auto_flow": null,
            "grid_auto_rows": null,
            "grid_column": null,
            "grid_gap": null,
            "grid_row": null,
            "grid_template_areas": null,
            "grid_template_columns": null,
            "grid_template_rows": null,
            "height": null,
            "justify_content": null,
            "justify_items": null,
            "left": null,
            "margin": null,
            "max_height": null,
            "max_width": null,
            "min_height": null,
            "min_width": null,
            "object_fit": null,
            "object_position": null,
            "order": null,
            "overflow": null,
            "overflow_x": null,
            "overflow_y": null,
            "padding": null,
            "right": null,
            "top": null,
            "visibility": null,
            "width": null
          }
        },
        "a9c9a83f9d2d47c5879876f92a65bcfe": {
          "model_module": "@jupyter-widgets/controls",
          "model_module_version": "1.5.0",
          "model_name": "HTMLModel",
          "state": {
            "_dom_classes": [],
            "_model_module": "@jupyter-widgets/controls",
            "_model_module_version": "1.5.0",
            "_model_name": "HTMLModel",
            "_view_count": null,
            "_view_module": "@jupyter-widgets/controls",
            "_view_module_version": "1.5.0",
            "_view_name": "HTMLView",
            "description": "",
            "description_tooltip": null,
            "layout": "IPY_MODEL_c5de20bb1ad846a39026ca98accd9eb0",
            "placeholder": "​",
            "style": "IPY_MODEL_5836782e47484a4e8edd09317ec4dddd",
            "value": "Downloading: 100%"
          }
        },
        "b22dd0c47378459fb3e7f2e3361fc878": {
          "model_module": "@jupyter-widgets/controls",
          "model_module_version": "1.5.0",
          "model_name": "HTMLModel",
          "state": {
            "_dom_classes": [],
            "_model_module": "@jupyter-widgets/controls",
            "_model_module_version": "1.5.0",
            "_model_name": "HTMLModel",
            "_view_count": null,
            "_view_module": "@jupyter-widgets/controls",
            "_view_module_version": "1.5.0",
            "_view_name": "HTMLView",
            "description": "",
            "description_tooltip": null,
            "layout": "IPY_MODEL_7b02eec9af474256bdf1d5c1cca3d5c1",
            "placeholder": "​",
            "style": "IPY_MODEL_e1cae5daa40c4fa0bed064e1801bdc3c",
            "value": " 0.99M/0.99M [00:00&lt;00:00, 2.49MB/s]"
          }
        },
        "b5b5911d716f484dba3b7defb1477703": {
          "model_module": "@jupyter-widgets/controls",
          "model_module_version": "1.5.0",
          "model_name": "HBoxModel",
          "state": {
            "_dom_classes": [],
            "_model_module": "@jupyter-widgets/controls",
            "_model_module_version": "1.5.0",
            "_model_name": "HBoxModel",
            "_view_count": null,
            "_view_module": "@jupyter-widgets/controls",
            "_view_module_version": "1.5.0",
            "_view_name": "HBoxView",
            "box_style": "",
            "children": [
              "IPY_MODEL_28286c35e01a44f2a01dd34f000cee00",
              "IPY_MODEL_04e4ec55ef694349912a27f0c643cd75",
              "IPY_MODEL_897b0ddf9b57443dbf754c7a08b51723"
            ],
            "layout": "IPY_MODEL_16a6e0b3e2d944bfbdef4329101d6fcc"
          }
        },
        "bb18ebb24dbb48d1b3fd00391696e7bc": {
          "model_module": "@jupyter-widgets/controls",
          "model_module_version": "1.5.0",
          "model_name": "FloatProgressModel",
          "state": {
            "_dom_classes": [],
            "_model_module": "@jupyter-widgets/controls",
            "_model_module_version": "1.5.0",
            "_model_name": "FloatProgressModel",
            "_view_count": null,
            "_view_module": "@jupyter-widgets/controls",
            "_view_module_version": "1.5.0",
            "_view_name": "ProgressView",
            "bar_style": "success",
            "description": "",
            "description_tooltip": null,
            "layout": "IPY_MODEL_90a622f7c10e4be0ac69d7788dbaee6b",
            "max": 1355256,
            "min": 0,
            "orientation": "horizontal",
            "style": "IPY_MODEL_cfd86656ac344536819d5da3a4f6a751",
            "value": 1355256
          }
        },
        "bc6a337fb0f84f61aa0093f95a48bbfc": {
          "model_module": "@jupyter-widgets/controls",
          "model_module_version": "1.5.0",
          "model_name": "ProgressStyleModel",
          "state": {
            "_model_module": "@jupyter-widgets/controls",
            "_model_module_version": "1.5.0",
            "_model_name": "ProgressStyleModel",
            "_view_count": null,
            "_view_module": "@jupyter-widgets/base",
            "_view_module_version": "1.2.0",
            "_view_name": "StyleView",
            "bar_color": null,
            "description_width": ""
          }
        },
        "bfd0f03352f448e697c218465b6269d5": {
          "model_module": "@jupyter-widgets/base",
          "model_module_version": "1.2.0",
          "model_name": "LayoutModel",
          "state": {
            "_model_module": "@jupyter-widgets/base",
            "_model_module_version": "1.2.0",
            "_model_name": "LayoutModel",
            "_view_count": null,
            "_view_module": "@jupyter-widgets/base",
            "_view_module_version": "1.2.0",
            "_view_name": "LayoutView",
            "align_content": null,
            "align_items": null,
            "align_self": null,
            "border": null,
            "bottom": null,
            "display": null,
            "flex": null,
            "flex_flow": null,
            "grid_area": null,
            "grid_auto_columns": null,
            "grid_auto_flow": null,
            "grid_auto_rows": null,
            "grid_column": null,
            "grid_gap": null,
            "grid_row": null,
            "grid_template_areas": null,
            "grid_template_columns": null,
            "grid_template_rows": null,
            "height": null,
            "justify_content": null,
            "justify_items": null,
            "left": null,
            "margin": null,
            "max_height": null,
            "max_width": null,
            "min_height": null,
            "min_width": null,
            "object_fit": null,
            "object_position": null,
            "order": null,
            "overflow": null,
            "overflow_x": null,
            "overflow_y": null,
            "padding": null,
            "right": null,
            "top": null,
            "visibility": null,
            "width": null
          }
        },
        "c12967bdbf6b4745bccb222401ce58d4": {
          "model_module": "@jupyter-widgets/controls",
          "model_module_version": "1.5.0",
          "model_name": "HTMLModel",
          "state": {
            "_dom_classes": [],
            "_model_module": "@jupyter-widgets/controls",
            "_model_module_version": "1.5.0",
            "_model_name": "HTMLModel",
            "_view_count": null,
            "_view_module": "@jupyter-widgets/controls",
            "_view_module_version": "1.5.0",
            "_view_name": "HTMLView",
            "description": "",
            "description_tooltip": null,
            "layout": "IPY_MODEL_9efa12cbde00483eb9772d1c6b6f6171",
            "placeholder": "​",
            "style": "IPY_MODEL_c7e99c1f937d4f45a38fe8465c9d7450",
            "value": "Downloading: 100%"
          }
        },
        "c434c7a1f81c42dfafd5c4df437f3101": {
          "model_module": "@jupyter-widgets/controls",
          "model_module_version": "1.5.0",
          "model_name": "HBoxModel",
          "state": {
            "_dom_classes": [],
            "_model_module": "@jupyter-widgets/controls",
            "_model_module_version": "1.5.0",
            "_model_name": "HBoxModel",
            "_view_count": null,
            "_view_module": "@jupyter-widgets/controls",
            "_view_module_version": "1.5.0",
            "_view_name": "HBoxView",
            "box_style": "",
            "children": [
              "IPY_MODEL_1cf2858fdd2846d1b1c474171e4a6de1",
              "IPY_MODEL_079ec978021f48c7b3a45348290eae68",
              "IPY_MODEL_19fe5a1229d7403cb57bdf84327498a4"
            ],
            "layout": "IPY_MODEL_2f310da8ef4e426b8a3dc1e577bbea6d"
          }
        },
        "c5de20bb1ad846a39026ca98accd9eb0": {
          "model_module": "@jupyter-widgets/base",
          "model_module_version": "1.2.0",
          "model_name": "LayoutModel",
          "state": {
            "_model_module": "@jupyter-widgets/base",
            "_model_module_version": "1.2.0",
            "_model_name": "LayoutModel",
            "_view_count": null,
            "_view_module": "@jupyter-widgets/base",
            "_view_module_version": "1.2.0",
            "_view_name": "LayoutView",
            "align_content": null,
            "align_items": null,
            "align_self": null,
            "border": null,
            "bottom": null,
            "display": null,
            "flex": null,
            "flex_flow": null,
            "grid_area": null,
            "grid_auto_columns": null,
            "grid_auto_flow": null,
            "grid_auto_rows": null,
            "grid_column": null,
            "grid_gap": null,
            "grid_row": null,
            "grid_template_areas": null,
            "grid_template_columns": null,
            "grid_template_rows": null,
            "height": null,
            "justify_content": null,
            "justify_items": null,
            "left": null,
            "margin": null,
            "max_height": null,
            "max_width": null,
            "min_height": null,
            "min_width": null,
            "object_fit": null,
            "object_position": null,
            "order": null,
            "overflow": null,
            "overflow_x": null,
            "overflow_y": null,
            "padding": null,
            "right": null,
            "top": null,
            "visibility": null,
            "width": null
          }
        },
        "c6163886196942df93e133262fa85e88": {
          "model_module": "@jupyter-widgets/controls",
          "model_module_version": "1.5.0",
          "model_name": "FloatProgressModel",
          "state": {
            "_dom_classes": [],
            "_model_module": "@jupyter-widgets/controls",
            "_model_module_version": "1.5.0",
            "_model_name": "FloatProgressModel",
            "_view_count": null,
            "_view_module": "@jupyter-widgets/controls",
            "_view_module_version": "1.5.0",
            "_view_name": "ProgressView",
            "bar_style": "success",
            "description": "",
            "description_tooltip": null,
            "layout": "IPY_MODEL_0c6a367ab627490398c2755befac05e0",
            "max": 504,
            "min": 0,
            "orientation": "horizontal",
            "style": "IPY_MODEL_678baa80db1a4b17a927451e35b9c2f8",
            "value": 504
          }
        },
        "c7e99c1f937d4f45a38fe8465c9d7450": {
          "model_module": "@jupyter-widgets/controls",
          "model_module_version": "1.5.0",
          "model_name": "DescriptionStyleModel",
          "state": {
            "_model_module": "@jupyter-widgets/controls",
            "_model_module_version": "1.5.0",
            "_model_name": "DescriptionStyleModel",
            "_view_count": null,
            "_view_module": "@jupyter-widgets/base",
            "_view_module_version": "1.2.0",
            "_view_name": "StyleView",
            "description_width": ""
          }
        },
        "c9814f810e154b748fd890ed52bd71ad": {
          "model_module": "@jupyter-widgets/controls",
          "model_module_version": "1.5.0",
          "model_name": "HBoxModel",
          "state": {
            "_dom_classes": [],
            "_model_module": "@jupyter-widgets/controls",
            "_model_module_version": "1.5.0",
            "_model_name": "HBoxModel",
            "_view_count": null,
            "_view_module": "@jupyter-widgets/controls",
            "_view_module_version": "1.5.0",
            "_view_name": "HBoxView",
            "box_style": "",
            "children": [
              "IPY_MODEL_c12967bdbf6b4745bccb222401ce58d4",
              "IPY_MODEL_5fa2809e89e94087880d4d52762614a9",
              "IPY_MODEL_a610d0712ef0481d80c18985cbcd5291"
            ],
            "layout": "IPY_MODEL_9027a46364e54c8ea0371ac59144d779"
          }
        },
        "cd27f639dec24f239abf4e5f2e8d7e4d": {
          "model_module": "@jupyter-widgets/controls",
          "model_module_version": "1.5.0",
          "model_name": "HBoxModel",
          "state": {
            "_dom_classes": [],
            "_model_module": "@jupyter-widgets/controls",
            "_model_module_version": "1.5.0",
            "_model_name": "HBoxModel",
            "_view_count": null,
            "_view_module": "@jupyter-widgets/controls",
            "_view_module_version": "1.5.0",
            "_view_name": "HBoxView",
            "box_style": "",
            "children": [
              "IPY_MODEL_5105fc74cb0a4948b203eaf7f4a12c91",
              "IPY_MODEL_3d5ccfc41c2243ea875e1d0e384b5963",
              "IPY_MODEL_f6d8478b7d1a43db8383628b200d96e6"
            ],
            "layout": "IPY_MODEL_4f141d424c7148fd9ef47737828c07b8"
          }
        },
        "cfb4238180db4a6eab5fcc3c36aa322d": {
          "model_module": "@jupyter-widgets/base",
          "model_module_version": "1.2.0",
          "model_name": "LayoutModel",
          "state": {
            "_model_module": "@jupyter-widgets/base",
            "_model_module_version": "1.2.0",
            "_model_name": "LayoutModel",
            "_view_count": null,
            "_view_module": "@jupyter-widgets/base",
            "_view_module_version": "1.2.0",
            "_view_name": "LayoutView",
            "align_content": null,
            "align_items": null,
            "align_self": null,
            "border": null,
            "bottom": null,
            "display": null,
            "flex": null,
            "flex_flow": null,
            "grid_area": null,
            "grid_auto_columns": null,
            "grid_auto_flow": null,
            "grid_auto_rows": null,
            "grid_column": null,
            "grid_gap": null,
            "grid_row": null,
            "grid_template_areas": null,
            "grid_template_columns": null,
            "grid_template_rows": null,
            "height": null,
            "justify_content": null,
            "justify_items": null,
            "left": null,
            "margin": null,
            "max_height": null,
            "max_width": null,
            "min_height": null,
            "min_width": null,
            "object_fit": null,
            "object_position": null,
            "order": null,
            "overflow": null,
            "overflow_x": null,
            "overflow_y": null,
            "padding": null,
            "right": null,
            "top": null,
            "visibility": null,
            "width": null
          }
        },
        "cfd86656ac344536819d5da3a4f6a751": {
          "model_module": "@jupyter-widgets/controls",
          "model_module_version": "1.5.0",
          "model_name": "ProgressStyleModel",
          "state": {
            "_model_module": "@jupyter-widgets/controls",
            "_model_module_version": "1.5.0",
            "_model_name": "ProgressStyleModel",
            "_view_count": null,
            "_view_module": "@jupyter-widgets/base",
            "_view_module_version": "1.2.0",
            "_view_name": "StyleView",
            "bar_color": null,
            "description_width": ""
          }
        },
        "d2d5d59462164b3eae63f6d9edfcb1a0": {
          "model_module": "@jupyter-widgets/controls",
          "model_module_version": "1.5.0",
          "model_name": "ProgressStyleModel",
          "state": {
            "_model_module": "@jupyter-widgets/controls",
            "_model_module_version": "1.5.0",
            "_model_name": "ProgressStyleModel",
            "_view_count": null,
            "_view_module": "@jupyter-widgets/base",
            "_view_module_version": "1.2.0",
            "_view_name": "StyleView",
            "bar_color": null,
            "description_width": ""
          }
        },
        "d33a3c28bc794aa0a69cf0fdef30da59": {
          "model_module": "@jupyter-widgets/controls",
          "model_module_version": "1.5.0",
          "model_name": "HTMLModel",
          "state": {
            "_dom_classes": [],
            "_model_module": "@jupyter-widgets/controls",
            "_model_module_version": "1.5.0",
            "_model_name": "HTMLModel",
            "_view_count": null,
            "_view_module": "@jupyter-widgets/controls",
            "_view_module_version": "1.5.0",
            "_view_name": "HTMLView",
            "description": "",
            "description_tooltip": null,
            "layout": "IPY_MODEL_8325ba2e54f3496aa4f632f9f95b9108",
            "placeholder": "​",
            "style": "IPY_MODEL_407d694b053a4db7b3e3962fb3895678",
            "value": "Downloading: 100%"
          }
        },
        "d7cf67c7f5674eb29c9227326e6cfe73": {
          "model_module": "@jupyter-widgets/base",
          "model_module_version": "1.2.0",
          "model_name": "LayoutModel",
          "state": {
            "_model_module": "@jupyter-widgets/base",
            "_model_module_version": "1.2.0",
            "_model_name": "LayoutModel",
            "_view_count": null,
            "_view_module": "@jupyter-widgets/base",
            "_view_module_version": "1.2.0",
            "_view_name": "LayoutView",
            "align_content": null,
            "align_items": null,
            "align_self": null,
            "border": null,
            "bottom": null,
            "display": null,
            "flex": null,
            "flex_flow": null,
            "grid_area": null,
            "grid_auto_columns": null,
            "grid_auto_flow": null,
            "grid_auto_rows": null,
            "grid_column": null,
            "grid_gap": null,
            "grid_row": null,
            "grid_template_areas": null,
            "grid_template_columns": null,
            "grid_template_rows": null,
            "height": null,
            "justify_content": null,
            "justify_items": null,
            "left": null,
            "margin": null,
            "max_height": null,
            "max_width": null,
            "min_height": null,
            "min_width": null,
            "object_fit": null,
            "object_position": null,
            "order": null,
            "overflow": null,
            "overflow_x": null,
            "overflow_y": null,
            "padding": null,
            "right": null,
            "top": null,
            "visibility": null,
            "width": null
          }
        },
        "db455fad64a34e92ae98b7c4284024ee": {
          "model_module": "@jupyter-widgets/base",
          "model_module_version": "1.2.0",
          "model_name": "LayoutModel",
          "state": {
            "_model_module": "@jupyter-widgets/base",
            "_model_module_version": "1.2.0",
            "_model_name": "LayoutModel",
            "_view_count": null,
            "_view_module": "@jupyter-widgets/base",
            "_view_module_version": "1.2.0",
            "_view_name": "LayoutView",
            "align_content": null,
            "align_items": null,
            "align_self": null,
            "border": null,
            "bottom": null,
            "display": null,
            "flex": null,
            "flex_flow": null,
            "grid_area": null,
            "grid_auto_columns": null,
            "grid_auto_flow": null,
            "grid_auto_rows": null,
            "grid_column": null,
            "grid_gap": null,
            "grid_row": null,
            "grid_template_areas": null,
            "grid_template_columns": null,
            "grid_template_rows": null,
            "height": null,
            "justify_content": null,
            "justify_items": null,
            "left": null,
            "margin": null,
            "max_height": null,
            "max_width": null,
            "min_height": null,
            "min_width": null,
            "object_fit": null,
            "object_position": null,
            "order": null,
            "overflow": null,
            "overflow_x": null,
            "overflow_y": null,
            "padding": null,
            "right": null,
            "top": null,
            "visibility": null,
            "width": null
          }
        },
        "db8f4dc5f21c4ba78b52ea6930168698": {
          "model_module": "@jupyter-widgets/controls",
          "model_module_version": "1.5.0",
          "model_name": "DescriptionStyleModel",
          "state": {
            "_model_module": "@jupyter-widgets/controls",
            "_model_module_version": "1.5.0",
            "_model_name": "DescriptionStyleModel",
            "_view_count": null,
            "_view_module": "@jupyter-widgets/base",
            "_view_module_version": "1.2.0",
            "_view_name": "StyleView",
            "description_width": ""
          }
        },
        "e12f5c2437a04454a5e88513122c03a3": {
          "model_module": "@jupyter-widgets/controls",
          "model_module_version": "1.5.0",
          "model_name": "HBoxModel",
          "state": {
            "_dom_classes": [],
            "_model_module": "@jupyter-widgets/controls",
            "_model_module_version": "1.5.0",
            "_model_name": "HBoxModel",
            "_view_count": null,
            "_view_module": "@jupyter-widgets/controls",
            "_view_module_version": "1.5.0",
            "_view_name": "HBoxView",
            "box_style": "",
            "children": [
              "IPY_MODEL_962927ab039f4cd9b93c8c2c5a85fa8f",
              "IPY_MODEL_64047152712844c081568d72939428a0",
              "IPY_MODEL_4f944a6db7f9437c864c61a0c82edac1"
            ],
            "layout": "IPY_MODEL_bfd0f03352f448e697c218465b6269d5"
          }
        },
        "e1cae5daa40c4fa0bed064e1801bdc3c": {
          "model_module": "@jupyter-widgets/controls",
          "model_module_version": "1.5.0",
          "model_name": "DescriptionStyleModel",
          "state": {
            "_model_module": "@jupyter-widgets/controls",
            "_model_module_version": "1.5.0",
            "_model_name": "DescriptionStyleModel",
            "_view_count": null,
            "_view_module": "@jupyter-widgets/base",
            "_view_module_version": "1.2.0",
            "_view_name": "StyleView",
            "description_width": ""
          }
        },
        "ea670b4823ef46bfbf6cec518624fb35": {
          "model_module": "@jupyter-widgets/controls",
          "model_module_version": "1.5.0",
          "model_name": "DescriptionStyleModel",
          "state": {
            "_model_module": "@jupyter-widgets/controls",
            "_model_module_version": "1.5.0",
            "_model_name": "DescriptionStyleModel",
            "_view_count": null,
            "_view_module": "@jupyter-widgets/base",
            "_view_module_version": "1.2.0",
            "_view_name": "StyleView",
            "description_width": ""
          }
        },
        "eaf1a9cf338a46c593458250cea52065": {
          "model_module": "@jupyter-widgets/controls",
          "model_module_version": "1.5.0",
          "model_name": "DescriptionStyleModel",
          "state": {
            "_model_module": "@jupyter-widgets/controls",
            "_model_module_version": "1.5.0",
            "_model_name": "DescriptionStyleModel",
            "_view_count": null,
            "_view_module": "@jupyter-widgets/base",
            "_view_module_version": "1.2.0",
            "_view_name": "StyleView",
            "description_width": ""
          }
        },
        "ef0d898dc18749c580407d2d5fc7f005": {
          "model_module": "@jupyter-widgets/controls",
          "model_module_version": "1.5.0",
          "model_name": "ProgressStyleModel",
          "state": {
            "_model_module": "@jupyter-widgets/controls",
            "_model_module_version": "1.5.0",
            "_model_name": "ProgressStyleModel",
            "_view_count": null,
            "_view_module": "@jupyter-widgets/base",
            "_view_module_version": "1.2.0",
            "_view_name": "StyleView",
            "bar_color": null,
            "description_width": ""
          }
        },
        "f0c50de6c03e4a36a25aeb6e3b9f213f": {
          "model_module": "@jupyter-widgets/controls",
          "model_module_version": "1.5.0",
          "model_name": "HTMLModel",
          "state": {
            "_dom_classes": [],
            "_model_module": "@jupyter-widgets/controls",
            "_model_module_version": "1.5.0",
            "_model_name": "HTMLModel",
            "_view_count": null,
            "_view_module": "@jupyter-widgets/controls",
            "_view_module_version": "1.5.0",
            "_view_name": "HTMLView",
            "description": "",
            "description_tooltip": null,
            "layout": "IPY_MODEL_fcfde74621a0494abf965ce97e365231",
            "placeholder": "​",
            "style": "IPY_MODEL_fd7a35ca09424052a9cfd4f4ac5813d7",
            "value": "Downloading: 100%"
          }
        },
        "f4d34b5cccaf4420a7fbb8bb96bb7d03": {
          "model_module": "@jupyter-widgets/controls",
          "model_module_version": "1.5.0",
          "model_name": "HBoxModel",
          "state": {
            "_dom_classes": [],
            "_model_module": "@jupyter-widgets/controls",
            "_model_module_version": "1.5.0",
            "_model_name": "HBoxModel",
            "_view_count": null,
            "_view_module": "@jupyter-widgets/controls",
            "_view_module_version": "1.5.0",
            "_view_name": "HBoxView",
            "box_style": "",
            "children": [
              "IPY_MODEL_60dca4268bbb4f0f80642aaf50b0afed",
              "IPY_MODEL_1cbe35168e864643bb0ca14818852f6c",
              "IPY_MODEL_b22dd0c47378459fb3e7f2e3361fc878"
            ],
            "layout": "IPY_MODEL_29f401219ee845959996f3977b2e476e"
          }
        },
        "f664bad86eeb4ea4bf95e95333b4bba0": {
          "model_module": "@jupyter-widgets/controls",
          "model_module_version": "1.5.0",
          "model_name": "FloatProgressModel",
          "state": {
            "_dom_classes": [],
            "_model_module": "@jupyter-widgets/controls",
            "_model_module_version": "1.5.0",
            "_model_name": "FloatProgressModel",
            "_view_count": null,
            "_view_module": "@jupyter-widgets/controls",
            "_view_module_version": "1.5.0",
            "_view_name": "ProgressView",
            "bar_style": "success",
            "description": "",
            "description_tooltip": null,
            "layout": "IPY_MODEL_523775cc95924a70930a6c89e80b5e7c",
            "max": 124,
            "min": 0,
            "orientation": "horizontal",
            "style": "IPY_MODEL_bc6a337fb0f84f61aa0093f95a48bbfc",
            "value": 124
          }
        },
        "f6d8478b7d1a43db8383628b200d96e6": {
          "model_module": "@jupyter-widgets/controls",
          "model_module_version": "1.5.0",
          "model_name": "HTMLModel",
          "state": {
            "_dom_classes": [],
            "_model_module": "@jupyter-widgets/controls",
            "_model_module_version": "1.5.0",
            "_model_name": "HTMLModel",
            "_view_count": null,
            "_view_module": "@jupyter-widgets/controls",
            "_view_module_version": "1.5.0",
            "_view_name": "HTMLView",
            "description": "",
            "description_tooltip": null,
            "layout": "IPY_MODEL_a6deebd1e66a4a42b31b63f55fc6254d",
            "placeholder": "​",
            "style": "IPY_MODEL_044889016fde493d962c0425cce64a02",
            "value": " 446k/446k [00:00&lt;00:00, 2.24MB/s]"
          }
        },
        "fcfde74621a0494abf965ce97e365231": {
          "model_module": "@jupyter-widgets/base",
          "model_module_version": "1.2.0",
          "model_name": "LayoutModel",
          "state": {
            "_model_module": "@jupyter-widgets/base",
            "_model_module_version": "1.2.0",
            "_model_name": "LayoutModel",
            "_view_count": null,
            "_view_module": "@jupyter-widgets/base",
            "_view_module_version": "1.2.0",
            "_view_name": "LayoutView",
            "align_content": null,
            "align_items": null,
            "align_self": null,
            "border": null,
            "bottom": null,
            "display": null,
            "flex": null,
            "flex_flow": null,
            "grid_area": null,
            "grid_auto_columns": null,
            "grid_auto_flow": null,
            "grid_auto_rows": null,
            "grid_column": null,
            "grid_gap": null,
            "grid_row": null,
            "grid_template_areas": null,
            "grid_template_columns": null,
            "grid_template_rows": null,
            "height": null,
            "justify_content": null,
            "justify_items": null,
            "left": null,
            "margin": null,
            "max_height": null,
            "max_width": null,
            "min_height": null,
            "min_width": null,
            "object_fit": null,
            "object_position": null,
            "order": null,
            "overflow": null,
            "overflow_x": null,
            "overflow_y": null,
            "padding": null,
            "right": null,
            "top": null,
            "visibility": null,
            "width": null
          }
        },
        "fd7a35ca09424052a9cfd4f4ac5813d7": {
          "model_module": "@jupyter-widgets/controls",
          "model_module_version": "1.5.0",
          "model_name": "DescriptionStyleModel",
          "state": {
            "_model_module": "@jupyter-widgets/controls",
            "_model_module_version": "1.5.0",
            "_model_name": "DescriptionStyleModel",
            "_view_count": null,
            "_view_module": "@jupyter-widgets/base",
            "_view_module_version": "1.2.0",
            "_view_name": "StyleView",
            "description_width": ""
          }
        }
      }
    }
  },
  "nbformat": 4,
  "nbformat_minor": 0
}
